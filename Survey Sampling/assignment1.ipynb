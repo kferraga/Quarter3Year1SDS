{
 "cells": [
  {
   "cell_type": "markdown",
   "source": [
    "# Week 1: Warm-Up\n",
    "#### Name: Kai Ferragallo-Hawkins\n",
    "#### Date: 16.1.2023"
   ],
   "metadata": {
    "collapsed": false
   },
   "id": "d29b3ad00d956750"
  },
  {
   "cell_type": "markdown",
   "source": [
    "## #2: Course Learning Goals\n",
    "\n",
    "I am not very experienced in survey sampling. While I have a basic overview of survey techniques from previous stats courses and have quantitatively searched through survey results, I have not delved into topics like simulation study or cluster sampling.\n",
    "\n",
    "So, my learning goals for this course are, broadly, to simply learn something new. I also aim to improve my skills in Python alongside this, which is why I aim to stick with this language during the course.\n",
    "\n",
    "## #1 & 3: Importing and Labeling Province17\n",
    "When importing the province17 txt file, I set the delimiter to be a tab (\"\\t\") so that it creates multiple columns and changed the encoding to Latin-1 due the encoding of the txt file (Latin-1 encodes for letters in the Latin alphabet, UTF-8 is for all valid character code points)."
   ],
   "metadata": {
    "collapsed": false
   },
   "id": "3498fdc2bb43550e"
  },
  {
   "cell_type": "code",
   "execution_count": 6,
   "id": "initial_id",
   "metadata": {
    "collapsed": true,
    "ExecuteTime": {
     "end_time": "2024-01-16T13:20:32.142059Z",
     "start_time": "2024-01-16T13:20:32.114548500Z"
    }
   },
   "outputs": [
    {
     "data": {
      "text/plain": "   Municipality  id   POP17  LAB17  UE17  HOU17  URB17_new\n0    Hankasalmi   1    5019   1829   222   2376          0\n1        Joutsa   2    4567   1605   229   2442          1\n2     Jyväskylä   3  140188  61250  8337  71481          1\n3         Jämsä   4   20877   7989  1175  10647          1\n4   Kannonkoski   5    1408    473    68    672          0\n5      Karstula   6    4146   1468   227   1974          1\n6        Keuruu   7    9919   3517   493   4970          1\n7       Kinnula   8    1656    522    97    711          1\n8     Kivijärvi   9    1132    363    42    539          1\n9     Konnevesi  10    2748   1022   134   1339          0\n10    Kuhmoinen  11    2252    734    99   1250          1\n11     Kyyjärvi  12    1352    484    61    622          1\n12       Laukaa  13   18978   8082   827   7819          1\n13      Luhanka  14     734    244    26    372          0\n14       Multia  15    1636    570    59    776          0\n15      Muurame  16   10097   4749   419   4144          1\n16   Petäjävesi  17    3920   1611   175   1766          1\n17   Pihtipudas  18    4127   1548   201   2000          0\n18   Saarijärvi  19    9589   3368   631   4738          1\n19     Toivakka  20    2384    956   106   1070          0\n20     Uurainen  21    3747   1502   174   1440          0\n21   Viitasaari  22    6411   2259   334   3273          1\n22    Äänekoski  23   19144   7239  1128   9352          1",
      "text/html": "<div>\n<style scoped>\n    .dataframe tbody tr th:only-of-type {\n        vertical-align: middle;\n    }\n\n    .dataframe tbody tr th {\n        vertical-align: top;\n    }\n\n    .dataframe thead th {\n        text-align: right;\n    }\n</style>\n<table border=\"1\" class=\"dataframe\">\n  <thead>\n    <tr style=\"text-align: right;\">\n      <th></th>\n      <th>Municipality</th>\n      <th>id</th>\n      <th>POP17</th>\n      <th>LAB17</th>\n      <th>UE17</th>\n      <th>HOU17</th>\n      <th>URB17_new</th>\n    </tr>\n  </thead>\n  <tbody>\n    <tr>\n      <th>0</th>\n      <td>Hankasalmi</td>\n      <td>1</td>\n      <td>5019</td>\n      <td>1829</td>\n      <td>222</td>\n      <td>2376</td>\n      <td>0</td>\n    </tr>\n    <tr>\n      <th>1</th>\n      <td>Joutsa</td>\n      <td>2</td>\n      <td>4567</td>\n      <td>1605</td>\n      <td>229</td>\n      <td>2442</td>\n      <td>1</td>\n    </tr>\n    <tr>\n      <th>2</th>\n      <td>Jyväskylä</td>\n      <td>3</td>\n      <td>140188</td>\n      <td>61250</td>\n      <td>8337</td>\n      <td>71481</td>\n      <td>1</td>\n    </tr>\n    <tr>\n      <th>3</th>\n      <td>Jämsä</td>\n      <td>4</td>\n      <td>20877</td>\n      <td>7989</td>\n      <td>1175</td>\n      <td>10647</td>\n      <td>1</td>\n    </tr>\n    <tr>\n      <th>4</th>\n      <td>Kannonkoski</td>\n      <td>5</td>\n      <td>1408</td>\n      <td>473</td>\n      <td>68</td>\n      <td>672</td>\n      <td>0</td>\n    </tr>\n    <tr>\n      <th>5</th>\n      <td>Karstula</td>\n      <td>6</td>\n      <td>4146</td>\n      <td>1468</td>\n      <td>227</td>\n      <td>1974</td>\n      <td>1</td>\n    </tr>\n    <tr>\n      <th>6</th>\n      <td>Keuruu</td>\n      <td>7</td>\n      <td>9919</td>\n      <td>3517</td>\n      <td>493</td>\n      <td>4970</td>\n      <td>1</td>\n    </tr>\n    <tr>\n      <th>7</th>\n      <td>Kinnula</td>\n      <td>8</td>\n      <td>1656</td>\n      <td>522</td>\n      <td>97</td>\n      <td>711</td>\n      <td>1</td>\n    </tr>\n    <tr>\n      <th>8</th>\n      <td>Kivijärvi</td>\n      <td>9</td>\n      <td>1132</td>\n      <td>363</td>\n      <td>42</td>\n      <td>539</td>\n      <td>1</td>\n    </tr>\n    <tr>\n      <th>9</th>\n      <td>Konnevesi</td>\n      <td>10</td>\n      <td>2748</td>\n      <td>1022</td>\n      <td>134</td>\n      <td>1339</td>\n      <td>0</td>\n    </tr>\n    <tr>\n      <th>10</th>\n      <td>Kuhmoinen</td>\n      <td>11</td>\n      <td>2252</td>\n      <td>734</td>\n      <td>99</td>\n      <td>1250</td>\n      <td>1</td>\n    </tr>\n    <tr>\n      <th>11</th>\n      <td>Kyyjärvi</td>\n      <td>12</td>\n      <td>1352</td>\n      <td>484</td>\n      <td>61</td>\n      <td>622</td>\n      <td>1</td>\n    </tr>\n    <tr>\n      <th>12</th>\n      <td>Laukaa</td>\n      <td>13</td>\n      <td>18978</td>\n      <td>8082</td>\n      <td>827</td>\n      <td>7819</td>\n      <td>1</td>\n    </tr>\n    <tr>\n      <th>13</th>\n      <td>Luhanka</td>\n      <td>14</td>\n      <td>734</td>\n      <td>244</td>\n      <td>26</td>\n      <td>372</td>\n      <td>0</td>\n    </tr>\n    <tr>\n      <th>14</th>\n      <td>Multia</td>\n      <td>15</td>\n      <td>1636</td>\n      <td>570</td>\n      <td>59</td>\n      <td>776</td>\n      <td>0</td>\n    </tr>\n    <tr>\n      <th>15</th>\n      <td>Muurame</td>\n      <td>16</td>\n      <td>10097</td>\n      <td>4749</td>\n      <td>419</td>\n      <td>4144</td>\n      <td>1</td>\n    </tr>\n    <tr>\n      <th>16</th>\n      <td>Petäjävesi</td>\n      <td>17</td>\n      <td>3920</td>\n      <td>1611</td>\n      <td>175</td>\n      <td>1766</td>\n      <td>1</td>\n    </tr>\n    <tr>\n      <th>17</th>\n      <td>Pihtipudas</td>\n      <td>18</td>\n      <td>4127</td>\n      <td>1548</td>\n      <td>201</td>\n      <td>2000</td>\n      <td>0</td>\n    </tr>\n    <tr>\n      <th>18</th>\n      <td>Saarijärvi</td>\n      <td>19</td>\n      <td>9589</td>\n      <td>3368</td>\n      <td>631</td>\n      <td>4738</td>\n      <td>1</td>\n    </tr>\n    <tr>\n      <th>19</th>\n      <td>Toivakka</td>\n      <td>20</td>\n      <td>2384</td>\n      <td>956</td>\n      <td>106</td>\n      <td>1070</td>\n      <td>0</td>\n    </tr>\n    <tr>\n      <th>20</th>\n      <td>Uurainen</td>\n      <td>21</td>\n      <td>3747</td>\n      <td>1502</td>\n      <td>174</td>\n      <td>1440</td>\n      <td>0</td>\n    </tr>\n    <tr>\n      <th>21</th>\n      <td>Viitasaari</td>\n      <td>22</td>\n      <td>6411</td>\n      <td>2259</td>\n      <td>334</td>\n      <td>3273</td>\n      <td>1</td>\n    </tr>\n    <tr>\n      <th>22</th>\n      <td>Äänekoski</td>\n      <td>23</td>\n      <td>19144</td>\n      <td>7239</td>\n      <td>1128</td>\n      <td>9352</td>\n      <td>1</td>\n    </tr>\n  </tbody>\n</table>\n</div>"
     },
     "metadata": {},
     "output_type": "display_data"
    }
   ],
   "source": [
    "import pandas as pd\n",
    "\n",
    "# Importing Province17 Data\n",
    "province17 = pd.read_csv(\"files/assignment1/province17.txt\", delimiter = '\\t', encoding='latin-1')\n",
    "\n",
    "# Displaying the newly imported table\n",
    "display(province17)\n",
    "\n"
   ]
  }
 ],
 "metadata": {
  "kernelspec": {
   "display_name": "Python 3",
   "language": "python",
   "name": "python3"
  },
  "language_info": {
   "codemirror_mode": {
    "name": "ipython",
    "version": 2
   },
   "file_extension": ".py",
   "mimetype": "text/x-python",
   "name": "python",
   "nbconvert_exporter": "python",
   "pygments_lexer": "ipython2",
   "version": "2.7.6"
  }
 },
 "nbformat": 4,
 "nbformat_minor": 5
}
