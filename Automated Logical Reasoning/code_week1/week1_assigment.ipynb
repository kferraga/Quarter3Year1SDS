{
 "cells": [
  {
   "cell_type": "markdown",
   "id": "9ac8c489f547fa7",
   "metadata": {
    "collapsed": false
   },
   "source": [
    "# Automated Logical Reasoning - Assignment 1 Problem 3 and Feedback\n",
    "#### Name: Kai Ferragallo-Hawkins\n",
    "#### Date: 28.3.2024\n",
    "### General Description\n",
    "The goal of this code is to implement the SAT encoding of graph 3-coloring, and to solve a graph 3-coloring using a SAT solver.\n"
   ]
  },
  {
   "cell_type": "markdown",
   "id": "50215d85e3f8fc0a",
   "metadata": {
    "collapsed": false
   },
   "source": [
    "## Problem 3a - Implementing DIMACS CNF Encoding\n",
    "You can see the class file \"encoder_week1\" or HTML pdoc explanation to see the more detailed code for how I choose to encode files for this assignment."
   ]
  },
  {
   "cell_type": "code",
   "execution_count": 443,
   "id": "initial_id",
   "metadata": {
    "collapsed": true,
    "jupyter": {
     "outputs_hidden": true
    },
    "ExecuteTime": {
     "end_time": "2024-03-28T12:46:24.056469100Z",
     "start_time": "2024-03-28T12:46:24.011018800Z"
    }
   },
   "outputs": [
    {
     "name": "stdout",
     "output_type": "stream",
     "text": [
      "Original Argument Index: {'a': 1, 'b': 2, 'c': 3, 'd': 4, 'e': 5, 'f': 6, 'g': 7}\n",
      "Color Argument Index: {'a': [1, 8, 15], 'b': [2, 9, 16], 'c': [3, 10, 17], 'd': [4, 11, 18], 'e': [5, 12, 19], 'f': [6, 13, 20], 'g': [7, 14, 21]}\n",
      "Edges: [['a', 'b'], ['a', 'c'], ['a', 'g'], ['b', 'c'], ['b', 'd'], ['c', 'd'], ['d', 'e'], ['d', 'f'], ['e', 'f'], ['e', 'g'], ['f', 'g']]\n",
      "DIMACS CNF Encoding:\n",
      "p cnf 21 61\n",
      "1 8 15 0\n",
      "-1 -8 0\n",
      "-1 -15 0\n",
      "-8 -15 0\n",
      "2 9 16 0\n",
      "-2 -9 0\n",
      "-2 -16 0\n",
      "-9 -16 0\n",
      "3 10 17 0\n",
      "-3 -10 0\n",
      "-3 -17 0\n",
      "-10 -17 0\n",
      "4 11 18 0\n",
      "-4 -11 0\n",
      "-4 -18 0\n",
      "-11 -18 0\n",
      "5 12 19 0\n",
      "-5 -12 0\n",
      "-5 -19 0\n",
      "-12 -19 0\n",
      "6 13 20 0\n",
      "-6 -13 0\n",
      "-6 -20 0\n",
      "-13 -20 0\n",
      "7 14 21 0\n",
      "-7 -14 0\n",
      "-7 -21 0\n",
      "-14 -21 0\n",
      "-1 -2 0\n",
      "-8 -9 0\n",
      "-15 -16 0\n",
      "-1 -3 0\n",
      "-8 -10 0\n",
      "-15 -17 0\n",
      "-1 -7 0\n",
      "-8 -14 0\n",
      "-15 -21 0\n",
      "-2 -3 0\n",
      "-9 -10 0\n",
      "-16 -17 0\n",
      "-2 -4 0\n",
      "-9 -11 0\n",
      "-16 -18 0\n",
      "-3 -4 0\n",
      "-10 -11 0\n",
      "-17 -18 0\n",
      "-4 -5 0\n",
      "-11 -12 0\n",
      "-18 -19 0\n",
      "-4 -6 0\n",
      "-11 -13 0\n",
      "-18 -20 0\n",
      "-5 -6 0\n",
      "-12 -13 0\n",
      "-19 -20 0\n",
      "-5 -7 0\n",
      "-12 -14 0\n",
      "-19 -21 0\n",
      "-6 -7 0\n",
      "-13 -14 0\n",
      "-20 -21 0\n"
     ]
    }
   ],
   "source": [
    "import importlib\n",
    "import encoder_week1 as en\n",
    "\n",
    "# Reloads functions from en when testing, else Jupyter will set them to sys and not update.\n",
    "importlib.reload(en)\n",
    "\n",
    "# Reading file input\n",
    "color3_encoding_3b = en.DIMACS_CNF_Encoding()\n",
    "color3_encoding_3b.read_graph_input(\"problem3b.apx\")\n",
    "print(f\"Original Argument Index: {color3_encoding_3b.arg_index}\")\n",
    "\n",
    "# CNF encoding and showing argument index change/edges. Add_colors can be run separately.\n",
    "color3_encoding_3b.cnf_color_encoding(colors=3)\n",
    "print(f\"Color Argument Index: {color3_encoding_3b.arg_index}\")\n",
    "print(f\"Edges: {color3_encoding_3b.edges}\")\n",
    "\n",
    "# Printing DIMACS CNF encoding into console. If file_print_loc is false, will not print to any location.\n",
    "print(\"DIMACS CNF Encoding:\")\n",
    "color3_encoding_3b.cnf_printing(console=True, file_print_loc=\"problem3b_solution.apx\")"
   ]
  },
  {
   "cell_type": "markdown",
   "id": "8decc837a8b0796a",
   "metadata": {
    "collapsed": false
   },
   "source": [
    "## Problem 3b - Check if Graph is 3-Colorable\n",
    "Here, I use Glucose42 to check if the graph for problem 3b is 3-colorable. The answer found is **False**."
   ]
  },
  {
   "cell_type": "code",
   "execution_count": 444,
   "id": "6e7092082b6697ff",
   "metadata": {
    "collapsed": false,
    "ExecuteTime": {
     "end_time": "2024-03-28T12:46:24.057472800Z",
     "start_time": "2024-03-28T12:46:24.019236800Z"
    }
   },
   "outputs": [
    {
     "name": "stdout",
     "output_type": "stream",
     "text": [
      "Is there a solution to problem 3b? The answer is... False\n",
      "None\n"
     ]
    }
   ],
   "source": [
    "from pysat.solvers import Glucose42\n",
    "\n",
    "# Creating Glucose42 solver with the color3_encoding results as an input\n",
    "g_3b = Glucose42(bootstrap_with=color3_encoding_3b.dimacs_cnf)\n",
    "\n",
    "# Solving problem 3b\n",
    "solution_3b_tf = g_3b.solve()\n",
    "print(f\"Is there a solution to problem 3b? The answer is... {solution_3b_tf}\")\n",
    "solution_3b = g_3b.get_model()\n",
    "print(solution_3b)"
   ]
  },
  {
   "cell_type": "markdown",
   "id": "958f264db37efbd8",
   "metadata": {
    "collapsed": false
   },
   "source": []
  },
  {
   "cell_type": "markdown",
   "id": "d9cdd29b31884519",
   "metadata": {
    "collapsed": false
   },
   "source": [
    "## Problem 3c - Check if Adjusted Graph is 3-Colorable\n",
    "Here, I use Glucose42 to check if the graph for problem 3c is 3-colorable, if the edge {a,c} is removed from graph 3b. The answer found is **True**."
   ]
  },
  {
   "cell_type": "code",
   "execution_count": 445,
   "id": "d8bd31d6431bee7c",
   "metadata": {
    "collapsed": false,
    "ExecuteTime": {
     "end_time": "2024-03-28T12:46:24.058474600Z",
     "start_time": "2024-03-28T12:46:24.027166400Z"
    }
   },
   "outputs": [
    {
     "name": "stdout",
     "output_type": "stream",
     "text": [
      "Is there a solution to problem 3b? The answer is... True\n",
      "The solution is: [1, -2, 3, -4, -5, 6, -7, -8, -9, -10, 11, -12, -13, 14, -15, 16, -17, -18, 19, -20, -21]\n",
      "Or better stated, the colors are...\n",
      "{'a': 1, 'b': 3, 'c': 1, 'd': 2, 'e': 3, 'f': 1, 'g': 2}\n"
     ]
    }
   ],
   "source": [
    "# Creating new encoding with edge {a,c} removed\n",
    "color3_encoding_3c = en.DIMACS_CNF_Encoding()\n",
    "color3_encoding_3c.read_graph_input(\"problem3c.apx\")\n",
    "color3_encoding_3c.cnf_color_encoding(colors=3)\n",
    "color3_encoding_3c.cnf_printing(console=False, file_print_loc=\"problem3c_solution.apx\")\n",
    "\n",
    "# Creating Glucose42 solver with the color3_encoding results as an input\n",
    "g_3c = Glucose42(bootstrap_with=color3_encoding_3c.dimacs_cnf)\n",
    "\n",
    "# Solving problem 3c\n",
    "solution_3c_tf = g_3c.solve()\n",
    "print(f\"Is there a solution to problem 3b? The answer is... {solution_3c_tf}\")\n",
    "solution_3c = g_3c.get_model()\n",
    "print(f\"The solution is: {solution_3c}\")\n",
    "print(\"Or better stated, the colors are...\")\n",
    "#print(f\"Color Argument Index: {color3_encoding_3c.arg_index}\")\n",
    "\n",
    "# Establishing colors for graph\n",
    "key_color_index = {}\n",
    "\n",
    "## Iterating over the arg_index to set the colors based on the solution\n",
    "for items in enumerate(color3_encoding_3c.arg_index.items(), start=1):\n",
    "    key = items[1][0]\n",
    "    indices = items[1][1]\n",
    "    for i, index in enumerate(indices):\n",
    "        if solution_3c[abs(index) - 1] > 0:\n",
    "            key_color_index[key] = (i+1)\n",
    "\n",
    "## Printing colors       \n",
    "print(key_color_index)\n",
    "\n",
    "jack = g_3c.enum_models()\n",
    "# print(g_3c.enum_models())\n",
    "# for model in jack:\n",
    "#     print(model)"
   ]
  },
  {
   "cell_type": "markdown",
   "id": "534d80c50386165f",
   "metadata": {
    "collapsed": false
   },
   "source": [
    "### Making a Graph With 3c results\n",
    "Here, I graph the 3c results, with color 1 being red, color 2 being blue, and color 3 being green. Should work for any 3-color graph."
   ]
  },
  {
   "cell_type": "code",
   "execution_count": 446,
   "id": "c6726658b1dd091",
   "metadata": {
    "collapsed": false,
    "ExecuteTime": {
     "end_time": "2024-03-28T12:46:24.128299400Z",
     "start_time": "2024-03-28T12:46:24.032693900Z"
    }
   },
   "outputs": [
    {
     "data": {
      "text/plain": "<Figure size 640x480 with 1 Axes>",
      "image/png": "[encoded data removed]"
     },
     "metadata": {},
     "output_type": "display_data"
    }
   ],
   "source": [
    "import networkx as nx\n",
    "import matplotlib.pyplot as plt\n",
    "# Setup\n",
    "## Colors indexes\n",
    "color_index = {1: \"red\", 2: \"blue\", 3: \"green\"}\n",
    "\n",
    "## Graph\n",
    "G = nx.Graph()\n",
    "G.add_edges_from(color3_encoding_3c.edges)\n",
    "\n",
    "# Matching nodes to colors\n",
    "node_colors_for_graph = {node: {'color': color_index[color]} for node, color in key_color_index.items()}\n",
    "\n",
    "# Drawing graph\n",
    "node_colors = [node_colors_for_graph[node]['color'] for node in G.nodes()]\n",
    "nx.draw(G, with_labels=True, node_color=node_colors, node_size=1000, font_size=12, font_weight='bold')\n",
    "plt.show()"
   ]
  },
  {
   "cell_type": "markdown",
   "id": "11db3b262eaae56",
   "metadata": {
    "collapsed": false
   },
   "source": [
    "## Problem 3d - Is there an obtainable 3-coloring that does not come from interchanging the solutions?\n",
    "\n",
    "If there was an obtainable 3-coloring that does not come from interchanging the solutions, then if the differences between all potential solutions are checked, at least one should be of an odd length. There are none, so there are no obtainable 3-colorings that do not come from interchanging the solutions!"
   ]
  },
  {
   "cell_type": "code",
   "execution_count": 447,
   "id": "b236c50275601f",
   "metadata": {
    "collapsed": false,
    "ExecuteTime": {
     "end_time": "2024-03-28T12:46:24.129391700Z",
     "start_time": "2024-03-28T12:46:24.116039600Z"
    }
   },
   "outputs": [
    {
     "name": "stdout",
     "output_type": "stream",
     "text": [
      "Total number of solutions: 12\n",
      "Differences with 1st solution: [[], [1, 2, 3, 15, 16, 17], [9, 11, 12, 14, 16, 18, 19, 21], [1, 2, 3, 8, 10, 11, 12, 14, 16, 18, 19, 21], [1, 2, 3, 5, 6, 8, 10, 11, 13, 14, 16, 18, 19, 21], [5, 6, 9, 11, 13, 14, 16, 18, 19, 21], [1, 3, 4, 6, 7, 8, 10, 11, 13, 14], [1, 3, 4, 6, 7, 9, 11, 13, 14, 15, 16, 17], [1, 3, 4, 6, 7, 9, 11, 12, 14, 15, 16, 17, 19, 20], [1, 3, 4, 6, 7, 8, 10, 11, 12, 14, 19, 20], [5, 6, 19, 20], [1, 2, 3, 5, 6, 15, 16, 17, 19, 20]]\n",
      "Total odd solutions: 0\n",
      "Total even solutions: 12\n"
     ]
    }
   ],
   "source": [
    "# Getting all possible solutions\n",
    "multiple_sol_g3c = g_3c.enum_models()\n",
    "\n",
    "# Calculating number of solutions and putting all the solutions into a list from the iterable\n",
    "sol_num_3c = 0\n",
    "multiple_sol_3c = []\n",
    "for model in multiple_sol_g3c:\n",
    "    multiple_sol_3c += [model]\n",
    "    sol_num_3c += 1\n",
    "print(f\"Total number of solutions: {sol_num_3c}\")\n",
    "\n",
    "# Getting differences with 1st solution\n",
    "differences = []\n",
    "for solution in multiple_sol_3c:\n",
    "    diff_indices = [i for i, (val1, val2) in enumerate(zip(solution, solution_3c), start=1) if val1 != val2]\n",
    "    differences.append(diff_indices)\n",
    "print(\"Differences with 1st solution:\", differences)\n",
    "\n",
    "odd_solutions = 0\n",
    "even_solutions = 0\n",
    "for difference in differences:\n",
    "    if len(difference) % 2 != 0:\n",
    "        odd_solutions += 1\n",
    "        print(f\"Odd solution found! It's differences are: {difference}\")\n",
    "    else:\n",
    "        even_solutions += 1\n",
    "\n",
    "print(f\"Total odd solutions: {odd_solutions}\")\n",
    "print(f\"Total even solutions: {even_solutions}\")"
   ]
  },
  {
   "cell_type": "markdown",
   "source": [
    "# Feedback\n",
    "\n",
    "***Time usage (mandatory):** How many hours did you spend on this home assignment?\n",
    "Which part did you find the most challenging and why? Which part did you find the\n",
    "most interesting/rewarding personally?*\n",
    "\n",
    "- Overall, I likely spent around ~13 hours on this assignment. This timeframe includes me sitting down and trying to understand SAT/CNF and messing around with the tutorial solution code. \n",
    "\n",
    "- I found understanding the CNF encodings (problem 2) to be the most challenging/the problems I was most uncertain about. The coding took far more time but also felt far more straightforward. \n",
    "\n",
    "- I found the practical aspect of having a desired outcome (in this case, the 3-color graph), breaking it down into it's components, and being able to through proof solve what it should be to be most rewarding. I have found that I enjoy going from the practical to the theoretical rather than the other way around, since it highlights to me how it plays into real life, then exploring the implications of how it does this.\n",
    "\n",
    "***Feedback on the course so-far (voluntary):** Please let us know if you have any\n",
    "feedback on the course so far. For example, was something discussed left unclear? Would\n",
    "you have wanted further examples or more details on some particular aspect? Do you\n",
    "have anything else regarding the course on your mind?*\n",
    "\n",
    "It can feel hard for me to discern what is expected to be known and what is new when immediately in class - I am not a CS Masters nor have I taken a CS logic course before (my basis a specialization in Computational Physics for Physics in Bachelors). I think being able to see the slides before the class began would be helpful for me to, potentially, engage more with the work during class/the explanations.\n",
    "\n",
    "I will also say that, in positives, I think the tutorials are very well done - they were definitely helpful for me in understanding SAT/CNF. The responsiveness I've seen in the Slack is also wonderful/very appreciated!"
   ],
   "metadata": {
    "collapsed": false
   },
   "id": "fec2eb47079a9ede"
  },
  {
   "cell_type": "markdown",
   "source": [],
   "metadata": {
    "collapsed": false
   },
   "id": "8eddf8ce7a0ca302"
  }
 ],
 "metadata": {
  "kernelspec": {
   "display_name": "Python 3 (ipykernel)",
   "language": "python",
   "name": "python3"
  },
  "language_info": {
   "codemirror_mode": {
    "name": "ipython",
    "version": 3
   },
   "file_extension": ".py",
   "mimetype": "text/x-python",
   "name": "python",
   "nbconvert_exporter": "python",
   "pygments_lexer": "ipython3",
   "version": "3.12.0"
  }
 },
 "nbformat": 4,
 "nbformat_minor": 5
}
