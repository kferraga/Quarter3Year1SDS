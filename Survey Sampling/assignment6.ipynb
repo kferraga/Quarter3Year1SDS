{
 "cells": [
  {
   "cell_type": "markdown",
   "id": "d29b3ad00d956750",
   "metadata": {
    "collapsed": false
   },
   "source": [
    "# Week 5: Task 13\n",
    "#### Name: Kai Ferragallo-Hawkins\n",
    "#### Date: 20.2.2023"
   ]
  },
  {
   "cell_type": "markdown",
   "id": "3498fdc2bb43550e",
   "metadata": {
    "collapsed": false
   },
   "source": [
    "##Setup\n",
    "\n"
   ]
  },
  {
   "cell_type": "code",
   "execution_count": 108,
   "outputs": [
    {
     "data": {
      "text/plain": "    Stratum  Cluster  Id  Municipality  POP91  LAB91  UE91  HOU85  URB85  \\\n0         1        1   1     Jyväskylä  67200  33786  4123  26881      1   \n1         1        2   2         Jämsä  12907   6016   666   4663      1   \n2         1        2   3   Jämsänkoski   8118   3818   528   3019      1   \n3         1        2   4        Keuruu  12707   5919   760   4896      1   \n4         1        3   5    Saarijärvi  10774   4930   721   3730      1   \n5         1        5   6      Suolahti   6159   3022   457   2389      1   \n6         1        3   7     Äänekoski  11595   5823   767   4264      1   \n7         2        5   8    Hankasalmi   6080   2594   391   2179      0   \n8         2        6   9        Joutsa   4594   2069   194   1823      0   \n9         2        7  10     Jyväskmlk  29349  13727  1623   9230      0   \n10        2        4  11   Kannonkoski   1919    821   153    726      0   \n11        2        4  12      Karstula   5594   2521   341   1868      0   \n12        2        8  13       Kinnula   2324    927   129    675      0   \n13        2        8  14     Kivijärvi   1972    819   128    634      0   \n14        2        3  15  Konginkangas   1636    675   142    556      0   \n15        2        5  16     Konnevesi   3453   1557   201   1215      0   \n16        2        1  17    Korpilahti   5181   2144   239   1793      0   \n17        2        2  18     Kuhmoinen   3357   1448   187   1463      0   \n18        2        4  19      Kyyjärvi   1977    831    94    672      0   \n19        2        5  20        Laukaa  16042   7218   874   4952      0   \n20        2        6  21    Leivonmäki   1370    573    61    545      0   \n21        2        6  22       Luhanka   1153    522    54    435      0   \n22        2        7  23        Multia   2375   1059   119    925      0   \n23        2        1  24       Muurame   6830   3024   296   1853      0   \n24        2        7  25    Petäjävesi   3800   1737   262   1352      0   \n25        2        8  26    Pihtipudas   5654   2543   331   1946      0   \n26        2        4  27    Pylkönmäki   1266    545    98    473      0   \n27        2        3  28     Sumiainen   1426    617    79    485      0   \n28        2        1  29    Säynätsalo   3628   1615   166   1226      0   \n29        2        6  30      Toivakka   2499   1084   127    834      0   \n30        2        7  31      Uurainen   3004   1330   219    932      0   \n31        2        8  32    Viitasaari   8641   4011   568   3119      0   \n\n    UE91 Above Mean  \n0                 1  \n1                 1  \n2                 1  \n3                 1  \n4                 1  \n5                 0  \n6                 1  \n7                 0  \n8                 0  \n9                 1  \n10                0  \n11                0  \n12                0  \n13                0  \n14                0  \n15                0  \n16                0  \n17                0  \n18                0  \n19                1  \n20                0  \n21                0  \n22                0  \n23                0  \n24                0  \n25                0  \n26                0  \n27                0  \n28                0  \n29                0  \n30                0  \n31                1  ",
      "text/html": "<div>\n<style scoped>\n    .dataframe tbody tr th:only-of-type {\n        vertical-align: middle;\n    }\n\n    .dataframe tbody tr th {\n        vertical-align: top;\n    }\n\n    .dataframe thead th {\n        text-align: right;\n    }\n</style>\n<table border=\"1\" class=\"dataframe\">\n  <thead>\n    <tr style=\"text-align: right;\">\n      <th></th>\n      <th>Stratum</th>\n      <th>Cluster</th>\n      <th>Id</th>\n      <th>Municipality</th>\n      <th>POP91</th>\n      <th>LAB91</th>\n      <th>UE91</th>\n      <th>HOU85</th>\n      <th>URB85</th>\n      <th>UE91 Above Mean</th>\n    </tr>\n  </thead>\n  <tbody>\n    <tr>\n      <th>0</th>\n      <td>1</td>\n      <td>1</td>\n      <td>1</td>\n      <td>Jyväskylä</td>\n      <td>67200</td>\n      <td>33786</td>\n      <td>4123</td>\n      <td>26881</td>\n      <td>1</td>\n      <td>1</td>\n    </tr>\n    <tr>\n      <th>1</th>\n      <td>1</td>\n      <td>2</td>\n      <td>2</td>\n      <td>Jämsä</td>\n      <td>12907</td>\n      <td>6016</td>\n      <td>666</td>\n      <td>4663</td>\n      <td>1</td>\n      <td>1</td>\n    </tr>\n    <tr>\n      <th>2</th>\n      <td>1</td>\n      <td>2</td>\n      <td>3</td>\n      <td>Jämsänkoski</td>\n      <td>8118</td>\n      <td>3818</td>\n      <td>528</td>\n      <td>3019</td>\n      <td>1</td>\n      <td>1</td>\n    </tr>\n    <tr>\n      <th>3</th>\n      <td>1</td>\n      <td>2</td>\n      <td>4</td>\n      <td>Keuruu</td>\n      <td>12707</td>\n      <td>5919</td>\n      <td>760</td>\n      <td>4896</td>\n      <td>1</td>\n      <td>1</td>\n    </tr>\n    <tr>\n      <th>4</th>\n      <td>1</td>\n      <td>3</td>\n      <td>5</td>\n      <td>Saarijärvi</td>\n      <td>10774</td>\n      <td>4930</td>\n      <td>721</td>\n      <td>3730</td>\n      <td>1</td>\n      <td>1</td>\n    </tr>\n    <tr>\n      <th>5</th>\n      <td>1</td>\n      <td>5</td>\n      <td>6</td>\n      <td>Suolahti</td>\n      <td>6159</td>\n      <td>3022</td>\n      <td>457</td>\n      <td>2389</td>\n      <td>1</td>\n      <td>0</td>\n    </tr>\n    <tr>\n      <th>6</th>\n      <td>1</td>\n      <td>3</td>\n      <td>7</td>\n      <td>Äänekoski</td>\n      <td>11595</td>\n      <td>5823</td>\n      <td>767</td>\n      <td>4264</td>\n      <td>1</td>\n      <td>1</td>\n    </tr>\n    <tr>\n      <th>7</th>\n      <td>2</td>\n      <td>5</td>\n      <td>8</td>\n      <td>Hankasalmi</td>\n      <td>6080</td>\n      <td>2594</td>\n      <td>391</td>\n      <td>2179</td>\n      <td>0</td>\n      <td>0</td>\n    </tr>\n    <tr>\n      <th>8</th>\n      <td>2</td>\n      <td>6</td>\n      <td>9</td>\n      <td>Joutsa</td>\n      <td>4594</td>\n      <td>2069</td>\n      <td>194</td>\n      <td>1823</td>\n      <td>0</td>\n      <td>0</td>\n    </tr>\n    <tr>\n      <th>9</th>\n      <td>2</td>\n      <td>7</td>\n      <td>10</td>\n      <td>Jyväskmlk</td>\n      <td>29349</td>\n      <td>13727</td>\n      <td>1623</td>\n      <td>9230</td>\n      <td>0</td>\n      <td>1</td>\n    </tr>\n    <tr>\n      <th>10</th>\n      <td>2</td>\n      <td>4</td>\n      <td>11</td>\n      <td>Kannonkoski</td>\n      <td>1919</td>\n      <td>821</td>\n      <td>153</td>\n      <td>726</td>\n      <td>0</td>\n      <td>0</td>\n    </tr>\n    <tr>\n      <th>11</th>\n      <td>2</td>\n      <td>4</td>\n      <td>12</td>\n      <td>Karstula</td>\n      <td>5594</td>\n      <td>2521</td>\n      <td>341</td>\n      <td>1868</td>\n      <td>0</td>\n      <td>0</td>\n    </tr>\n    <tr>\n      <th>12</th>\n      <td>2</td>\n      <td>8</td>\n      <td>13</td>\n      <td>Kinnula</td>\n      <td>2324</td>\n      <td>927</td>\n      <td>129</td>\n      <td>675</td>\n      <td>0</td>\n      <td>0</td>\n    </tr>\n    <tr>\n      <th>13</th>\n      <td>2</td>\n      <td>8</td>\n      <td>14</td>\n      <td>Kivijärvi</td>\n      <td>1972</td>\n      <td>819</td>\n      <td>128</td>\n      <td>634</td>\n      <td>0</td>\n      <td>0</td>\n    </tr>\n    <tr>\n      <th>14</th>\n      <td>2</td>\n      <td>3</td>\n      <td>15</td>\n      <td>Konginkangas</td>\n      <td>1636</td>\n      <td>675</td>\n      <td>142</td>\n      <td>556</td>\n      <td>0</td>\n      <td>0</td>\n    </tr>\n    <tr>\n      <th>15</th>\n      <td>2</td>\n      <td>5</td>\n      <td>16</td>\n      <td>Konnevesi</td>\n      <td>3453</td>\n      <td>1557</td>\n      <td>201</td>\n      <td>1215</td>\n      <td>0</td>\n      <td>0</td>\n    </tr>\n    <tr>\n      <th>16</th>\n      <td>2</td>\n      <td>1</td>\n      <td>17</td>\n      <td>Korpilahti</td>\n      <td>5181</td>\n      <td>2144</td>\n      <td>239</td>\n      <td>1793</td>\n      <td>0</td>\n      <td>0</td>\n    </tr>\n    <tr>\n      <th>17</th>\n      <td>2</td>\n      <td>2</td>\n      <td>18</td>\n      <td>Kuhmoinen</td>\n      <td>3357</td>\n      <td>1448</td>\n      <td>187</td>\n      <td>1463</td>\n      <td>0</td>\n      <td>0</td>\n    </tr>\n    <tr>\n      <th>18</th>\n      <td>2</td>\n      <td>4</td>\n      <td>19</td>\n      <td>Kyyjärvi</td>\n      <td>1977</td>\n      <td>831</td>\n      <td>94</td>\n      <td>672</td>\n      <td>0</td>\n      <td>0</td>\n    </tr>\n    <tr>\n      <th>19</th>\n      <td>2</td>\n      <td>5</td>\n      <td>20</td>\n      <td>Laukaa</td>\n      <td>16042</td>\n      <td>7218</td>\n      <td>874</td>\n      <td>4952</td>\n      <td>0</td>\n      <td>1</td>\n    </tr>\n    <tr>\n      <th>20</th>\n      <td>2</td>\n      <td>6</td>\n      <td>21</td>\n      <td>Leivonmäki</td>\n      <td>1370</td>\n      <td>573</td>\n      <td>61</td>\n      <td>545</td>\n      <td>0</td>\n      <td>0</td>\n    </tr>\n    <tr>\n      <th>21</th>\n      <td>2</td>\n      <td>6</td>\n      <td>22</td>\n      <td>Luhanka</td>\n      <td>1153</td>\n      <td>522</td>\n      <td>54</td>\n      <td>435</td>\n      <td>0</td>\n      <td>0</td>\n    </tr>\n    <tr>\n      <th>22</th>\n      <td>2</td>\n      <td>7</td>\n      <td>23</td>\n      <td>Multia</td>\n      <td>2375</td>\n      <td>1059</td>\n      <td>119</td>\n      <td>925</td>\n      <td>0</td>\n      <td>0</td>\n    </tr>\n    <tr>\n      <th>23</th>\n      <td>2</td>\n      <td>1</td>\n      <td>24</td>\n      <td>Muurame</td>\n      <td>6830</td>\n      <td>3024</td>\n      <td>296</td>\n      <td>1853</td>\n      <td>0</td>\n      <td>0</td>\n    </tr>\n    <tr>\n      <th>24</th>\n      <td>2</td>\n      <td>7</td>\n      <td>25</td>\n      <td>Petäjävesi</td>\n      <td>3800</td>\n      <td>1737</td>\n      <td>262</td>\n      <td>1352</td>\n      <td>0</td>\n      <td>0</td>\n    </tr>\n    <tr>\n      <th>25</th>\n      <td>2</td>\n      <td>8</td>\n      <td>26</td>\n      <td>Pihtipudas</td>\n      <td>5654</td>\n      <td>2543</td>\n      <td>331</td>\n      <td>1946</td>\n      <td>0</td>\n      <td>0</td>\n    </tr>\n    <tr>\n      <th>26</th>\n      <td>2</td>\n      <td>4</td>\n      <td>27</td>\n      <td>Pylkönmäki</td>\n      <td>1266</td>\n      <td>545</td>\n      <td>98</td>\n      <td>473</td>\n      <td>0</td>\n      <td>0</td>\n    </tr>\n    <tr>\n      <th>27</th>\n      <td>2</td>\n      <td>3</td>\n      <td>28</td>\n      <td>Sumiainen</td>\n      <td>1426</td>\n      <td>617</td>\n      <td>79</td>\n      <td>485</td>\n      <td>0</td>\n      <td>0</td>\n    </tr>\n    <tr>\n      <th>28</th>\n      <td>2</td>\n      <td>1</td>\n      <td>29</td>\n      <td>Säynätsalo</td>\n      <td>3628</td>\n      <td>1615</td>\n      <td>166</td>\n      <td>1226</td>\n      <td>0</td>\n      <td>0</td>\n    </tr>\n    <tr>\n      <th>29</th>\n      <td>2</td>\n      <td>6</td>\n      <td>30</td>\n      <td>Toivakka</td>\n      <td>2499</td>\n      <td>1084</td>\n      <td>127</td>\n      <td>834</td>\n      <td>0</td>\n      <td>0</td>\n    </tr>\n    <tr>\n      <th>30</th>\n      <td>2</td>\n      <td>7</td>\n      <td>31</td>\n      <td>Uurainen</td>\n      <td>3004</td>\n      <td>1330</td>\n      <td>219</td>\n      <td>932</td>\n      <td>0</td>\n      <td>0</td>\n    </tr>\n    <tr>\n      <th>31</th>\n      <td>2</td>\n      <td>8</td>\n      <td>32</td>\n      <td>Viitasaari</td>\n      <td>8641</td>\n      <td>4011</td>\n      <td>568</td>\n      <td>3119</td>\n      <td>0</td>\n      <td>1</td>\n    </tr>\n  </tbody>\n</table>\n</div>"
     },
     "metadata": {},
     "output_type": "display_data"
    }
   ],
   "source": [
    "import pandas as pd\n",
    "import numpy as np\n",
    "import samplics as smp\n",
    "import seaborn as sns\n",
    "import matplotlib.pyplot as plt\n",
    "import statsmodels.api as sm\n",
    "import SurveySamplingFunctions as ssf\n",
    "\n",
    "### Functions\n",
    "def cluster_descr(df, cluster_column, sorting_column):\n",
    "    \"\"\"Given a Pandas dataframe, a cluster column, and a sorting column, find descriptors for all clusters. Implement random and limited cluster selection and working regardless of what value you consider a cluster in the future?\"\"\"\n",
    "    cluster_descriptors = pd.DataFrame()\n",
    "    clusters = sorted(df[cluster_column].unique())\n",
    "    for cluster_num in range(1, len(clusters)+1):\n",
    "        cluster_stats = df.loc[df[cluster_column] == cluster_num, sorting_column].describe()\n",
    "        cluster_descriptors[f'Cluster {clusters[cluster_num-1]}'] = cluster_stats\n",
    "    return cluster_descriptors\n",
    "\n",
    "def system_var (main, sample, sample_key, Is_Sqrt = False):\n",
    "    \"\"\"\"Calculates the system variance by manually calculating the information for design variance based on population sizes, given two pandas dataframes of the original information and the sample. Population variance calculated through Pandas var.\"\"\"\n",
    "    sqr = 0.5 if Is_Sqrt else 1\n",
    "    s_var = ((len(main)**2)*(1-len(sample)/len(main))*(1/len(sample))*sample[sample_key].var(ddof=1))**sqr\n",
    "    return s_var\n",
    "\n",
    "### Province 91\n",
    "## Importing Province91 Data\n",
    "province91 = pd.read_csv(\"files/assignment1/province91.txt\", delim_whitespace=True)\n",
    "# Mean notably above the median for UE91, so creating new stratum that separates UE91 by the mean.\n",
    "province91['UE91 Above Mean'] = (province91['UE91'] > province91['UE91'].mean()).astype(int)\n",
    "display(province91)\n",
    "\n",
    "### Province 17\n",
    "## Importing Province17 Data\n",
    "province17 = pd.read_csv(\"files/assignment1/province17.txt\", delimiter = '\\t', encoding='latin-1')"
   ],
   "metadata": {
    "collapsed": false,
    "ExecuteTime": {
     "end_time": "2024-02-26T13:34:24.198628500Z",
     "start_time": "2024-02-26T13:34:24.005632900Z"
    }
   },
   "id": "8dced14fcdea965a"
  },
  {
   "cell_type": "markdown",
   "source": [
    "## Task 13: Cluster Sampling\n",
    "This tasks are as follows:\n",
    "-  Calculate descriptive statistics for 1) whole province91 data for UE91 and 2) by clusters (variable Cluster) for UE91.\n",
    "The cluster descriptors show a wide variety of possible values, without a clear or decisive ordering. This comes from the fact that the clusters are presumably fully randomized. Cluster 1 also shows how outlier data (i.e. a value of 4123 for unemployed) can completely change the descriptors.\n",
    "\n",
    "Normal UE91 descriptors have a mean smaller than 4 of the clusters and larger then the other 4 clusters, a decent preliminary sign for the effectiveness of the cluster samplings distribution."
   ],
   "metadata": {
    "collapsed": false
   },
   "id": "e7a2686c6de8db9d"
  },
  {
   "cell_type": "code",
   "execution_count": 109,
   "id": "initial_id",
   "metadata": {
    "collapsed": true,
    "jupyter": {
     "outputs_hidden": true
    },
    "ExecuteTime": {
     "end_time": "2024-02-26T13:34:24.222637Z",
     "start_time": "2024-02-26T13:34:24.061846Z"
    }
   },
   "outputs": [
    {
     "name": "stdout",
     "output_type": "stream",
     "text": [
      "UE91 Descriptors\n"
     ]
    },
    {
     "data": {
      "text/plain": "count      32.000000\nmean      471.812500\nstd       743.402918\nmin        54.000000\n25%       128.750000\n50%       229.000000\n75%       538.000000\nmax      4123.000000\nName: UE91, dtype: float64"
     },
     "metadata": {},
     "output_type": "display_data"
    },
    {
     "name": "stdout",
     "output_type": "stream",
     "text": [
      "Original Cluster Descriptors\n"
     ]
    },
    {
     "data": {
      "text/plain": "        Cluster 1   Cluster 2   Cluster 3   Cluster 4   Cluster 5   Cluster 6  \\\ncount     4.00000    4.000000    4.000000    4.000000    4.000000    4.000000   \nmean   1206.00000  535.250000  427.250000  171.500000  480.750000  109.000000   \nstd    1945.39439  250.957334  367.135193  116.162243  283.739758   65.518445   \nmin     166.00000  187.000000   79.000000   94.000000  201.000000   54.000000   \n25%     220.75000  442.750000  126.250000   97.000000  343.500000   59.250000   \n50%     267.50000  597.000000  431.500000  125.500000  424.000000   94.000000   \n75%    1252.75000  689.500000  732.500000  200.000000  561.250000  143.750000   \nmax    4123.00000  760.000000  767.000000  341.000000  874.000000  194.000000   \n\n         Cluster 7   Cluster 8  \ncount     4.000000    4.000000  \nmean    555.750000  289.000000  \nstd     714.017448  209.066178  \nmin     119.000000  128.000000  \n25%     194.000000  128.750000  \n50%     240.500000  230.000000  \n75%     602.250000  390.250000  \nmax    1623.000000  568.000000  ",
      "text/html": "<div>\n<style scoped>\n    .dataframe tbody tr th:only-of-type {\n        vertical-align: middle;\n    }\n\n    .dataframe tbody tr th {\n        vertical-align: top;\n    }\n\n    .dataframe thead th {\n        text-align: right;\n    }\n</style>\n<table border=\"1\" class=\"dataframe\">\n  <thead>\n    <tr style=\"text-align: right;\">\n      <th></th>\n      <th>Cluster 1</th>\n      <th>Cluster 2</th>\n      <th>Cluster 3</th>\n      <th>Cluster 4</th>\n      <th>Cluster 5</th>\n      <th>Cluster 6</th>\n      <th>Cluster 7</th>\n      <th>Cluster 8</th>\n    </tr>\n  </thead>\n  <tbody>\n    <tr>\n      <th>count</th>\n      <td>4.00000</td>\n      <td>4.000000</td>\n      <td>4.000000</td>\n      <td>4.000000</td>\n      <td>4.000000</td>\n      <td>4.000000</td>\n      <td>4.000000</td>\n      <td>4.000000</td>\n    </tr>\n    <tr>\n      <th>mean</th>\n      <td>1206.00000</td>\n      <td>535.250000</td>\n      <td>427.250000</td>\n      <td>171.500000</td>\n      <td>480.750000</td>\n      <td>109.000000</td>\n      <td>555.750000</td>\n      <td>289.000000</td>\n    </tr>\n    <tr>\n      <th>std</th>\n      <td>1945.39439</td>\n      <td>250.957334</td>\n      <td>367.135193</td>\n      <td>116.162243</td>\n      <td>283.739758</td>\n      <td>65.518445</td>\n      <td>714.017448</td>\n      <td>209.066178</td>\n    </tr>\n    <tr>\n      <th>min</th>\n      <td>166.00000</td>\n      <td>187.000000</td>\n      <td>79.000000</td>\n      <td>94.000000</td>\n      <td>201.000000</td>\n      <td>54.000000</td>\n      <td>119.000000</td>\n      <td>128.000000</td>\n    </tr>\n    <tr>\n      <th>25%</th>\n      <td>220.75000</td>\n      <td>442.750000</td>\n      <td>126.250000</td>\n      <td>97.000000</td>\n      <td>343.500000</td>\n      <td>59.250000</td>\n      <td>194.000000</td>\n      <td>128.750000</td>\n    </tr>\n    <tr>\n      <th>50%</th>\n      <td>267.50000</td>\n      <td>597.000000</td>\n      <td>431.500000</td>\n      <td>125.500000</td>\n      <td>424.000000</td>\n      <td>94.000000</td>\n      <td>240.500000</td>\n      <td>230.000000</td>\n    </tr>\n    <tr>\n      <th>75%</th>\n      <td>1252.75000</td>\n      <td>689.500000</td>\n      <td>732.500000</td>\n      <td>200.000000</td>\n      <td>561.250000</td>\n      <td>143.750000</td>\n      <td>602.250000</td>\n      <td>390.250000</td>\n    </tr>\n    <tr>\n      <th>max</th>\n      <td>4123.00000</td>\n      <td>760.000000</td>\n      <td>767.000000</td>\n      <td>341.000000</td>\n      <td>874.000000</td>\n      <td>194.000000</td>\n      <td>1623.000000</td>\n      <td>568.000000</td>\n    </tr>\n  </tbody>\n</table>\n</div>"
     },
     "metadata": {},
     "output_type": "display_data"
    }
   ],
   "source": [
    "### Province 91\n",
    "## Descriptive Statistics (UE91)\n",
    "UE91_descriptors = province91['UE91'].describe()\n",
    "print(\"UE91 Descriptors\")\n",
    "display(UE91_descriptors)\n",
    "\n",
    "## Descriptive Statistics (Clusters)\n",
    "cluster_descriptors_org = cluster_descr(province91, \"Cluster\", \"UE91\")\n",
    "print(\"Original Cluster Descriptors\")\n",
    "display(cluster_descriptors_org)"
   ]
  },
  {
   "cell_type": "markdown",
   "source": [
    "- Use cluster sampling and draw your own samples.\n",
    "I choose to draw 4 random clusters by creating a list with an even distribution of values 1-4 and then randomly shuffling their placement. The end result appears to be three smaller clusters and one larger cluster."
   ],
   "metadata": {
    "collapsed": false
   },
   "id": "7a3eeb8dfe2b3006"
  },
  {
   "cell_type": "code",
   "execution_count": 110,
   "outputs": [
    {
     "name": "stdout",
     "output_type": "stream",
     "text": [
      "Task 13 Cluster Descriptors\n"
     ]
    },
    {
     "data": {
      "text/plain": "        Cluster 1   Cluster 2   Cluster 3    Cluster 4\ncount    8.000000    8.000000    8.000000     8.000000\nmean   320.625000  332.875000  290.250000   943.500000\nstd    274.370416  270.117137  244.243292  1378.191465\nmin     61.000000   54.000000   98.000000    94.000000\n25%    138.500000  160.000000  125.000000   177.750000\n50%    202.500000  275.000000  177.000000   359.500000\n75%    436.000000  425.250000  364.000000   905.250000\nmax    767.000000  874.000000  760.000000  4123.000000",
      "text/html": "<div>\n<style scoped>\n    .dataframe tbody tr th:only-of-type {\n        vertical-align: middle;\n    }\n\n    .dataframe tbody tr th {\n        vertical-align: top;\n    }\n\n    .dataframe thead th {\n        text-align: right;\n    }\n</style>\n<table border=\"1\" class=\"dataframe\">\n  <thead>\n    <tr style=\"text-align: right;\">\n      <th></th>\n      <th>Cluster 1</th>\n      <th>Cluster 2</th>\n      <th>Cluster 3</th>\n      <th>Cluster 4</th>\n    </tr>\n  </thead>\n  <tbody>\n    <tr>\n      <th>count</th>\n      <td>8.000000</td>\n      <td>8.000000</td>\n      <td>8.000000</td>\n      <td>8.000000</td>\n    </tr>\n    <tr>\n      <th>mean</th>\n      <td>320.625000</td>\n      <td>332.875000</td>\n      <td>290.250000</td>\n      <td>943.500000</td>\n    </tr>\n    <tr>\n      <th>std</th>\n      <td>274.370416</td>\n      <td>270.117137</td>\n      <td>244.243292</td>\n      <td>1378.191465</td>\n    </tr>\n    <tr>\n      <th>min</th>\n      <td>61.000000</td>\n      <td>54.000000</td>\n      <td>98.000000</td>\n      <td>94.000000</td>\n    </tr>\n    <tr>\n      <th>25%</th>\n      <td>138.500000</td>\n      <td>160.000000</td>\n      <td>125.000000</td>\n      <td>177.750000</td>\n    </tr>\n    <tr>\n      <th>50%</th>\n      <td>202.500000</td>\n      <td>275.000000</td>\n      <td>177.000000</td>\n      <td>359.500000</td>\n    </tr>\n    <tr>\n      <th>75%</th>\n      <td>436.000000</td>\n      <td>425.250000</td>\n      <td>364.000000</td>\n      <td>905.250000</td>\n    </tr>\n    <tr>\n      <th>max</th>\n      <td>767.000000</td>\n      <td>874.000000</td>\n      <td>760.000000</td>\n      <td>4123.000000</td>\n    </tr>\n  </tbody>\n</table>\n</div>"
     },
     "metadata": {},
     "output_type": "display_data"
    }
   ],
   "source": [
    "## Draw Own Cluster Samples\n",
    "# Randomizing cluster values from 1 to 4\n",
    "np.random.seed(123)\n",
    "randomized_task13 = [1, 2, 3, 4]*(len(province91)//4)\n",
    "np.random.shuffle(randomized_task13)\n",
    "\n",
    "# Creating cluster list in code\n",
    "province91['Cluster_Task13'] = randomized_task13\n",
    "\n",
    "# Getting Cluster descriptors\n",
    "cluster_descriptors_task13 = cluster_descr(province91, \"Cluster_Task13\", \"UE91\")\n",
    "print(\"Task 13 Cluster Descriptors\")\n",
    "display(cluster_descriptors_task13)"
   ],
   "metadata": {
    "collapsed": false,
    "ExecuteTime": {
     "end_time": "2024-02-26T13:34:24.271370300Z",
     "start_time": "2024-02-26T13:34:24.132698100Z"
    }
   },
   "id": "1e79aa98d2fa7715"
  },
  {
   "cell_type": "markdown",
   "source": [
    "- Estimate UE91 total and deff.\n",
    "The resulting total UE91 follows the understanding from the above code, with three of the clusters having a smaller total value then the actual UE91 and one (4) having a larger total value. The Deff values continuous increase feels odd - variation may correlate, but I don't believe they should not be exact. More work to ensure that the deff values are correct is needed. However, if taken as they are, only the cluster 4 is less efficient then the simple random sampling base."
   ],
   "metadata": {
    "collapsed": false
   },
   "id": "c34415b6e784c4c5"
  },
  {
   "cell_type": "code",
   "execution_count": 111,
   "outputs": [
    {
     "data": {
      "text/plain": "   Cluster_Task13  UE91 Estimated Totals  Deff Values\n0               1                10260.0     0.542980\n1               2                10652.0     0.534562\n2               3                 9288.0     0.483358\n3               4                30192.0     2.727443",
      "text/html": "<div>\n<style scoped>\n    .dataframe tbody tr th:only-of-type {\n        vertical-align: middle;\n    }\n\n    .dataframe tbody tr th {\n        vertical-align: top;\n    }\n\n    .dataframe thead th {\n        text-align: right;\n    }\n</style>\n<table border=\"1\" class=\"dataframe\">\n  <thead>\n    <tr style=\"text-align: right;\">\n      <th></th>\n      <th>Cluster_Task13</th>\n      <th>UE91 Estimated Totals</th>\n      <th>Deff Values</th>\n    </tr>\n  </thead>\n  <tbody>\n    <tr>\n      <th>0</th>\n      <td>1</td>\n      <td>10260.0</td>\n      <td>0.542980</td>\n    </tr>\n    <tr>\n      <th>1</th>\n      <td>2</td>\n      <td>10652.0</td>\n      <td>0.534562</td>\n    </tr>\n    <tr>\n      <th>2</th>\n      <td>3</td>\n      <td>9288.0</td>\n      <td>0.483358</td>\n    </tr>\n    <tr>\n      <th>3</th>\n      <td>4</td>\n      <td>30192.0</td>\n      <td>2.727443</td>\n    </tr>\n  </tbody>\n</table>\n</div>"
     },
     "metadata": {},
     "output_type": "display_data"
    }
   ],
   "source": [
    "## UE91 Total Estimation\n",
    "# Ordering by clusters\n",
    "ue91_totals_nw = province91.groupby('Cluster_Task13')['UE91'].sum()\n",
    "\n",
    "# Creating individual cluster weights (all the same)\n",
    "cluster_weights = len(province91) / province91.groupby('Cluster_Task13').size()\n",
    "\n",
    "# Creating UE91 total list\n",
    "ue91_totals_es = ue91_totals_nw * cluster_weights\n",
    "df_ue91_adj_totals = pd.DataFrame({'UE91 Estimated Totals': ue91_totals_es})\n",
    "df_ue91_adj_totals.reset_index(inplace=True)\n",
    "\n",
    "## Calculate deff value\n",
    "# SRS Sample + Variation\n",
    "prov91_sample = province91.sample(n=8, replace=False, random_state=123456)\n",
    "s_var91_srs = system_var(province91, prov91_sample, \"UE91\", Is_Sqrt = True)\n",
    "\n",
    "# CLU Variation\n",
    "s_var91_clu = []\n",
    "s91_deff = []\n",
    "for num in range(4):\n",
    "    s_var91_clu.append(system_var(province91, province91[province91['Cluster_Task13'] == num+1], \"UE91\", Is_Sqrt = True))\n",
    "    s91_deff.append(s_var91_clu[num]/s_var91_srs)\n",
    "\n",
    "# Table Display\n",
    "df_ue91_adj_totals[\"Deff Values\"] = s91_deff\n",
    "display(df_ue91_adj_totals)\n",
    "\n"
   ],
   "metadata": {
    "collapsed": false,
    "ExecuteTime": {
     "end_time": "2024-02-26T13:34:24.271370300Z",
     "start_time": "2024-02-26T13:34:24.165342200Z"
    }
   },
   "id": "a9ff0406138aaa44"
  },
  {
   "cell_type": "markdown",
   "source": [],
   "metadata": {
    "collapsed": false
   },
   "id": "513237b34dd5201c"
  }
 ],
 "metadata": {
  "kernelspec": {
   "display_name": "Python 3 (ipykernel)",
   "language": "python",
   "name": "python3"
  },
  "language_info": {
   "codemirror_mode": {
    "name": "ipython",
    "version": 3
   },
   "file_extension": ".py",
   "mimetype": "text/x-python",
   "name": "python",
   "nbconvert_exporter": "python",
   "pygments_lexer": "ipython3",
   "version": "3.12.0"
  }
 },
 "nbformat": 4,
 "nbformat_minor": 5
}
