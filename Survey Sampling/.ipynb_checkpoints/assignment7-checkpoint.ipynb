{
 "cells": [
  {
   "cell_type": "markdown",
   "id": "d29b3ad00d956750",
   "metadata": {
    "collapsed": false
   },
   "source": [
    "# Week 7: Task 14-15\n",
    "#### Name: Kai Ferragallo-Hawkins\n",
    "#### Date: 1.3.2023"
   ]
  },
  {
   "cell_type": "markdown",
   "id": "aa71b8a7d8ac097b",
   "metadata": {
    "collapsed": false
   },
   "source": [
    "## Task 14: What is Survey Sampling?\n",
    "\n",
    "For this task, our aim is to give a summary of the topics covered throughout the past 7 weeks of classes. I feel that what we learned can be broken down into three main categories, which will be covered later in greater depth:\n",
    "- **Survey Design**, which covers the fundamental basics of surveys such as the selection of a population, the undercoverage and overcoverage of the frame, and weighting to account for disparities.\n",
    "- **Survey Methods**, which describes the tools used to select a population for your survey, such as simple random (SRS), systematic (SYS) and cluster sampling (CLU).\n",
    "- **Survey Accuracy**, where descriptors (i.e., mean, standard deviation) and estimators (i.e. design variance) can help you understand your sample and isolate more efficient survey methods.\n",
    "\n",
    "### Survey Design\n",
    "When first designing a survey, it is important to understand:\n",
    "- What is the **target population**, or population of interest, you are aiming to look at?\n",
    "*i.e., When looking at unemployment, the population of interest would be laborers and unemployed.*\n",
    "- What is the **sampling frame**, or the database from where the sample is drawn?\n",
    "*i.e., You can use Province91, a dataset created from the official statistics of Finland that breaks down unemployment information by Municipality. You can see how that can be important into Python below.*\n"
   ]
  },
  {
   "cell_type": "code",
   "execution_count": 30,
   "outputs": [
    {
     "data": {
      "text/plain": "    Stratum  Cluster  Id  Municipality  POP91  LAB91  UE91  HOU85  URB85\n0         1        1   1     Jyväskylä  67200  33786  4123  26881      1\n1         1        2   2         Jämsä  12907   6016   666   4663      1\n2         1        2   3   Jämsänkoski   8118   3818   528   3019      1\n3         1        2   4        Keuruu  12707   5919   760   4896      1\n4         1        3   5    Saarijärvi  10774   4930   721   3730      1\n5         1        5   6      Suolahti   6159   3022   457   2389      1\n6         1        3   7     Äänekoski  11595   5823   767   4264      1\n7         2        5   8    Hankasalmi   6080   2594   391   2179      0\n8         2        6   9        Joutsa   4594   2069   194   1823      0\n9         2        7  10     Jyväskmlk  29349  13727  1623   9230      0\n10        2        4  11   Kannonkoski   1919    821   153    726      0\n11        2        4  12      Karstula   5594   2521   341   1868      0\n12        2        8  13       Kinnula   2324    927   129    675      0\n13        2        8  14     Kivijärvi   1972    819   128    634      0\n14        2        3  15  Konginkangas   1636    675   142    556      0\n15        2        5  16     Konnevesi   3453   1557   201   1215      0\n16        2        1  17    Korpilahti   5181   2144   239   1793      0\n17        2        2  18     Kuhmoinen   3357   1448   187   1463      0\n18        2        4  19      Kyyjärvi   1977    831    94    672      0\n19        2        5  20        Laukaa  16042   7218   874   4952      0\n20        2        6  21    Leivonmäki   1370    573    61    545      0\n21        2        6  22       Luhanka   1153    522    54    435      0\n22        2        7  23        Multia   2375   1059   119    925      0\n23        2        1  24       Muurame   6830   3024   296   1853      0\n24        2        7  25    Petäjävesi   3800   1737   262   1352      0\n25        2        8  26    Pihtipudas   5654   2543   331   1946      0\n26        2        4  27    Pylkönmäki   1266    545    98    473      0\n27        2        3  28     Sumiainen   1426    617    79    485      0\n28        2        1  29    Säynätsalo   3628   1615   166   1226      0\n29        2        6  30      Toivakka   2499   1084   127    834      0\n30        2        7  31      Uurainen   3004   1330   219    932      0\n31        2        8  32    Viitasaari   8641   4011   568   3119      0",
      "text/html": "<div>\n<style scoped>\n    .dataframe tbody tr th:only-of-type {\n        vertical-align: middle;\n    }\n\n    .dataframe tbody tr th {\n        vertical-align: top;\n    }\n\n    .dataframe thead th {\n        text-align: right;\n    }\n</style>\n<table border=\"1\" class=\"dataframe\">\n  <thead>\n    <tr style=\"text-align: right;\">\n      <th></th>\n      <th>Stratum</th>\n      <th>Cluster</th>\n      <th>Id</th>\n      <th>Municipality</th>\n      <th>POP91</th>\n      <th>LAB91</th>\n      <th>UE91</th>\n      <th>HOU85</th>\n      <th>URB85</th>\n    </tr>\n  </thead>\n  <tbody>\n    <tr>\n      <th>0</th>\n      <td>1</td>\n      <td>1</td>\n      <td>1</td>\n      <td>Jyväskylä</td>\n      <td>67200</td>\n      <td>33786</td>\n      <td>4123</td>\n      <td>26881</td>\n      <td>1</td>\n    </tr>\n    <tr>\n      <th>1</th>\n      <td>1</td>\n      <td>2</td>\n      <td>2</td>\n      <td>Jämsä</td>\n      <td>12907</td>\n      <td>6016</td>\n      <td>666</td>\n      <td>4663</td>\n      <td>1</td>\n    </tr>\n    <tr>\n      <th>2</th>\n      <td>1</td>\n      <td>2</td>\n      <td>3</td>\n      <td>Jämsänkoski</td>\n      <td>8118</td>\n      <td>3818</td>\n      <td>528</td>\n      <td>3019</td>\n      <td>1</td>\n    </tr>\n    <tr>\n      <th>3</th>\n      <td>1</td>\n      <td>2</td>\n      <td>4</td>\n      <td>Keuruu</td>\n      <td>12707</td>\n      <td>5919</td>\n      <td>760</td>\n      <td>4896</td>\n      <td>1</td>\n    </tr>\n    <tr>\n      <th>4</th>\n      <td>1</td>\n      <td>3</td>\n      <td>5</td>\n      <td>Saarijärvi</td>\n      <td>10774</td>\n      <td>4930</td>\n      <td>721</td>\n      <td>3730</td>\n      <td>1</td>\n    </tr>\n    <tr>\n      <th>5</th>\n      <td>1</td>\n      <td>5</td>\n      <td>6</td>\n      <td>Suolahti</td>\n      <td>6159</td>\n      <td>3022</td>\n      <td>457</td>\n      <td>2389</td>\n      <td>1</td>\n    </tr>\n    <tr>\n      <th>6</th>\n      <td>1</td>\n      <td>3</td>\n      <td>7</td>\n      <td>Äänekoski</td>\n      <td>11595</td>\n      <td>5823</td>\n      <td>767</td>\n      <td>4264</td>\n      <td>1</td>\n    </tr>\n    <tr>\n      <th>7</th>\n      <td>2</td>\n      <td>5</td>\n      <td>8</td>\n      <td>Hankasalmi</td>\n      <td>6080</td>\n      <td>2594</td>\n      <td>391</td>\n      <td>2179</td>\n      <td>0</td>\n    </tr>\n    <tr>\n      <th>8</th>\n      <td>2</td>\n      <td>6</td>\n      <td>9</td>\n      <td>Joutsa</td>\n      <td>4594</td>\n      <td>2069</td>\n      <td>194</td>\n      <td>1823</td>\n      <td>0</td>\n    </tr>\n    <tr>\n      <th>9</th>\n      <td>2</td>\n      <td>7</td>\n      <td>10</td>\n      <td>Jyväskmlk</td>\n      <td>29349</td>\n      <td>13727</td>\n      <td>1623</td>\n      <td>9230</td>\n      <td>0</td>\n    </tr>\n    <tr>\n      <th>10</th>\n      <td>2</td>\n      <td>4</td>\n      <td>11</td>\n      <td>Kannonkoski</td>\n      <td>1919</td>\n      <td>821</td>\n      <td>153</td>\n      <td>726</td>\n      <td>0</td>\n    </tr>\n    <tr>\n      <th>11</th>\n      <td>2</td>\n      <td>4</td>\n      <td>12</td>\n      <td>Karstula</td>\n      <td>5594</td>\n      <td>2521</td>\n      <td>341</td>\n      <td>1868</td>\n      <td>0</td>\n    </tr>\n    <tr>\n      <th>12</th>\n      <td>2</td>\n      <td>8</td>\n      <td>13</td>\n      <td>Kinnula</td>\n      <td>2324</td>\n      <td>927</td>\n      <td>129</td>\n      <td>675</td>\n      <td>0</td>\n    </tr>\n    <tr>\n      <th>13</th>\n      <td>2</td>\n      <td>8</td>\n      <td>14</td>\n      <td>Kivijärvi</td>\n      <td>1972</td>\n      <td>819</td>\n      <td>128</td>\n      <td>634</td>\n      <td>0</td>\n    </tr>\n    <tr>\n      <th>14</th>\n      <td>2</td>\n      <td>3</td>\n      <td>15</td>\n      <td>Konginkangas</td>\n      <td>1636</td>\n      <td>675</td>\n      <td>142</td>\n      <td>556</td>\n      <td>0</td>\n    </tr>\n    <tr>\n      <th>15</th>\n      <td>2</td>\n      <td>5</td>\n      <td>16</td>\n      <td>Konnevesi</td>\n      <td>3453</td>\n      <td>1557</td>\n      <td>201</td>\n      <td>1215</td>\n      <td>0</td>\n    </tr>\n    <tr>\n      <th>16</th>\n      <td>2</td>\n      <td>1</td>\n      <td>17</td>\n      <td>Korpilahti</td>\n      <td>5181</td>\n      <td>2144</td>\n      <td>239</td>\n      <td>1793</td>\n      <td>0</td>\n    </tr>\n    <tr>\n      <th>17</th>\n      <td>2</td>\n      <td>2</td>\n      <td>18</td>\n      <td>Kuhmoinen</td>\n      <td>3357</td>\n      <td>1448</td>\n      <td>187</td>\n      <td>1463</td>\n      <td>0</td>\n    </tr>\n    <tr>\n      <th>18</th>\n      <td>2</td>\n      <td>4</td>\n      <td>19</td>\n      <td>Kyyjärvi</td>\n      <td>1977</td>\n      <td>831</td>\n      <td>94</td>\n      <td>672</td>\n      <td>0</td>\n    </tr>\n    <tr>\n      <th>19</th>\n      <td>2</td>\n      <td>5</td>\n      <td>20</td>\n      <td>Laukaa</td>\n      <td>16042</td>\n      <td>7218</td>\n      <td>874</td>\n      <td>4952</td>\n      <td>0</td>\n    </tr>\n    <tr>\n      <th>20</th>\n      <td>2</td>\n      <td>6</td>\n      <td>21</td>\n      <td>Leivonmäki</td>\n      <td>1370</td>\n      <td>573</td>\n      <td>61</td>\n      <td>545</td>\n      <td>0</td>\n    </tr>\n    <tr>\n      <th>21</th>\n      <td>2</td>\n      <td>6</td>\n      <td>22</td>\n      <td>Luhanka</td>\n      <td>1153</td>\n      <td>522</td>\n      <td>54</td>\n      <td>435</td>\n      <td>0</td>\n    </tr>\n    <tr>\n      <th>22</th>\n      <td>2</td>\n      <td>7</td>\n      <td>23</td>\n      <td>Multia</td>\n      <td>2375</td>\n      <td>1059</td>\n      <td>119</td>\n      <td>925</td>\n      <td>0</td>\n    </tr>\n    <tr>\n      <th>23</th>\n      <td>2</td>\n      <td>1</td>\n      <td>24</td>\n      <td>Muurame</td>\n      <td>6830</td>\n      <td>3024</td>\n      <td>296</td>\n      <td>1853</td>\n      <td>0</td>\n    </tr>\n    <tr>\n      <th>24</th>\n      <td>2</td>\n      <td>7</td>\n      <td>25</td>\n      <td>Petäjävesi</td>\n      <td>3800</td>\n      <td>1737</td>\n      <td>262</td>\n      <td>1352</td>\n      <td>0</td>\n    </tr>\n    <tr>\n      <th>25</th>\n      <td>2</td>\n      <td>8</td>\n      <td>26</td>\n      <td>Pihtipudas</td>\n      <td>5654</td>\n      <td>2543</td>\n      <td>331</td>\n      <td>1946</td>\n      <td>0</td>\n    </tr>\n    <tr>\n      <th>26</th>\n      <td>2</td>\n      <td>4</td>\n      <td>27</td>\n      <td>Pylkönmäki</td>\n      <td>1266</td>\n      <td>545</td>\n      <td>98</td>\n      <td>473</td>\n      <td>0</td>\n    </tr>\n    <tr>\n      <th>27</th>\n      <td>2</td>\n      <td>3</td>\n      <td>28</td>\n      <td>Sumiainen</td>\n      <td>1426</td>\n      <td>617</td>\n      <td>79</td>\n      <td>485</td>\n      <td>0</td>\n    </tr>\n    <tr>\n      <th>28</th>\n      <td>2</td>\n      <td>1</td>\n      <td>29</td>\n      <td>Säynätsalo</td>\n      <td>3628</td>\n      <td>1615</td>\n      <td>166</td>\n      <td>1226</td>\n      <td>0</td>\n    </tr>\n    <tr>\n      <th>29</th>\n      <td>2</td>\n      <td>6</td>\n      <td>30</td>\n      <td>Toivakka</td>\n      <td>2499</td>\n      <td>1084</td>\n      <td>127</td>\n      <td>834</td>\n      <td>0</td>\n    </tr>\n    <tr>\n      <th>30</th>\n      <td>2</td>\n      <td>7</td>\n      <td>31</td>\n      <td>Uurainen</td>\n      <td>3004</td>\n      <td>1330</td>\n      <td>219</td>\n      <td>932</td>\n      <td>0</td>\n    </tr>\n    <tr>\n      <th>31</th>\n      <td>2</td>\n      <td>8</td>\n      <td>32</td>\n      <td>Viitasaari</td>\n      <td>8641</td>\n      <td>4011</td>\n      <td>568</td>\n      <td>3119</td>\n      <td>0</td>\n    </tr>\n  </tbody>\n</table>\n</div>"
     },
     "metadata": {},
     "output_type": "display_data"
    }
   ],
   "source": [
    "import pandas as pd\n",
    "\n",
    "### Province 91\n",
    "## Importing and Displaying Province91 Data\n",
    "province91 = pd.read_csv(\"files/assignment1/province91.txt\", delim_whitespace=True)\n",
    "display(province91)"
   ],
   "metadata": {
    "collapsed": false,
    "ExecuteTime": {
     "end_time": "2024-03-05T00:55:10.617554Z",
     "start_time": "2024-03-05T00:55:10.442893500Z"
    }
   },
   "id": "13774ae19f4521f3"
  },
  {
   "cell_type": "markdown",
   "source": [
    "- Potential for errors, like measurement, non-response, sampling, and coverage errors - and from that, how you would then **weight** your sample to better account for the disparities.\n",
    "*i.e., say I have the very specific sample below. If I wanted to get its values directly in relation to the actual survey, I would need to take a **design weight**. This is a 4, or that the specific sample must be multiplied by 4 to get to the same relative weight as the original sample. Relatively simplistic example but does show what design weight is. Auxiliary data can be used to improve this process.*"
   ],
   "metadata": {
    "collapsed": false
   },
   "id": "b933c60a9ff73798"
  },
  {
   "cell_type": "code",
   "execution_count": 31,
   "outputs": [
    {
     "data": {
      "text/plain": "    Stratum  Cluster  Id Municipality  POP91  LAB91  UE91  HOU85  URB85\n0         1        1   1    Jyväskylä  67200  33786  4123  26881      1\n4         1        3   5   Saarijärvi  10774   4930   721   3730      1\n8         2        6   9       Joutsa   4594   2069   194   1823      0\n12        2        8  13      Kinnula   2324    927   129    675      0\n16        2        1  17   Korpilahti   5181   2144   239   1793      0\n20        2        6  21   Leivonmäki   1370    573    61    545      0\n24        2        7  25   Petäjävesi   3800   1737   262   1352      0\n28        2        1  29   Säynätsalo   3628   1615   166   1226      0",
      "text/html": "<div>\n<style scoped>\n    .dataframe tbody tr th:only-of-type {\n        vertical-align: middle;\n    }\n\n    .dataframe tbody tr th {\n        vertical-align: top;\n    }\n\n    .dataframe thead th {\n        text-align: right;\n    }\n</style>\n<table border=\"1\" class=\"dataframe\">\n  <thead>\n    <tr style=\"text-align: right;\">\n      <th></th>\n      <th>Stratum</th>\n      <th>Cluster</th>\n      <th>Id</th>\n      <th>Municipality</th>\n      <th>POP91</th>\n      <th>LAB91</th>\n      <th>UE91</th>\n      <th>HOU85</th>\n      <th>URB85</th>\n    </tr>\n  </thead>\n  <tbody>\n    <tr>\n      <th>0</th>\n      <td>1</td>\n      <td>1</td>\n      <td>1</td>\n      <td>Jyväskylä</td>\n      <td>67200</td>\n      <td>33786</td>\n      <td>4123</td>\n      <td>26881</td>\n      <td>1</td>\n    </tr>\n    <tr>\n      <th>4</th>\n      <td>1</td>\n      <td>3</td>\n      <td>5</td>\n      <td>Saarijärvi</td>\n      <td>10774</td>\n      <td>4930</td>\n      <td>721</td>\n      <td>3730</td>\n      <td>1</td>\n    </tr>\n    <tr>\n      <th>8</th>\n      <td>2</td>\n      <td>6</td>\n      <td>9</td>\n      <td>Joutsa</td>\n      <td>4594</td>\n      <td>2069</td>\n      <td>194</td>\n      <td>1823</td>\n      <td>0</td>\n    </tr>\n    <tr>\n      <th>12</th>\n      <td>2</td>\n      <td>8</td>\n      <td>13</td>\n      <td>Kinnula</td>\n      <td>2324</td>\n      <td>927</td>\n      <td>129</td>\n      <td>675</td>\n      <td>0</td>\n    </tr>\n    <tr>\n      <th>16</th>\n      <td>2</td>\n      <td>1</td>\n      <td>17</td>\n      <td>Korpilahti</td>\n      <td>5181</td>\n      <td>2144</td>\n      <td>239</td>\n      <td>1793</td>\n      <td>0</td>\n    </tr>\n    <tr>\n      <th>20</th>\n      <td>2</td>\n      <td>6</td>\n      <td>21</td>\n      <td>Leivonmäki</td>\n      <td>1370</td>\n      <td>573</td>\n      <td>61</td>\n      <td>545</td>\n      <td>0</td>\n    </tr>\n    <tr>\n      <th>24</th>\n      <td>2</td>\n      <td>7</td>\n      <td>25</td>\n      <td>Petäjävesi</td>\n      <td>3800</td>\n      <td>1737</td>\n      <td>262</td>\n      <td>1352</td>\n      <td>0</td>\n    </tr>\n    <tr>\n      <th>28</th>\n      <td>2</td>\n      <td>1</td>\n      <td>29</td>\n      <td>Säynätsalo</td>\n      <td>3628</td>\n      <td>1615</td>\n      <td>166</td>\n      <td>1226</td>\n      <td>0</td>\n    </tr>\n  </tbody>\n</table>\n</div>"
     },
     "metadata": {},
     "output_type": "display_data"
    },
    {
     "name": "stdout",
     "output_type": "stream",
     "text": [
      "Prov91 Weight: 4.0\n"
     ]
    }
   ],
   "source": [
    "### Weighting\n",
    "## Specific Sample\n",
    "# Here, I get a list of specific municipalities, then pick those out of the total province 91 dataframe. \n",
    "municipalities_to_select = ['Jyväskylä', 'Saarijärvi', 'Joutsa', 'Kinnula', 'Korpilahti', 'Leivonmäki', 'Petäjävesi', 'Säynätsalo']\n",
    "province91_spec = province91[province91['Municipality'].isin(municipalities_to_select)]\n",
    "display(province91_spec)\n",
    "\n",
    "# Getting the dataframe's weight.\n",
    "prov91_weight = len(province91)/len(province91_spec)\n",
    "print(f\"Prov91 Weight: {prov91_weight}\")"
   ],
   "metadata": {
    "collapsed": false,
    "ExecuteTime": {
     "end_time": "2024-03-05T00:55:10.658807700Z",
     "start_time": "2024-03-05T00:55:10.453091100Z"
    }
   },
   "id": "8dced14fcdea965a"
  },
  {
   "cell_type": "markdown",
   "source": [
    "### Survey Methods\n",
    "When you are handling massive populations, it is unreasonable to go and speak or monitor every single individual. There are a number of useful ways to handle sampling surveys in order to try and reduce the load while still getting an accurate sample and result. These methods are:\n",
    "\n",
    "- A **Simple Random Sample (SRS)**, which is when the values in a larger dataset are randomly selected to some new n in order to get a sample. There are two types of SRS samples - **Without Replacement (SRSWOR)**, or when the values are simply chosen out from the original dataset at random without changing the original dataset during the selection process, and **With Replacement (SRSWR)**, which is when the sample element is removed from the dataset after selecting one random value, so that it is not chosen again.\n",
    "*i.e., Below is an example of how you would do a basic simple random sampling in Python on a pandas dataframe.*"
   ],
   "metadata": {
    "collapsed": false
   },
   "id": "e7a2686c6de8db9d"
  },
  {
   "cell_type": "code",
   "execution_count": 32,
   "id": "initial_id",
   "metadata": {
    "collapsed": true,
    "jupyter": {
     "outputs_hidden": true
    },
    "ExecuteTime": {
     "end_time": "2024-03-05T00:55:10.660812200Z",
     "start_time": "2024-03-05T00:55:10.470282800Z"
    }
   },
   "outputs": [
    {
     "name": "stdout",
     "output_type": "stream",
     "text": [
      "Province 91 Simple Random Without Replacement (SRSWOR)\n"
     ]
    },
    {
     "data": {
      "text/plain": "    Stratum  Cluster  Id Municipality  POP91  LAB91  UE91  HOU85  URB85\n7         2        5   8   Hankasalmi   6080   2594   391   2179      0\n31        2        8  32   Viitasaari   8641   4011   568   3119      0\n5         1        5   6     Suolahti   6159   3022   457   2389      1\n26        2        4  27   Pylkönmäki   1266    545    98    473      0\n8         2        6   9       Joutsa   4594   2069   194   1823      0\n27        2        3  28    Sumiainen   1426    617    79    485      0\n12        2        8  13      Kinnula   2324    927   129    675      0\n21        2        6  22      Luhanka   1153    522    54    435      0",
      "text/html": "<div>\n<style scoped>\n    .dataframe tbody tr th:only-of-type {\n        vertical-align: middle;\n    }\n\n    .dataframe tbody tr th {\n        vertical-align: top;\n    }\n\n    .dataframe thead th {\n        text-align: right;\n    }\n</style>\n<table border=\"1\" class=\"dataframe\">\n  <thead>\n    <tr style=\"text-align: right;\">\n      <th></th>\n      <th>Stratum</th>\n      <th>Cluster</th>\n      <th>Id</th>\n      <th>Municipality</th>\n      <th>POP91</th>\n      <th>LAB91</th>\n      <th>UE91</th>\n      <th>HOU85</th>\n      <th>URB85</th>\n    </tr>\n  </thead>\n  <tbody>\n    <tr>\n      <th>7</th>\n      <td>2</td>\n      <td>5</td>\n      <td>8</td>\n      <td>Hankasalmi</td>\n      <td>6080</td>\n      <td>2594</td>\n      <td>391</td>\n      <td>2179</td>\n      <td>0</td>\n    </tr>\n    <tr>\n      <th>31</th>\n      <td>2</td>\n      <td>8</td>\n      <td>32</td>\n      <td>Viitasaari</td>\n      <td>8641</td>\n      <td>4011</td>\n      <td>568</td>\n      <td>3119</td>\n      <td>0</td>\n    </tr>\n    <tr>\n      <th>5</th>\n      <td>1</td>\n      <td>5</td>\n      <td>6</td>\n      <td>Suolahti</td>\n      <td>6159</td>\n      <td>3022</td>\n      <td>457</td>\n      <td>2389</td>\n      <td>1</td>\n    </tr>\n    <tr>\n      <th>26</th>\n      <td>2</td>\n      <td>4</td>\n      <td>27</td>\n      <td>Pylkönmäki</td>\n      <td>1266</td>\n      <td>545</td>\n      <td>98</td>\n      <td>473</td>\n      <td>0</td>\n    </tr>\n    <tr>\n      <th>8</th>\n      <td>2</td>\n      <td>6</td>\n      <td>9</td>\n      <td>Joutsa</td>\n      <td>4594</td>\n      <td>2069</td>\n      <td>194</td>\n      <td>1823</td>\n      <td>0</td>\n    </tr>\n    <tr>\n      <th>27</th>\n      <td>2</td>\n      <td>3</td>\n      <td>28</td>\n      <td>Sumiainen</td>\n      <td>1426</td>\n      <td>617</td>\n      <td>79</td>\n      <td>485</td>\n      <td>0</td>\n    </tr>\n    <tr>\n      <th>12</th>\n      <td>2</td>\n      <td>8</td>\n      <td>13</td>\n      <td>Kinnula</td>\n      <td>2324</td>\n      <td>927</td>\n      <td>129</td>\n      <td>675</td>\n      <td>0</td>\n    </tr>\n    <tr>\n      <th>21</th>\n      <td>2</td>\n      <td>6</td>\n      <td>22</td>\n      <td>Luhanka</td>\n      <td>1153</td>\n      <td>522</td>\n      <td>54</td>\n      <td>435</td>\n      <td>0</td>\n    </tr>\n  </tbody>\n</table>\n</div>"
     },
     "metadata": {},
     "output_type": "display_data"
    },
    {
     "name": "stdout",
     "output_type": "stream",
     "text": [
      "Province 91 Simple Random With Replacement (SRSWR)\n"
     ]
    },
    {
     "data": {
      "text/plain": "    Stratum  Cluster  Id Municipality  POP91  LAB91  UE91  HOU85  URB85\n7         2        5   8   Hankasalmi   6080   2594   391   2179      0\n31        2        8  32   Viitasaari   8641   4011   568   3119      0\n5         1        5   6     Suolahti   6159   3022   457   2389      1\n26        2        4  27   Pylkönmäki   1266    545    98    473      0\n8         2        6   9       Joutsa   4594   2069   194   1823      0\n27        2        3  28    Sumiainen   1426    617    79    485      0\n12        2        8  13      Kinnula   2324    927   129    675      0\n21        2        6  22      Luhanka   1153    522    54    435      0",
      "text/html": "<div>\n<style scoped>\n    .dataframe tbody tr th:only-of-type {\n        vertical-align: middle;\n    }\n\n    .dataframe tbody tr th {\n        vertical-align: top;\n    }\n\n    .dataframe thead th {\n        text-align: right;\n    }\n</style>\n<table border=\"1\" class=\"dataframe\">\n  <thead>\n    <tr style=\"text-align: right;\">\n      <th></th>\n      <th>Stratum</th>\n      <th>Cluster</th>\n      <th>Id</th>\n      <th>Municipality</th>\n      <th>POP91</th>\n      <th>LAB91</th>\n      <th>UE91</th>\n      <th>HOU85</th>\n      <th>URB85</th>\n    </tr>\n  </thead>\n  <tbody>\n    <tr>\n      <th>7</th>\n      <td>2</td>\n      <td>5</td>\n      <td>8</td>\n      <td>Hankasalmi</td>\n      <td>6080</td>\n      <td>2594</td>\n      <td>391</td>\n      <td>2179</td>\n      <td>0</td>\n    </tr>\n    <tr>\n      <th>31</th>\n      <td>2</td>\n      <td>8</td>\n      <td>32</td>\n      <td>Viitasaari</td>\n      <td>8641</td>\n      <td>4011</td>\n      <td>568</td>\n      <td>3119</td>\n      <td>0</td>\n    </tr>\n    <tr>\n      <th>5</th>\n      <td>1</td>\n      <td>5</td>\n      <td>6</td>\n      <td>Suolahti</td>\n      <td>6159</td>\n      <td>3022</td>\n      <td>457</td>\n      <td>2389</td>\n      <td>1</td>\n    </tr>\n    <tr>\n      <th>26</th>\n      <td>2</td>\n      <td>4</td>\n      <td>27</td>\n      <td>Pylkönmäki</td>\n      <td>1266</td>\n      <td>545</td>\n      <td>98</td>\n      <td>473</td>\n      <td>0</td>\n    </tr>\n    <tr>\n      <th>8</th>\n      <td>2</td>\n      <td>6</td>\n      <td>9</td>\n      <td>Joutsa</td>\n      <td>4594</td>\n      <td>2069</td>\n      <td>194</td>\n      <td>1823</td>\n      <td>0</td>\n    </tr>\n    <tr>\n      <th>27</th>\n      <td>2</td>\n      <td>3</td>\n      <td>28</td>\n      <td>Sumiainen</td>\n      <td>1426</td>\n      <td>617</td>\n      <td>79</td>\n      <td>485</td>\n      <td>0</td>\n    </tr>\n    <tr>\n      <th>12</th>\n      <td>2</td>\n      <td>8</td>\n      <td>13</td>\n      <td>Kinnula</td>\n      <td>2324</td>\n      <td>927</td>\n      <td>129</td>\n      <td>675</td>\n      <td>0</td>\n    </tr>\n    <tr>\n      <th>21</th>\n      <td>2</td>\n      <td>6</td>\n      <td>22</td>\n      <td>Luhanka</td>\n      <td>1153</td>\n      <td>522</td>\n      <td>54</td>\n      <td>435</td>\n      <td>0</td>\n    </tr>\n  </tbody>\n</table>\n</div>"
     },
     "metadata": {},
     "output_type": "display_data"
    }
   ],
   "source": [
    "### Simple Random Sampling\n",
    "## Without Replacement\n",
    "# I am setting a random_state here again because .sample comes from pandas usage of numpy, rather than numpy itself. Numpy's random state, therefore, does not automatically apply to pandas.\n",
    "prov91_SRSWOR = province91.sample(n=8, replace=False, random_state=123)\n",
    "print(\"Province 91 Simple Random Without Replacement (SRSWOR)\")\n",
    "display(prov91_SRSWOR)\n",
    "\n",
    "## With Replacement\n",
    "prov91_SRSWR = province91.sample(n=8, replace=True, random_state=123)\n",
    "print(\"Province 91 Simple Random With Replacement (SRSWR)\")\n",
    "display(prov91_SRSWOR)"
   ]
  },
  {
   "cell_type": "markdown",
   "source": [
    "- **Systematic Sampling (SYS)**, a commonly used form of sampling where you select every successive x element, where x is defined as N/n, or the original sample size to your new desired sample size.\n",
    "*i.e., Below is a basic function for systematic sampling that will start at the 0 index and step based on a given parameter throughout the function.*"
   ],
   "metadata": {
    "collapsed": false
   },
   "id": "7a3eeb8dfe2b3006"
  },
  {
   "cell_type": "code",
   "execution_count": 33,
   "outputs": [
    {
     "name": "stdout",
     "output_type": "stream",
     "text": [
      "Province 91 Systematic Sample (SYS)\n"
     ]
    },
    {
     "data": {
      "text/plain": "    Stratum  Cluster  Id Municipality  POP91  LAB91  UE91  HOU85  URB85\n0         1        1   1    Jyväskylä  67200  33786  4123  26881      1\n4         1        3   5   Saarijärvi  10774   4930   721   3730      1\n8         2        6   9       Joutsa   4594   2069   194   1823      0\n12        2        8  13      Kinnula   2324    927   129    675      0\n16        2        1  17   Korpilahti   5181   2144   239   1793      0\n20        2        6  21   Leivonmäki   1370    573    61    545      0\n24        2        7  25   Petäjävesi   3800   1737   262   1352      0\n28        2        1  29   Säynätsalo   3628   1615   166   1226      0",
      "text/html": "<div>\n<style scoped>\n    .dataframe tbody tr th:only-of-type {\n        vertical-align: middle;\n    }\n\n    .dataframe tbody tr th {\n        vertical-align: top;\n    }\n\n    .dataframe thead th {\n        text-align: right;\n    }\n</style>\n<table border=\"1\" class=\"dataframe\">\n  <thead>\n    <tr style=\"text-align: right;\">\n      <th></th>\n      <th>Stratum</th>\n      <th>Cluster</th>\n      <th>Id</th>\n      <th>Municipality</th>\n      <th>POP91</th>\n      <th>LAB91</th>\n      <th>UE91</th>\n      <th>HOU85</th>\n      <th>URB85</th>\n    </tr>\n  </thead>\n  <tbody>\n    <tr>\n      <th>0</th>\n      <td>1</td>\n      <td>1</td>\n      <td>1</td>\n      <td>Jyväskylä</td>\n      <td>67200</td>\n      <td>33786</td>\n      <td>4123</td>\n      <td>26881</td>\n      <td>1</td>\n    </tr>\n    <tr>\n      <th>4</th>\n      <td>1</td>\n      <td>3</td>\n      <td>5</td>\n      <td>Saarijärvi</td>\n      <td>10774</td>\n      <td>4930</td>\n      <td>721</td>\n      <td>3730</td>\n      <td>1</td>\n    </tr>\n    <tr>\n      <th>8</th>\n      <td>2</td>\n      <td>6</td>\n      <td>9</td>\n      <td>Joutsa</td>\n      <td>4594</td>\n      <td>2069</td>\n      <td>194</td>\n      <td>1823</td>\n      <td>0</td>\n    </tr>\n    <tr>\n      <th>12</th>\n      <td>2</td>\n      <td>8</td>\n      <td>13</td>\n      <td>Kinnula</td>\n      <td>2324</td>\n      <td>927</td>\n      <td>129</td>\n      <td>675</td>\n      <td>0</td>\n    </tr>\n    <tr>\n      <th>16</th>\n      <td>2</td>\n      <td>1</td>\n      <td>17</td>\n      <td>Korpilahti</td>\n      <td>5181</td>\n      <td>2144</td>\n      <td>239</td>\n      <td>1793</td>\n      <td>0</td>\n    </tr>\n    <tr>\n      <th>20</th>\n      <td>2</td>\n      <td>6</td>\n      <td>21</td>\n      <td>Leivonmäki</td>\n      <td>1370</td>\n      <td>573</td>\n      <td>61</td>\n      <td>545</td>\n      <td>0</td>\n    </tr>\n    <tr>\n      <th>24</th>\n      <td>2</td>\n      <td>7</td>\n      <td>25</td>\n      <td>Petäjävesi</td>\n      <td>3800</td>\n      <td>1737</td>\n      <td>262</td>\n      <td>1352</td>\n      <td>0</td>\n    </tr>\n    <tr>\n      <th>28</th>\n      <td>2</td>\n      <td>1</td>\n      <td>29</td>\n      <td>Säynätsalo</td>\n      <td>3628</td>\n      <td>1615</td>\n      <td>166</td>\n      <td>1226</td>\n      <td>0</td>\n    </tr>\n  </tbody>\n</table>\n</div>"
     },
     "metadata": {},
     "output_type": "display_data"
    }
   ],
   "source": [
    "import numpy as np\n",
    "\n",
    "### Systematic Sampling\n",
    "def systematic_sampling(df, step):\n",
    "    \"\"\"Preforms basic systematic sampling on a python dataset, utilizing a dataframe and step value. Indexes the values with numpy.arrange, which takes evenly spaced values in an interval, and then locates those relevant indexes into a new dataframe.\"\"\"\n",
    "    indexes = np.arange(0, len(df), step=step)\n",
    "    systematic_sample = df.iloc[indexes]\n",
    "    return systematic_sample\n",
    "\n",
    "## Creating the desired sample\n",
    "province91_sys = systematic_sampling(province91, step=4)\n",
    "print(\"Province 91 Systematic Sample (SYS)\")\n",
    "display(province91_sys)\n"
   ],
   "metadata": {
    "collapsed": false,
    "ExecuteTime": {
     "end_time": "2024-03-05T00:55:10.661814900Z",
     "start_time": "2024-03-05T00:55:10.490738400Z"
    }
   },
   "id": "1e79aa98d2fa7715"
  },
  {
   "cell_type": "markdown",
   "source": [
    "- **Stratified Sampling (SYS)**, or when you select specific subpopulations from within the sample. There are two types of stratified sampling allocations. **Equal Stratum Sampling** is when your new stratum(s) are chosen from an equal amount, regardless of their relative individual size. **Proportional Stratum Sampling** is when you choose based on their relative individual size.\n",
    "*i.e., below I take a new stratum based on whether the province's unemployed population is above the sample mean. This is only 25% of provinces. if I do an equal allocation, then there would be 4 above the mean and 4 below. If I do proportional, then there would only be 2 above the mean and 6 from below.*\n",
    "- **Proportional Sampling (PPS)**, or an unequal form of sampling built off of stratified sampling where the probability of choosing an element is proportional to its size.\n",
    "*i.e., if one province had a population 10x that of another, it would be more likely to be selected from the sample. The size variable must therefore be known before sampling. This is not shown below, but my stratified sample follows a similar mindset, with a greater selection of more populated municipalities.*"
   ],
   "metadata": {
    "collapsed": false
   },
   "id": "c34415b6e784c4c5"
  },
  {
   "cell_type": "code",
   "execution_count": 34,
   "outputs": [
    {
     "name": "stdout",
     "output_type": "stream",
     "text": [
      "Province 91 Proportional Stratum Sample (SYS-P)\n"
     ]
    },
    {
     "data": {
      "text/plain": "    Stratum  Cluster  Id Municipality  POP91  LAB91  UE91  HOU85  URB85  \\\n12        2        8  13      Kinnula   2324    927   129    675      0   \n27        2        3  28    Sumiainen   1426    617    79    485      0   \n28        2        1  29   Säynätsalo   3628   1615   166   1226      0   \n26        2        4  27   Pylkönmäki   1266    545    98    473      0   \n22        2        7  23       Multia   2375   1059   119    925      0   \n15        2        5  16    Konnevesi   3453   1557   201   1215      0   \n19        2        5  20       Laukaa  16042   7218   874   4952      0   \n0         1        1   1    Jyväskylä  67200  33786  4123  26881      1   \n\n    UE91 Above Mean  \n12                0  \n27                0  \n28                0  \n26                0  \n22                0  \n15                0  \n19                1  \n0                 1  ",
      "text/html": "<div>\n<style scoped>\n    .dataframe tbody tr th:only-of-type {\n        vertical-align: middle;\n    }\n\n    .dataframe tbody tr th {\n        vertical-align: top;\n    }\n\n    .dataframe thead th {\n        text-align: right;\n    }\n</style>\n<table border=\"1\" class=\"dataframe\">\n  <thead>\n    <tr style=\"text-align: right;\">\n      <th></th>\n      <th>Stratum</th>\n      <th>Cluster</th>\n      <th>Id</th>\n      <th>Municipality</th>\n      <th>POP91</th>\n      <th>LAB91</th>\n      <th>UE91</th>\n      <th>HOU85</th>\n      <th>URB85</th>\n      <th>UE91 Above Mean</th>\n    </tr>\n  </thead>\n  <tbody>\n    <tr>\n      <th>12</th>\n      <td>2</td>\n      <td>8</td>\n      <td>13</td>\n      <td>Kinnula</td>\n      <td>2324</td>\n      <td>927</td>\n      <td>129</td>\n      <td>675</td>\n      <td>0</td>\n      <td>0</td>\n    </tr>\n    <tr>\n      <th>27</th>\n      <td>2</td>\n      <td>3</td>\n      <td>28</td>\n      <td>Sumiainen</td>\n      <td>1426</td>\n      <td>617</td>\n      <td>79</td>\n      <td>485</td>\n      <td>0</td>\n      <td>0</td>\n    </tr>\n    <tr>\n      <th>28</th>\n      <td>2</td>\n      <td>1</td>\n      <td>29</td>\n      <td>Säynätsalo</td>\n      <td>3628</td>\n      <td>1615</td>\n      <td>166</td>\n      <td>1226</td>\n      <td>0</td>\n      <td>0</td>\n    </tr>\n    <tr>\n      <th>26</th>\n      <td>2</td>\n      <td>4</td>\n      <td>27</td>\n      <td>Pylkönmäki</td>\n      <td>1266</td>\n      <td>545</td>\n      <td>98</td>\n      <td>473</td>\n      <td>0</td>\n      <td>0</td>\n    </tr>\n    <tr>\n      <th>22</th>\n      <td>2</td>\n      <td>7</td>\n      <td>23</td>\n      <td>Multia</td>\n      <td>2375</td>\n      <td>1059</td>\n      <td>119</td>\n      <td>925</td>\n      <td>0</td>\n      <td>0</td>\n    </tr>\n    <tr>\n      <th>15</th>\n      <td>2</td>\n      <td>5</td>\n      <td>16</td>\n      <td>Konnevesi</td>\n      <td>3453</td>\n      <td>1557</td>\n      <td>201</td>\n      <td>1215</td>\n      <td>0</td>\n      <td>0</td>\n    </tr>\n    <tr>\n      <th>19</th>\n      <td>2</td>\n      <td>5</td>\n      <td>20</td>\n      <td>Laukaa</td>\n      <td>16042</td>\n      <td>7218</td>\n      <td>874</td>\n      <td>4952</td>\n      <td>0</td>\n      <td>1</td>\n    </tr>\n    <tr>\n      <th>0</th>\n      <td>1</td>\n      <td>1</td>\n      <td>1</td>\n      <td>Jyväskylä</td>\n      <td>67200</td>\n      <td>33786</td>\n      <td>4123</td>\n      <td>26881</td>\n      <td>1</td>\n      <td>1</td>\n    </tr>\n  </tbody>\n</table>\n</div>"
     },
     "metadata": {},
     "output_type": "display_data"
    },
    {
     "name": "stdout",
     "output_type": "stream",
     "text": [
      "Province 91 Equal Allocation Stratum Sample (SYS-E)\n"
     ]
    },
    {
     "data": {
      "text/plain": "    Stratum  Cluster  Id Municipality  POP91  LAB91  UE91  HOU85  URB85  \\\n12        2        8  13      Kinnula   2324    927   129    675      0   \n27        2        3  28    Sumiainen   1426    617    79    485      0   \n28        2        1  29   Säynätsalo   3628   1615   166   1226      0   \n26        2        4  27   Pylkönmäki   1266    545    98    473      0   \n19        2        5  20       Laukaa  16042   7218   874   4952      0   \n0         1        1   1    Jyväskylä  67200  33786  4123  26881      1   \n6         1        3   7    Äänekoski  11595   5823   767   4264      1   \n9         2        7  10    Jyväskmlk  29349  13727  1623   9230      0   \n\n    UE91 Above Mean  \n12                0  \n27                0  \n28                0  \n26                0  \n19                1  \n0                 1  \n6                 1  \n9                 1  ",
      "text/html": "<div>\n<style scoped>\n    .dataframe tbody tr th:only-of-type {\n        vertical-align: middle;\n    }\n\n    .dataframe tbody tr th {\n        vertical-align: top;\n    }\n\n    .dataframe thead th {\n        text-align: right;\n    }\n</style>\n<table border=\"1\" class=\"dataframe\">\n  <thead>\n    <tr style=\"text-align: right;\">\n      <th></th>\n      <th>Stratum</th>\n      <th>Cluster</th>\n      <th>Id</th>\n      <th>Municipality</th>\n      <th>POP91</th>\n      <th>LAB91</th>\n      <th>UE91</th>\n      <th>HOU85</th>\n      <th>URB85</th>\n      <th>UE91 Above Mean</th>\n    </tr>\n  </thead>\n  <tbody>\n    <tr>\n      <th>12</th>\n      <td>2</td>\n      <td>8</td>\n      <td>13</td>\n      <td>Kinnula</td>\n      <td>2324</td>\n      <td>927</td>\n      <td>129</td>\n      <td>675</td>\n      <td>0</td>\n      <td>0</td>\n    </tr>\n    <tr>\n      <th>27</th>\n      <td>2</td>\n      <td>3</td>\n      <td>28</td>\n      <td>Sumiainen</td>\n      <td>1426</td>\n      <td>617</td>\n      <td>79</td>\n      <td>485</td>\n      <td>0</td>\n      <td>0</td>\n    </tr>\n    <tr>\n      <th>28</th>\n      <td>2</td>\n      <td>1</td>\n      <td>29</td>\n      <td>Säynätsalo</td>\n      <td>3628</td>\n      <td>1615</td>\n      <td>166</td>\n      <td>1226</td>\n      <td>0</td>\n      <td>0</td>\n    </tr>\n    <tr>\n      <th>26</th>\n      <td>2</td>\n      <td>4</td>\n      <td>27</td>\n      <td>Pylkönmäki</td>\n      <td>1266</td>\n      <td>545</td>\n      <td>98</td>\n      <td>473</td>\n      <td>0</td>\n      <td>0</td>\n    </tr>\n    <tr>\n      <th>19</th>\n      <td>2</td>\n      <td>5</td>\n      <td>20</td>\n      <td>Laukaa</td>\n      <td>16042</td>\n      <td>7218</td>\n      <td>874</td>\n      <td>4952</td>\n      <td>0</td>\n      <td>1</td>\n    </tr>\n    <tr>\n      <th>0</th>\n      <td>1</td>\n      <td>1</td>\n      <td>1</td>\n      <td>Jyväskylä</td>\n      <td>67200</td>\n      <td>33786</td>\n      <td>4123</td>\n      <td>26881</td>\n      <td>1</td>\n      <td>1</td>\n    </tr>\n    <tr>\n      <th>6</th>\n      <td>1</td>\n      <td>3</td>\n      <td>7</td>\n      <td>Äänekoski</td>\n      <td>11595</td>\n      <td>5823</td>\n      <td>767</td>\n      <td>4264</td>\n      <td>1</td>\n      <td>1</td>\n    </tr>\n    <tr>\n      <th>9</th>\n      <td>2</td>\n      <td>7</td>\n      <td>10</td>\n      <td>Jyväskmlk</td>\n      <td>29349</td>\n      <td>13727</td>\n      <td>1623</td>\n      <td>9230</td>\n      <td>0</td>\n      <td>1</td>\n    </tr>\n  </tbody>\n</table>\n</div>"
     },
     "metadata": {},
     "output_type": "display_data"
    }
   ],
   "source": [
    "### Stratified Sampling\n",
    "# Mean notably above the median for UE91, so creating new stratum that separates UE91 by the mean.\n",
    "province91['UE91 Above Mean'] = (province91['UE91'] > province91['UE91'].mean()).astype(int)\n",
    "\n",
    "## Stratum Sampling by UE91 Mean Stratum - Proportional Allocation\n",
    "prov91_prop_ue91mean = province91.groupby(\"UE91 Above Mean\", group_keys = False).apply(lambda x: x.sample(frac=0.25, random_state=123))\n",
    "print(\"Province 91 Proportional Stratum Sample (SYS-P)\")\n",
    "display(prov91_prop_ue91mean)\n",
    "\n",
    "## Stratum Sampling by UE91 Mean Stratum - Equal Allocation\n",
    "prov91_equal_ue91mean = province91.groupby(\"UE91 Above Mean\", group_keys = False).apply(lambda x: x.sample(4, random_state=123))\n",
    "print(\"Province 91 Equal Allocation Stratum Sample (SYS-E)\")\n",
    "display(prov91_equal_ue91mean)"
   ],
   "metadata": {
    "collapsed": false,
    "ExecuteTime": {
     "end_time": "2024-03-05T00:55:10.671840400Z",
     "start_time": "2024-03-05T00:55:10.502386700Z"
    }
   },
   "id": "a9ff0406138aaa44"
  },
  {
   "cell_type": "markdown",
   "source": [
    "- **Cluster Sampling (CLU)**, or when you divide a population into separate clusters and then randomly select one of those clusters - or multiple clusters or additional sampling methods on top of those clusters, depending on your approach - to be your sample.\n",
    "*i.e., below, I get a random list of 1-4 based on the length of province 91, then shuffle that list of numbers and apply it to create cluster samples. You can see the division between the clusters in the display below.*"
   ],
   "metadata": {
    "collapsed": false
   },
   "id": "82e0a281e86021e6"
  },
  {
   "cell_type": "code",
   "execution_count": 35,
   "outputs": [
    {
     "name": "stdout",
     "output_type": "stream",
     "text": [
      "Province 91 Cluster Sample (CLU)\n",
      "Cluster_Sampling\n",
      "4    8\n",
      "2    8\n",
      "3    8\n",
      "1    8\n",
      "Name: count, dtype: int64\n"
     ]
    }
   ],
   "source": [
    "### Cluster Sampling\n",
    "# Randomizing cluster values from 1 to 4\n",
    "np.random.seed(123)\n",
    "randomized_task = [1, 2, 3, 4]*(len(province91)//4)\n",
    "np.random.shuffle(randomized_task)\n",
    "\n",
    "# Creating cluster list in code\n",
    "province91['Cluster_Sampling'] = randomized_task\n",
    "\n",
    "# Showing that the clusters were successful.\n",
    "print(\"Province 91 Cluster Sample (CLU)\")\n",
    "cluster_counts = province91['Cluster_Sampling'].value_counts()\n",
    "print(cluster_counts)"
   ],
   "metadata": {
    "collapsed": false,
    "ExecuteTime": {
     "end_time": "2024-03-05T00:55:10.672843200Z",
     "start_time": "2024-03-05T00:55:10.528594Z"
    }
   },
   "id": "611544acc909aa3a"
  },
  {
   "cell_type": "markdown",
   "source": [
    "### Survey Accuracy\n",
    "It is not enough to simply grab a sample for your survey. It is also important to understand the information behind it, and to ensure that it is accurate. There are some other tools to do this:\n",
    "\n",
    "- The estimators of **total**, **ratio**, **median**, and other descriptors. These are important for understanding the basics of your sample, and can be used in a variety of other ways.\n",
    "*i.e., Getting the total can be based off of your weighted values. The example below does this with the simple random sampling with replacement. As one can see, the total value is different from the predicted total value simply due to the random nature of SRS. Creating an accurate survey method is an important part of survey sampling.*\n"
   ],
   "metadata": {
    "collapsed": false
   },
   "id": "2001afbe2f532a9f"
  },
  {
   "cell_type": "code",
   "execution_count": 36,
   "outputs": [
    {
     "name": "stdout",
     "output_type": "stream",
     "text": [
      "SRSWR's prediced total value: 10968.0\n",
      "Actual total value: 15098\n"
     ]
    }
   ],
   "source": [
    "### Weighted Total\n",
    "prov91_weight = len(province91)/len(prov91_SRSWR)\n",
    "total_ue91 = prov91_weight*prov91_SRSWR['UE91'].sum()\n",
    "print(f\"SRSWR's prediced total value: {total_ue91}\")\n",
    "print(f\"Actual total value: {province91['UE91'].sum()}\")"
   ],
   "metadata": {
    "collapsed": false,
    "ExecuteTime": {
     "end_time": "2024-03-05T00:55:10.672843200Z",
     "start_time": "2024-03-05T00:55:10.536782200Z"
    }
   },
   "id": "b0876f51171b4151"
  },
  {
   "cell_type": "markdown",
   "source": [
    "*Getting all descriptors, however, can prove more useful than just the total, such as standard deviation and the expected 25% and 75%tile values. Below is an example function made to show all the different clusters descriptors in a pandas dataframe.*\n"
   ],
   "metadata": {
    "collapsed": false
   },
   "id": "d787819bd8058adc"
  },
  {
   "cell_type": "code",
   "execution_count": 37,
   "outputs": [
    {
     "name": "stdout",
     "output_type": "stream",
     "text": [
      "Cluster Descriptors\n"
     ]
    },
    {
     "data": {
      "text/plain": "        Cluster 1   Cluster 2   Cluster 3    Cluster 4\ncount    8.000000    8.000000    8.000000     8.000000\nmean   320.625000  332.875000  290.250000   943.500000\nstd    274.370416  270.117137  244.243292  1378.191465\nmin     61.000000   54.000000   98.000000    94.000000\n25%    138.500000  160.000000  125.000000   177.750000\n50%    202.500000  275.000000  177.000000   359.500000\n75%    436.000000  425.250000  364.000000   905.250000\nmax    767.000000  874.000000  760.000000  4123.000000",
      "text/html": "<div>\n<style scoped>\n    .dataframe tbody tr th:only-of-type {\n        vertical-align: middle;\n    }\n\n    .dataframe tbody tr th {\n        vertical-align: top;\n    }\n\n    .dataframe thead th {\n        text-align: right;\n    }\n</style>\n<table border=\"1\" class=\"dataframe\">\n  <thead>\n    <tr style=\"text-align: right;\">\n      <th></th>\n      <th>Cluster 1</th>\n      <th>Cluster 2</th>\n      <th>Cluster 3</th>\n      <th>Cluster 4</th>\n    </tr>\n  </thead>\n  <tbody>\n    <tr>\n      <th>count</th>\n      <td>8.000000</td>\n      <td>8.000000</td>\n      <td>8.000000</td>\n      <td>8.000000</td>\n    </tr>\n    <tr>\n      <th>mean</th>\n      <td>320.625000</td>\n      <td>332.875000</td>\n      <td>290.250000</td>\n      <td>943.500000</td>\n    </tr>\n    <tr>\n      <th>std</th>\n      <td>274.370416</td>\n      <td>270.117137</td>\n      <td>244.243292</td>\n      <td>1378.191465</td>\n    </tr>\n    <tr>\n      <th>min</th>\n      <td>61.000000</td>\n      <td>54.000000</td>\n      <td>98.000000</td>\n      <td>94.000000</td>\n    </tr>\n    <tr>\n      <th>25%</th>\n      <td>138.500000</td>\n      <td>160.000000</td>\n      <td>125.000000</td>\n      <td>177.750000</td>\n    </tr>\n    <tr>\n      <th>50%</th>\n      <td>202.500000</td>\n      <td>275.000000</td>\n      <td>177.000000</td>\n      <td>359.500000</td>\n    </tr>\n    <tr>\n      <th>75%</th>\n      <td>436.000000</td>\n      <td>425.250000</td>\n      <td>364.000000</td>\n      <td>905.250000</td>\n    </tr>\n    <tr>\n      <th>max</th>\n      <td>767.000000</td>\n      <td>874.000000</td>\n      <td>760.000000</td>\n      <td>4123.000000</td>\n    </tr>\n  </tbody>\n</table>\n</div>"
     },
     "metadata": {},
     "output_type": "display_data"
    }
   ],
   "source": [
    "### Descriptors\n",
    "def cluster_descr(df, cluster_column, sorting_column):\n",
    "    \"\"\"Given a Pandas dataframe, a cluster column, and a sorting column, find descriptors for all clusters. Implement random and limited cluster selection and working regardless of what value you consider a cluster in the future?\"\"\"\n",
    "    cluster_descriptors = pd.DataFrame()\n",
    "    clusters = sorted(df[cluster_column].unique())\n",
    "    for cluster_num in range(1, len(clusters)+1):\n",
    "        cluster_stats = df.loc[df[cluster_column] == cluster_num, sorting_column].describe()\n",
    "        cluster_descriptors[f'Cluster {clusters[cluster_num-1]}'] = cluster_stats\n",
    "    return cluster_descriptors\n",
    "\n",
    "# Getting Cluster descriptors\n",
    "cluster_descriptors = cluster_descr(province91, \"Cluster_Sampling\", \"UE91\")\n",
    "print(\"Cluster Descriptors\")\n",
    "display(cluster_descriptors)"
   ],
   "metadata": {
    "collapsed": false,
    "ExecuteTime": {
     "end_time": "2024-03-05T00:55:10.674848200Z",
     "start_time": "2024-03-05T00:55:10.548964Z"
    }
   },
   "id": "3cdc0b4f84a582fa"
  },
  {
   "cell_type": "markdown",
   "source": [
    "- **Variance** is the measure of the dispersion, or spread, in your data. **Sample Variance** is the dispersion in your sample, while **Population Variance** would be the variance for the dataset it comes from. This can be useful in understanding how well-knit your information is. Comparing the variances can get you the **design effect (deff)**, which relates how accurate one sample is relative to another.\n",
    "*i.e., below is an example of the variance for the systematic sample, for the simple random sample, and the design effect of 5.92. Design effect is typically compared with SRS. Since the value is greater than 1, the SRS has less variance than the systematic sampling. A better way to check this would be to take samples with these methods a significant number of times, and then compare how the design effect looks afterward.*"
   ],
   "metadata": {
    "collapsed": false
   },
   "id": "fa8b2f6716ebfdc7"
  },
  {
   "cell_type": "code",
   "execution_count": 38,
   "outputs": [
    {
     "data": {
      "text/plain": "   Year       SYS Var      SRS Var      Deff\n0  1991  13549.356569  2285.459629  5.928504",
      "text/html": "<div>\n<style scoped>\n    .dataframe tbody tr th:only-of-type {\n        vertical-align: middle;\n    }\n\n    .dataframe tbody tr th {\n        vertical-align: top;\n    }\n\n    .dataframe thead th {\n        text-align: right;\n    }\n</style>\n<table border=\"1\" class=\"dataframe\">\n  <thead>\n    <tr style=\"text-align: right;\">\n      <th></th>\n      <th>Year</th>\n      <th>SYS Var</th>\n      <th>SRS Var</th>\n      <th>Deff</th>\n    </tr>\n  </thead>\n  <tbody>\n    <tr>\n      <th>0</th>\n      <td>1991</td>\n      <td>13549.356569</td>\n      <td>2285.459629</td>\n      <td>5.928504</td>\n    </tr>\n  </tbody>\n</table>\n</div>"
     },
     "metadata": {},
     "output_type": "display_data"
    }
   ],
   "source": [
    "### Variance and Design Effect\n",
    "\n",
    "def system_var (main, sample, sample_key, is_sqrt = False):\n",
    "    \"\"\"\"Calculates the system variance by manually calculating the information for design variance based on population sizes, given two pandas dataframes of the original information and the sample. Population variance calculated through Pandas var.\"\"\"\n",
    "    sqr = 0.5 if is_sqrt else 1\n",
    "    s_var = ((len(main)**2)*(1-len(sample)/len(main))*(1/len(sample))*sample[sample_key].var(ddof=1))**sqr\n",
    "    return s_var\n",
    "\n",
    "## SRS Sample\n",
    "s_var91_sys = system_var(province91, province91_spec, \"UE91\", is_sqrt = True)\n",
    "s_var91_srs = system_var(province91, prov91_SRSWR, \"UE91\", is_sqrt = True)\n",
    "\n",
    "## deff Calculation\n",
    "s91_deff = s_var91_sys/s_var91_srs\n",
    "\n",
    "## Display\n",
    "display(pd.DataFrame({'Year': [\"1991\"],'SYS Var': [s_var91_sys],'SRS Var': [s_var91_srs],'Deff': [s91_deff]}))\n"
   ],
   "metadata": {
    "collapsed": false,
    "ExecuteTime": {
     "end_time": "2024-03-05T00:55:10.686882200Z",
     "start_time": "2024-03-05T00:55:10.575410700Z"
    }
   },
   "id": "fbca7bb5524cfad5"
  },
  {
   "cell_type": "markdown",
   "source": [
    "## Task 15: Survey Science, Yesterday, Today, Tomorrow\n",
    "\n",
    "For this task, we were to watch the videos at the BNU 2022 August Workshop and give a brief summary of what they were about and what it evokes after the course. Some points of discussion were:\n",
    "- Randomized surveys continue to be important today, but suffer increasing rates of nonresponse and high cost, so questions over the validity of these statistics exist, as people move over to more real-time and less costly forms of data.\n",
    "- Multiple data sources, or some shift in the approach to survey sampling, may be necessary to account for these changes.\n",
    "- Sampling's public acceptance only emerged in the early-to-mid 20th century, and has generally stayed consistent since then. New methods have emerged without rejecting older ones. 1970s helped create greater cumulative change.\n",
    "\n",
    "This brings to me the thought that survey sampling today may benefit from utilizing multiple survey analysis methods, like the machine learning approach that I watched last week, to better isolate a potentially complex but effective way of handling increasing nonresponse within surveys. There will very likely continue to be a use for direct surveys - they remain generally more effective at understanding public opinion then other, less costly methods - but there can be adjustments for the modern era."
   ],
   "metadata": {
    "collapsed": false
   },
   "id": "ca17be73a7d66705"
  },
  {
   "cell_type": "markdown",
   "source": [],
   "metadata": {
    "collapsed": false
   },
   "id": "c8dc492a3107f4eb"
  }
 ],
 "metadata": {
  "kernelspec": {
   "display_name": "Python 3 (ipykernel)",
   "language": "python",
   "name": "python3"
  },
  "language_info": {
   "codemirror_mode": {
    "name": "ipython",
    "version": 3
   },
   "file_extension": ".py",
   "mimetype": "text/x-python",
   "name": "python",
   "nbconvert_exporter": "python",
   "pygments_lexer": "ipython3",
   "version": "3.12.0"
  }
 },
 "nbformat": 4,
 "nbformat_minor": 5
}
