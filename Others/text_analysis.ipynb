{
 "cells": [
  {
   "cell_type": "code",
   "execution_count": 76,
   "id": "initial_id",
   "metadata": {
    "collapsed": true,
    "ExecuteTime": {
     "end_time": "2024-04-07T21:51:30.596849200Z",
     "start_time": "2024-04-07T21:51:26.949161700Z"
    }
   },
   "outputs": [
    {
     "data": {
      "text/plain": "                                                 Message  \\\n0      And why should I believe this “HSL”Apr 7, 2024...   \n1      Hope it gets resolved quicklyApr 7, 2024, 10:3...   \n2      🫡Apr 7, 2024, 9:41 AMRika Yamadathough I do ne...   \n3      NopeApr 7, 2024, 9:40 AMRika Yamadaoh? no dnd?...   \n4      I am also free now bc no show so if you want t...   \n...                                                  ...   \n10029  we just finished shopping lmaoDec 22, 2023, 5:...   \n10030  ripDec 22, 2023, 5:56 AMKai Ferragallo-Hawkins...   \n10031            in this weather :’Dec 22, 2023, 1:52 AM   \n10032  there is a man next to me on the bus who is st...   \n10033  how’s your second learning diary going?Dec 22,...   \n\n                         Name  \n0      Kai Ferragallo-Hawkins  \n1      Kai Ferragallo-Hawkins  \n2      Kai Ferragallo-Hawkins  \n3      Kai Ferragallo-Hawkins  \n4      Kai Ferragallo-Hawkins  \n...                       ...  \n10029             Rika Yamada  \n10030             Rika Yamada  \n10031             Rika Yamada  \n10032             Rika Yamada  \n10033             Rika Yamada  \n\n[10034 rows x 2 columns]",
      "text/html": "<div>\n<style scoped>\n    .dataframe tbody tr th:only-of-type {\n        vertical-align: middle;\n    }\n\n    .dataframe tbody tr th {\n        vertical-align: top;\n    }\n\n    .dataframe thead th {\n        text-align: right;\n    }\n</style>\n<table border=\"1\" class=\"dataframe\">\n  <thead>\n    <tr style=\"text-align: right;\">\n      <th></th>\n      <th>Message</th>\n      <th>Name</th>\n    </tr>\n  </thead>\n  <tbody>\n    <tr>\n      <th>0</th>\n      <td>And why should I believe this “HSL”Apr 7, 2024...</td>\n      <td>Kai Ferragallo-Hawkins</td>\n    </tr>\n    <tr>\n      <th>1</th>\n      <td>Hope it gets resolved quicklyApr 7, 2024, 10:3...</td>\n      <td>Kai Ferragallo-Hawkins</td>\n    </tr>\n    <tr>\n      <th>2</th>\n      <td>🫡Apr 7, 2024, 9:41 AMRika Yamadathough I do ne...</td>\n      <td>Kai Ferragallo-Hawkins</td>\n    </tr>\n    <tr>\n      <th>3</th>\n      <td>NopeApr 7, 2024, 9:40 AMRika Yamadaoh? no dnd?...</td>\n      <td>Kai Ferragallo-Hawkins</td>\n    </tr>\n    <tr>\n      <th>4</th>\n      <td>I am also free now bc no show so if you want t...</td>\n      <td>Kai Ferragallo-Hawkins</td>\n    </tr>\n    <tr>\n      <th>...</th>\n      <td>...</td>\n      <td>...</td>\n    </tr>\n    <tr>\n      <th>10029</th>\n      <td>we just finished shopping lmaoDec 22, 2023, 5:...</td>\n      <td>Rika Yamada</td>\n    </tr>\n    <tr>\n      <th>10030</th>\n      <td>ripDec 22, 2023, 5:56 AMKai Ferragallo-Hawkins...</td>\n      <td>Rika Yamada</td>\n    </tr>\n    <tr>\n      <th>10031</th>\n      <td>in this weather :’Dec 22, 2023, 1:52 AM</td>\n      <td>Rika Yamada</td>\n    </tr>\n    <tr>\n      <th>10032</th>\n      <td>there is a man next to me on the bus who is st...</td>\n      <td>Rika Yamada</td>\n    </tr>\n    <tr>\n      <th>10033</th>\n      <td>how’s your second learning diary going?Dec 22,...</td>\n      <td>Rika Yamada</td>\n    </tr>\n  </tbody>\n</table>\n<p>10034 rows × 2 columns</p>\n</div>"
     },
     "metadata": {},
     "output_type": "display_data"
    }
   ],
   "source": [
    "from bs4 import BeautifulSoup\n",
    "import pandas as pd\n",
    "\n",
    "# Read the HTML file\n",
    "with open('messages/rika/message_1.html', 'r', encoding='utf-8') as file:\n",
    "    html_content = file.read()\n",
    "\n",
    "# Parse the HTML content\n",
    "soup = BeautifulSoup(html_content, 'html.parser')\n",
    "\n",
    "# Extract text from the HTML\n",
    "text = soup.get_text()\n",
    "\n",
    "# Split text based on the names\n",
    "kai_messages, rika_messages = text.split('Kai Ferragallo-Hawkins')[1:], text.split('Rika Yamada')[1:]\n",
    "\n",
    "# Create DataFrames for each person\n",
    "kai_df = pd.DataFrame({'Message': kai_messages})\n",
    "rika_df = pd.DataFrame({'Message': rika_messages})\n",
    "\n",
    "# Add names to DataFrames\n",
    "kai_df['Name'] = 'Kai Ferragallo-Hawkins'\n",
    "rika_df['Name'] = 'Rika Yamada'\n",
    "\n",
    "# Concatenate DataFrames\n",
    "df = pd.concat([kai_df, rika_df], ignore_index=True)\n",
    "\n",
    "# Display the DataFrame\n",
    "display(df)\n"
   ]
  },
  {
   "cell_type": "code",
   "execution_count": 74,
   "outputs": [
    {
     "name": "stdout",
     "output_type": "stream",
     "text": [
      "                  sender_name month_sent  \\\n",
      "0                 Rika Yamada    2024-04   \n",
      "1                 Rika Yamada    2024-04   \n",
      "2      Kai Ferragallo-Hawkins    2024-04   \n",
      "3                 Rika Yamada    2024-04   \n",
      "4      Kai Ferragallo-Hawkins    2024-04   \n",
      "...                       ...        ...   \n",
      "31057             Rika Yamada    2023-09   \n",
      "31058             Rika Yamada    2023-09   \n",
      "31059  Kai Ferragallo-Hawkins    2023-09   \n",
      "31060  Kai Ferragallo-Hawkins    2023-09   \n",
      "31061  Kai Ferragallo-Hawkins    2023-09   \n",
      "\n",
      "                                                 content  \n",
      "0                                      Though I am close  \n",
      "1                You shouldnât, itâs rarely accurate  \n",
      "2                And why should I believe this âHSLâ  \n",
      "3               According to HSL I shall arrive at 10:04  \n",
      "4                          Hope it gets resolved quickly  \n",
      "...                                                  ...  \n",
      "31057                                  HAHA yes vii-joan  \n",
      "31058  Yep itâs super close by! Itâs in the Hakan...  \n",
      "31059                              Sorry I mean Vii-Joan  \n",
      "31060                  Was the cheese place by Vii-Voan?  \n",
      "31061                                      Wait question  \n",
      "\n",
      "[31062 rows x 3 columns]\n"
     ]
    }
   ],
   "source": [
    "\n",
    "\n",
    "# Function to extract month from timestamp in milliseconds\n",
    "def extract_month(timestamp_ms):\n",
    "    return datetime.fromtimestamp(timestamp_ms / 1000).strftime('%Y-%m')\n",
    "\n",
    "# Function to decode escaped Unicode characters\n",
    "def decode_unicode(text):\n",
    "    return bytes(text, 'utf-8').decode('unicode_escape')\n",
    "\n",
    "# Initialize an empty list to store message data\n",
    "messages_data = []\n",
    "\n",
    "# List of file names\n",
    "file_names = [\n",
    "    \"messages\\\\rikajson\\\\message_1.json\",\n",
    "    \"messages\\\\rikajson\\\\message_2.json\",\n",
    "    \"messages\\\\rikajson\\\\message_3.json\",\n",
    "    \"messages\\\\rikajson\\\\message_4.json\"\n",
    "]\n",
    "\n",
    "# Loop through each file\n",
    "for file_name in file_names:\n",
    "    with open(file_name, 'r', encoding='utf-8') as f:  # Specify utf-8 encoding\n",
    "        data = json.load(f)\n",
    "        for message in data['messages']:\n",
    "            sender_name = message['sender_name']\n",
    "            timestamp_ms = message['timestamp_ms']\n",
    "            month_sent = extract_month(timestamp_ms)\n",
    "            content = message.get('content', '')  # Get message content, if available\n",
    "            # content_decoded = decode_unicode(content)  # Decode escaped Unicode characters\n",
    "            messages_data.append({'sender_name': sender_name, 'month_sent': month_sent, 'content': content})\n",
    "\n",
    "# Create a DataFrame from the messages data\n",
    "messages_df = pd.DataFrame(messages_data)\n",
    "\n",
    "# Display the DataFrame\n",
    "print(messages_df)\n"
   ],
   "metadata": {
    "collapsed": false,
    "ExecuteTime": {
     "end_time": "2024-04-07T21:51:10.387631100Z",
     "start_time": "2024-04-07T21:51:10.174334700Z"
    }
   },
   "id": "6ef68a32380a16"
  }
 ],
 "metadata": {
  "kernelspec": {
   "display_name": "Python 3",
   "language": "python",
   "name": "python3"
  },
  "language_info": {
   "codemirror_mode": {
    "name": "ipython",
    "version": 2
   },
   "file_extension": ".py",
   "mimetype": "text/x-python",
   "name": "python",
   "nbconvert_exporter": "python",
   "pygments_lexer": "ipython2",
   "version": "2.7.6"
  }
 },
 "nbformat": 4,
 "nbformat_minor": 5
}
