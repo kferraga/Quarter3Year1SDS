{
 "cells": [
  {
   "cell_type": "markdown",
   "id": "d29b3ad00d956750",
   "metadata": {
    "collapsed": false
   },
   "source": [
    "# Week 3: Task 5-8\n",
    "#### Name: Kai Ferragallo-Hawkins\n",
    "#### Date: 30.1.2023"
   ]
  },
  {
   "cell_type": "markdown",
   "id": "3498fdc2bb43550e",
   "metadata": {
    "collapsed": false
   },
   "source": [
    "## #Setup\n",
    "\n",
    "While seeding with the random package is an option for random sampling (to initialize the random number generator), I decided to instead use the built-in Pandas sampling code."
   ]
  },
  {
   "cell_type": "code",
   "execution_count": 89,
   "outputs": [],
   "source": [],
   "metadata": {
    "collapsed": false,
    "ExecuteTime": {
     "end_time": "2024-02-05T13:37:33.591238800Z",
     "start_time": "2024-02-05T13:37:33.514263500Z"
    }
   },
   "id": "df6fa1717b84da45"
  },
  {
   "cell_type": "code",
   "execution_count": 90,
   "id": "initial_id",
   "metadata": {
    "collapsed": true,
    "jupyter": {
     "outputs_hidden": true
    },
    "ExecuteTime": {
     "end_time": "2024-02-05T13:37:33.684053700Z",
     "start_time": "2024-02-05T13:37:33.527233700Z"
    }
   },
   "outputs": [
    {
     "data": {
      "text/plain": "    Stratum  Cluster  Id Municipality  POP91  LAB91  UE91  HOU85  URB85\n31        2        8  32   Viitasaari   8641   4011   568   3119      0\n21        2        6  22      Luhanka   1153    522    54    435      0\n23        2        1  24      Muurame   6830   3024   296   1853      0\n3         1        2   4       Keuruu  12707   5919   760   4896      1\n9         2        7  10    Jyväskmlk  29349  13727  1623   9230      0\n5         1        5   6     Suolahti   6159   3022   457   2389      1\n22        2        7  23       Multia   2375   1059   119    925      0\n16        2        1  17   Korpilahti   5181   2144   239   1793      0",
      "text/html": "<div>\n<style scoped>\n    .dataframe tbody tr th:only-of-type {\n        vertical-align: middle;\n    }\n\n    .dataframe tbody tr th {\n        vertical-align: top;\n    }\n\n    .dataframe thead th {\n        text-align: right;\n    }\n</style>\n<table border=\"1\" class=\"dataframe\">\n  <thead>\n    <tr style=\"text-align: right;\">\n      <th></th>\n      <th>Stratum</th>\n      <th>Cluster</th>\n      <th>Id</th>\n      <th>Municipality</th>\n      <th>POP91</th>\n      <th>LAB91</th>\n      <th>UE91</th>\n      <th>HOU85</th>\n      <th>URB85</th>\n    </tr>\n  </thead>\n  <tbody>\n    <tr>\n      <th>31</th>\n      <td>2</td>\n      <td>8</td>\n      <td>32</td>\n      <td>Viitasaari</td>\n      <td>8641</td>\n      <td>4011</td>\n      <td>568</td>\n      <td>3119</td>\n      <td>0</td>\n    </tr>\n    <tr>\n      <th>21</th>\n      <td>2</td>\n      <td>6</td>\n      <td>22</td>\n      <td>Luhanka</td>\n      <td>1153</td>\n      <td>522</td>\n      <td>54</td>\n      <td>435</td>\n      <td>0</td>\n    </tr>\n    <tr>\n      <th>23</th>\n      <td>2</td>\n      <td>1</td>\n      <td>24</td>\n      <td>Muurame</td>\n      <td>6830</td>\n      <td>3024</td>\n      <td>296</td>\n      <td>1853</td>\n      <td>0</td>\n    </tr>\n    <tr>\n      <th>3</th>\n      <td>1</td>\n      <td>2</td>\n      <td>4</td>\n      <td>Keuruu</td>\n      <td>12707</td>\n      <td>5919</td>\n      <td>760</td>\n      <td>4896</td>\n      <td>1</td>\n    </tr>\n    <tr>\n      <th>9</th>\n      <td>2</td>\n      <td>7</td>\n      <td>10</td>\n      <td>Jyväskmlk</td>\n      <td>29349</td>\n      <td>13727</td>\n      <td>1623</td>\n      <td>9230</td>\n      <td>0</td>\n    </tr>\n    <tr>\n      <th>5</th>\n      <td>1</td>\n      <td>5</td>\n      <td>6</td>\n      <td>Suolahti</td>\n      <td>6159</td>\n      <td>3022</td>\n      <td>457</td>\n      <td>2389</td>\n      <td>1</td>\n    </tr>\n    <tr>\n      <th>22</th>\n      <td>2</td>\n      <td>7</td>\n      <td>23</td>\n      <td>Multia</td>\n      <td>2375</td>\n      <td>1059</td>\n      <td>119</td>\n      <td>925</td>\n      <td>0</td>\n    </tr>\n    <tr>\n      <th>16</th>\n      <td>2</td>\n      <td>1</td>\n      <td>17</td>\n      <td>Korpilahti</td>\n      <td>5181</td>\n      <td>2144</td>\n      <td>239</td>\n      <td>1793</td>\n      <td>0</td>\n    </tr>\n  </tbody>\n</table>\n</div>"
     },
     "metadata": {},
     "output_type": "display_data"
    },
    {
     "data": {
      "text/plain": "   Municipality  id  POP17  LAB17  UE17  HOU17  URB17_new\n22    Äänekoski  23  19144   7239  1128   9352          1\n3         Jämsä   4  20877   7989  1175  10647          1\n14       Multia  15   1636    570    59    776          0\n9     Konnevesi  10   2748   1022   134   1339          0\n5      Karstula   6   4146   1468   227   1974          1\n19     Toivakka  20   2384    956   106   1070          0\n13      Luhanka  14    734    244    26    372          0\n6        Keuruu   7   9919   3517   493   4970          1",
      "text/html": "<div>\n<style scoped>\n    .dataframe tbody tr th:only-of-type {\n        vertical-align: middle;\n    }\n\n    .dataframe tbody tr th {\n        vertical-align: top;\n    }\n\n    .dataframe thead th {\n        text-align: right;\n    }\n</style>\n<table border=\"1\" class=\"dataframe\">\n  <thead>\n    <tr style=\"text-align: right;\">\n      <th></th>\n      <th>Municipality</th>\n      <th>id</th>\n      <th>POP17</th>\n      <th>LAB17</th>\n      <th>UE17</th>\n      <th>HOU17</th>\n      <th>URB17_new</th>\n    </tr>\n  </thead>\n  <tbody>\n    <tr>\n      <th>22</th>\n      <td>Äänekoski</td>\n      <td>23</td>\n      <td>19144</td>\n      <td>7239</td>\n      <td>1128</td>\n      <td>9352</td>\n      <td>1</td>\n    </tr>\n    <tr>\n      <th>3</th>\n      <td>Jämsä</td>\n      <td>4</td>\n      <td>20877</td>\n      <td>7989</td>\n      <td>1175</td>\n      <td>10647</td>\n      <td>1</td>\n    </tr>\n    <tr>\n      <th>14</th>\n      <td>Multia</td>\n      <td>15</td>\n      <td>1636</td>\n      <td>570</td>\n      <td>59</td>\n      <td>776</td>\n      <td>0</td>\n    </tr>\n    <tr>\n      <th>9</th>\n      <td>Konnevesi</td>\n      <td>10</td>\n      <td>2748</td>\n      <td>1022</td>\n      <td>134</td>\n      <td>1339</td>\n      <td>0</td>\n    </tr>\n    <tr>\n      <th>5</th>\n      <td>Karstula</td>\n      <td>6</td>\n      <td>4146</td>\n      <td>1468</td>\n      <td>227</td>\n      <td>1974</td>\n      <td>1</td>\n    </tr>\n    <tr>\n      <th>19</th>\n      <td>Toivakka</td>\n      <td>20</td>\n      <td>2384</td>\n      <td>956</td>\n      <td>106</td>\n      <td>1070</td>\n      <td>0</td>\n    </tr>\n    <tr>\n      <th>13</th>\n      <td>Luhanka</td>\n      <td>14</td>\n      <td>734</td>\n      <td>244</td>\n      <td>26</td>\n      <td>372</td>\n      <td>0</td>\n    </tr>\n    <tr>\n      <th>6</th>\n      <td>Keuruu</td>\n      <td>7</td>\n      <td>9919</td>\n      <td>3517</td>\n      <td>493</td>\n      <td>4970</td>\n      <td>1</td>\n    </tr>\n  </tbody>\n</table>\n</div>"
     },
     "metadata": {},
     "output_type": "display_data"
    }
   ],
   "source": [
    "from matplotlib import pyplot as plt\n",
    "import pandas as pd\n",
    "import math\n",
    "import numpy as np\n",
    "import samplics as smp\n",
    "import seaborn as sns\n",
    "import random as rdm\n",
    "import SurveySamplingFunctions as ssf\n",
    "\n",
    "### Province 91\n",
    "## Importing Province91 Data\n",
    "province91 = pd.read_csv(\"files/assignment1/province91.txt\", delim_whitespace=True)\n",
    "\n",
    "## Random Sampling with Pandas: random_state for consistent randomness, no replacement\n",
    "prov91_sample = province91.sample(n=8, replace=False, random_state=123456)\n",
    "\n",
    "# Displaying the newly created sample\n",
    "display(prov91_sample)\n",
    "\n",
    "### Province 17\n",
    "## Importing Province17 Data\n",
    "province17 = pd.read_csv(\"files/assignment1/province17.txt\", delimiter = '\\t', encoding='latin-1')\n",
    "\n",
    "## Random Sampling with Pandas: random_state for consistent randomness, no replacement.\n",
    "## Fraction kept the same for random sampling.\n",
    "prov17_sample = province17.sample(n=8, replace=False, random_state=123456)\n",
    "\n",
    "# Displaying the newly created sample\n",
    "display(prov17_sample)"
   ]
  },
  {
   "cell_type": "markdown",
   "source": [
    "## #Task 5: Calculate total, variance, and confidence interval from SRSWOR Sample"
   ],
   "metadata": {
    "collapsed": false
   },
   "id": "aebccdf5a89845b6"
  },
  {
   "cell_type": "code",
   "execution_count": 103,
   "id": "b1c762e751ca6914",
   "metadata": {
    "collapsed": false,
    "ExecuteTime": {
     "end_time": "2024-02-05T14:06:59.633785600Z",
     "start_time": "2024-02-05T14:06:59.585782800Z"
    }
   },
   "outputs": [
    {
     "data": {
      "text/plain": "   Year  Total Unemployed, Absolute  System Variance (sqrt)  Mean Unemployed  \\\n0  1991                     16464.0                 4631.20            514.5   \n1  2017                      9625.5                 2918.24            418.5   \n\n   Lower 95% Interval  Upper 95% Interval  \n0                 164                 865  \n1                  89                 748  ",
      "text/html": "<div>\n<style scoped>\n    .dataframe tbody tr th:only-of-type {\n        vertical-align: middle;\n    }\n\n    .dataframe tbody tr th {\n        vertical-align: top;\n    }\n\n    .dataframe thead th {\n        text-align: right;\n    }\n</style>\n<table border=\"1\" class=\"dataframe\">\n  <thead>\n    <tr style=\"text-align: right;\">\n      <th></th>\n      <th>Year</th>\n      <th>Total Unemployed, Absolute</th>\n      <th>System Variance (sqrt)</th>\n      <th>Mean Unemployed</th>\n      <th>Lower 95% Interval</th>\n      <th>Upper 95% Interval</th>\n    </tr>\n  </thead>\n  <tbody>\n    <tr>\n      <th>0</th>\n      <td>1991</td>\n      <td>16464.0</td>\n      <td>4631.20</td>\n      <td>514.5</td>\n      <td>164</td>\n      <td>865</td>\n    </tr>\n    <tr>\n      <th>1</th>\n      <td>2017</td>\n      <td>9625.5</td>\n      <td>2918.24</td>\n      <td>418.5</td>\n      <td>89</td>\n      <td>748</td>\n    </tr>\n  </tbody>\n</table>\n</div>"
     },
     "metadata": {},
     "output_type": "display_data"
    }
   ],
   "source": [
    "### Province 91\n",
    "## Calculating the Total of UE91\n",
    "prov91_weight = len(province91)/len(prov91_sample)\n",
    "#print(prov91_weight)\n",
    "#print(prov91_sample['UE91'].sum())\n",
    "#total_ue91 = province91['UE91'].sum()\n",
    "total_ue91 = prov91_weight*prov91_sample['UE91'].sum()\n",
    "\n",
    "## Calculating the System Variance of UE91 (sqrt)\n",
    "# Done by manually calculating the previous information for design variance, multiplied by the population variance as given by Pandas. ddof=0 makes equation give population variance.\n",
    "\n",
    "def system_var (main, sample, sample_key, Is_Sqrt = False):\n",
    "    \"\"\"\"Calculates the system variance by manually calculating the information for design variance based on population sizes, given two pandas dataframes of the original information and the sample. Population variance calculated through Pandas var.\"\"\"\n",
    "    sqr = 0.5 if Is_Sqrt else 1\n",
    "    s_var = ((len(main)**2)*(1-len(sample)/len(main))*(1/len(sample))*sample[sample_key].var(ddof=0))**sqr\n",
    "    return s_var\n",
    "\n",
    "s_var91 = system_var(province91, prov91_sample, \"UE91\", Is_Sqrt = True)\n",
    "\n",
    "## Calculating the Confidence Interval of UE91\n",
    "# Done with 95%, using np array to do +- in the same line.\n",
    "high_int_91, low_int_91 = prov91_sample[\"UE91\"].mean() + np.array([+1, -1])*1.96*prov91_sample[\"UE91\"].std()/math.sqrt(prov91_sample[\"UE91\"].count())\n",
    "\n",
    "### Province 17\n",
    "## Calculating the Total of UE17\n",
    "prov17_weight = len(province17)/len(prov17_sample)\n",
    "total_ue17 = prov17_weight*prov17_sample['UE17'].sum()\n",
    "\n",
    "## Calculating the System Variance of UE17 (sqrt)\n",
    "s_var17 = system_var(province17, prov17_sample, \"UE17\", Is_Sqrt = True)\n",
    "\n",
    "## Calculating the Confidence Interval of UE17\n",
    "high_int_17, low_int_17 = prov17_sample[\"UE17\"].mean() + np.array([+1, -1])*1.96*prov17_sample[\"UE17\"].std()/math.sqrt(prov17_sample[\"UE17\"].count())\n",
    "\n",
    "### Both\n",
    "display(pd.DataFrame({'Year': [\"1991\", \"2017\"],'Total Unemployed, Absolute': [total_ue91, total_ue17], 'System Variance (sqrt)': [round(s_var91, 2), round(s_var17, 2)], 'Mean Unemployed': [prov91_sample[\"UE91\"].mean(), prov17_sample[\"UE17\"].mean()], 'Lower 95% Interval': [round(low_int_91), round(low_int_17)], 'Upper 95% Interval': [round(high_int_91), round(high_int_17)]}))"
   ]
  },
  {
   "cell_type": "markdown",
   "source": [
    "## #Task 6: Ratio (Unemployment Rate), S.E. for Ratio, and Median for UE91 and Lab 91"
   ],
   "metadata": {
    "collapsed": false
   },
   "id": "afae2c755ee44663"
  },
  {
   "cell_type": "code",
   "execution_count": 122,
   "outputs": [
    {
     "data": {
      "text/plain": "   Municipality  Unemployed % in 1991\n31   Viitasaari                 14.16\n21      Luhanka                 10.34\n23      Muurame                  9.79\n3        Keuruu                 12.84\n9     Jyväskmlk                 11.82\n5      Suolahti                 15.12\n22       Multia                 11.24\n16   Korpilahti                 11.15",
      "text/html": "<div>\n<style scoped>\n    .dataframe tbody tr th:only-of-type {\n        vertical-align: middle;\n    }\n\n    .dataframe tbody tr th {\n        vertical-align: top;\n    }\n\n    .dataframe thead th {\n        text-align: right;\n    }\n</style>\n<table border=\"1\" class=\"dataframe\">\n  <thead>\n    <tr style=\"text-align: right;\">\n      <th></th>\n      <th>Municipality</th>\n      <th>Unemployed % in 1991</th>\n    </tr>\n  </thead>\n  <tbody>\n    <tr>\n      <th>31</th>\n      <td>Viitasaari</td>\n      <td>14.16</td>\n    </tr>\n    <tr>\n      <th>21</th>\n      <td>Luhanka</td>\n      <td>10.34</td>\n    </tr>\n    <tr>\n      <th>23</th>\n      <td>Muurame</td>\n      <td>9.79</td>\n    </tr>\n    <tr>\n      <th>3</th>\n      <td>Keuruu</td>\n      <td>12.84</td>\n    </tr>\n    <tr>\n      <th>9</th>\n      <td>Jyväskmlk</td>\n      <td>11.82</td>\n    </tr>\n    <tr>\n      <th>5</th>\n      <td>Suolahti</td>\n      <td>15.12</td>\n    </tr>\n    <tr>\n      <th>22</th>\n      <td>Multia</td>\n      <td>11.24</td>\n    </tr>\n    <tr>\n      <th>16</th>\n      <td>Korpilahti</td>\n      <td>11.15</td>\n    </tr>\n  </tbody>\n</table>\n</div>"
     },
     "metadata": {},
     "output_type": "display_data"
    },
    {
     "data": {
      "text/plain": "   Municipality  Unemployed % in 2017\n22    Äänekoski                 15.58\n3         Jämsä                 14.71\n14       Multia                 10.35\n9     Konnevesi                 13.11\n5      Karstula                 15.46\n19     Toivakka                 11.09\n13      Luhanka                 10.66\n6        Keuruu                 14.02",
      "text/html": "<div>\n<style scoped>\n    .dataframe tbody tr th:only-of-type {\n        vertical-align: middle;\n    }\n\n    .dataframe tbody tr th {\n        vertical-align: top;\n    }\n\n    .dataframe thead th {\n        text-align: right;\n    }\n</style>\n<table border=\"1\" class=\"dataframe\">\n  <thead>\n    <tr style=\"text-align: right;\">\n      <th></th>\n      <th>Municipality</th>\n      <th>Unemployed % in 2017</th>\n    </tr>\n  </thead>\n  <tbody>\n    <tr>\n      <th>22</th>\n      <td>Äänekoski</td>\n      <td>15.58</td>\n    </tr>\n    <tr>\n      <th>3</th>\n      <td>Jämsä</td>\n      <td>14.71</td>\n    </tr>\n    <tr>\n      <th>14</th>\n      <td>Multia</td>\n      <td>10.35</td>\n    </tr>\n    <tr>\n      <th>9</th>\n      <td>Konnevesi</td>\n      <td>13.11</td>\n    </tr>\n    <tr>\n      <th>5</th>\n      <td>Karstula</td>\n      <td>15.46</td>\n    </tr>\n    <tr>\n      <th>19</th>\n      <td>Toivakka</td>\n      <td>11.09</td>\n    </tr>\n    <tr>\n      <th>13</th>\n      <td>Luhanka</td>\n      <td>10.66</td>\n    </tr>\n    <tr>\n      <th>6</th>\n      <td>Keuruu</td>\n      <td>14.02</td>\n    </tr>\n  </tbody>\n</table>\n</div>"
     },
     "metadata": {},
     "output_type": "display_data"
    },
    {
     "data": {
      "text/plain": "   Year  Unemployment Rate, Standard Error  Unemployment Median  Labor Median\n0  1991                           0.655354                376.5        3023.0\n1  2017                           0.764278                180.5        1245.0",
      "text/html": "<div>\n<style scoped>\n    .dataframe tbody tr th:only-of-type {\n        vertical-align: middle;\n    }\n\n    .dataframe tbody tr th {\n        vertical-align: top;\n    }\n\n    .dataframe thead th {\n        text-align: right;\n    }\n</style>\n<table border=\"1\" class=\"dataframe\">\n  <thead>\n    <tr style=\"text-align: right;\">\n      <th></th>\n      <th>Year</th>\n      <th>Unemployment Rate, Standard Error</th>\n      <th>Unemployment Median</th>\n      <th>Labor Median</th>\n    </tr>\n  </thead>\n  <tbody>\n    <tr>\n      <th>0</th>\n      <td>1991</td>\n      <td>0.655354</td>\n      <td>376.5</td>\n      <td>3023.0</td>\n    </tr>\n    <tr>\n      <th>1</th>\n      <td>2017</td>\n      <td>0.764278</td>\n      <td>180.5</td>\n      <td>1245.0</td>\n    </tr>\n  </tbody>\n</table>\n</div>"
     },
     "metadata": {},
     "output_type": "display_data"
    }
   ],
   "source": [
    "### Province 91\n",
    "## Calculating Ratio Unemployment Rate\n",
    "# Individual unemployment rates for each municipality\n",
    "prov91_sample[\"Unemployed % in 1991\"] = round(prov91_sample[\"UE91\"]/prov91_sample[\"LAB91\"]*100, 2)\n",
    "display(prov91_sample[[\"Municipality\", \"Unemployed % in 1991\"]])\n",
    "\n",
    "## Calculating Standard Error of Unemployment Rate\n",
    "uer_std_err91 = prov91_sample[\"Unemployed % in 1991\"].sem()\n",
    "\n",
    "## Median of UE91 and LAB91\n",
    "UE91_med = prov91_sample[\"UE91\"].median()\n",
    "LAB91_med = prov91_sample[\"LAB91\"].median()\n",
    "\n",
    "### Province 17\n",
    "## Calculating Ratio Unemployment Rate\n",
    "prov17_sample[\"Unemployed % in 2017\"] = round(prov17_sample[\"UE17\"]/prov17_sample[\"LAB17\"]*100, 2)\n",
    "display(prov17_sample[[\"Municipality\", \"Unemployed % in 2017\"]])\n",
    "\n",
    "## Calculating Standard Error of Unemployment Rate\n",
    "uer_std_err17 = prov17_sample[\"Unemployed % in 2017\"].sem()\n",
    "\n",
    "## Median of UE17 and LAB17\n",
    "UE17_med = prov17_sample[\"UE17\"].median()\n",
    "LAB17_med = prov17_sample[\"LAB17\"].median()\n",
    "\n",
    "### Both\n",
    "display(pd.DataFrame({'Year': [\"1991\", \"2017\"],'Unemployment Rate, Standard Error': [uer_std_err91, uer_std_err17], 'Unemployment Median': [UE91_med, UE17_med], 'Labor Median': [LAB91_med, LAB17_med]}))\n"
   ],
   "metadata": {
    "collapsed": false,
    "ExecuteTime": {
     "end_time": "2024-02-05T14:31:37.463215400Z",
     "start_time": "2024-02-05T14:31:37.275251300Z"
    }
   },
   "id": "c8d71fb43baac903"
  },
  {
   "cell_type": "markdown",
   "source": [
    "## #Task 7: Design Effect (Deff) for total, ratio (unemployment rate), and median"
   ],
   "metadata": {
    "collapsed": false
   },
   "id": "6500f9124ba1fc8e"
  },
  {
   "cell_type": "code",
   "execution_count": 123,
   "outputs": [
    {
     "data": {
      "text/plain": "   Year  Deff, UE Total  Deff, UE Rate %  Deff, UE Median  Deff, LAB Median\n0  1991        0.917031         0.612214         0.608234          0.629507\n1  2017        1.585788         0.683319         1.113573          1.243373",
      "text/html": "<div>\n<style scoped>\n    .dataframe tbody tr th:only-of-type {\n        vertical-align: middle;\n    }\n\n    .dataframe tbody tr th {\n        vertical-align: top;\n    }\n\n    .dataframe thead th {\n        text-align: right;\n    }\n</style>\n<table border=\"1\" class=\"dataframe\">\n  <thead>\n    <tr style=\"text-align: right;\">\n      <th></th>\n      <th>Year</th>\n      <th>Deff, UE Total</th>\n      <th>Deff, UE Rate %</th>\n      <th>Deff, UE Median</th>\n      <th>Deff, LAB Median</th>\n    </tr>\n  </thead>\n  <tbody>\n    <tr>\n      <th>0</th>\n      <td>1991</td>\n      <td>0.917031</td>\n      <td>0.612214</td>\n      <td>0.608234</td>\n      <td>0.629507</td>\n    </tr>\n    <tr>\n      <th>1</th>\n      <td>2017</td>\n      <td>1.585788</td>\n      <td>0.683319</td>\n      <td>1.113573</td>\n      <td>1.243373</td>\n    </tr>\n  </tbody>\n</table>\n</div>"
     },
     "metadata": {},
     "output_type": "display_data"
    }
   ],
   "source": [
    "### Province 91\n",
    "## Calculating UE91 Total Deff\n",
    "deff_total_ue91 = province91[\"UE91\"].sum()/total_ue91\n",
    "\n",
    "## Calculating UE Ratio Total Deff\n",
    "province91[\"Unemployed % in 1991\"] = round(province91[\"UE91\"]/province91[\"LAB91\"]*100, 2)\n",
    "deff_ratio_ue91 = province91[\"Unemployed % in 1991\"].sem()/uer_std_err17\n",
    "\n",
    "## Median UE and LAB Deff\n",
    "deff_median_ue91 = province91[\"UE91\"].median()/UE91_med\n",
    "deff_median_lab91 = province91[\"LAB91\"].median()/LAB91_med\n",
    "\n",
    "### Province 17\n",
    "## Calculating UE17 Total Deff\n",
    "deff_total_ue17 = province17[\"UE17\"].sum()/total_ue17\n",
    "\n",
    "## Calculating UE Ratio Total Deff\n",
    "province17[\"Unemployed % in 2017\"] = round(province17[\"UE17\"]/province17[\"LAB17\"]*100, 2)\n",
    "deff_ratio_ue17 = province17[\"Unemployed % in 2017\"].sem()/uer_std_err17\n",
    "\n",
    "## Median UE and LAB Deff\n",
    "deff_median_ue17 = province17[\"UE17\"].median()/UE17_med\n",
    "deff_median_lab17 = province17[\"LAB17\"].median()/LAB17_med\n",
    "\n",
    "### Both\n",
    "display(pd.DataFrame({'Year': [\"1991\", \"2017\"],'Deff, UE Total': [deff_total_ue91, deff_total_ue17],'Deff, UE Rate %': [deff_ratio_ue91, deff_ratio_ue17],'Deff, UE Median': [deff_median_ue91, deff_median_ue17],'Deff, LAB Median': [deff_median_lab91, deff_median_lab17]}))"
   ],
   "metadata": {
    "collapsed": false,
    "ExecuteTime": {
     "end_time": "2024-02-05T14:37:29.310450100Z",
     "start_time": "2024-02-05T14:37:29.240514Z"
    }
   },
   "id": "56c029f2d07cc2c0"
  },
  {
   "cell_type": "markdown",
   "source": [
    "## #Task 8: Commenting on the Simulation Examples\n",
    "\n",
    "When looking at the VLISS Training Key 28 B data, the most notable trend is how the range of the UE to LAB ratios (0.159 n=4 -> 0.126 n=32) and confidence intervals (0.129 - 0.1897 n=4 -> 0.126 - 0.126 n=32) decreased over all counts of n. This comes from the increasing accuracy that a larger sample size provides compared to the base population. However, different samples, especially low samples, can have quirks that break a trend, like how n=4's standard errors for it's UE and LAB totals was the second lowest, behind only n=32's at 0.\n",
    "\n",
    "VLISS Training Key 28 C "
   ],
   "metadata": {
    "collapsed": false
   },
   "id": "d18f08423793a273"
  },
  {
   "cell_type": "markdown",
   "source": [
    "## # Reflection - Comparing Province91 with Province17\n",
    "\n",
    "When looking at the above table that compares all 1991 and 2017 values, we can see that the Unemployment rate did increase, but just barely. It is small enough (0.8% absolute change, or a 6.4% increase in 1991 vs 2017) that there is not much interesting information that it can provide alone. However, the variance/standard deviation - with a change from 743 to 1705, or a 129% increase - shows that the distribution from 1991 to 2017 did change significantly, meaning that on a region by region difference there are much clearer cases of higher and lower unemployment numbers. This may be due more to population than %, however, as the box plot shows that there are strong outliers by region."
   ],
   "metadata": {
    "collapsed": false
   },
   "id": "15c7a50b063f3a83"
  },
  {
   "cell_type": "markdown",
   "source": [],
   "metadata": {
    "collapsed": false
   },
   "id": "402662ae2fb81ca3"
  }
 ],
 "metadata": {
  "kernelspec": {
   "display_name": "Python 3 (ipykernel)",
   "language": "python",
   "name": "python3"
  },
  "language_info": {
   "codemirror_mode": {
    "name": "ipython",
    "version": 3
   },
   "file_extension": ".py",
   "mimetype": "text/x-python",
   "name": "python",
   "nbconvert_exporter": "python",
   "pygments_lexer": "ipython3",
   "version": "3.12.0"
  }
 },
 "nbformat": 4,
 "nbformat_minor": 5
}
