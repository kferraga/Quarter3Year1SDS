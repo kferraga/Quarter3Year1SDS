{
 "cells": [
  {
   "cell_type": "markdown",
   "id": "d29b3ad00d956750",
   "metadata": {
    "collapsed": false
   },
   "source": [
    "# Week 4: Task 9-10\n",
    "#### Name: Kai Ferragallo-Hawkins\n",
    "#### Date: 12.2.2023"
   ]
  },
  {
   "cell_type": "markdown",
   "id": "3498fdc2bb43550e",
   "metadata": {
    "collapsed": false
   },
   "source": [
    "##Setup\n",
    "\n",
    "I spent a few hours trying to understand the samplics package to do systematic sampling. What I've determined is that, while the package is interesting - especially for more weighted sampling methods - the tasks assigned here are a bit to simplistic to benefit from using samplics. Therefore, I decided to make my own function for systematic sampling in Pandas, which can be seen below.\n",
    "\n"
   ]
  },
  {
   "cell_type": "code",
   "execution_count": 66,
   "outputs": [],
   "source": [
    "import pandas as pd\n",
    "import numpy as np\n",
    "import samplics as smp\n",
    "import seaborn as sns\n",
    "import SurveySamplingFunctions as ssf\n",
    "\n",
    "### Functions\n",
    "def systematic_sampling(df, step):\n",
    "    \"\"\"Preforms basic systematic sampling on a python dataset, utilizing a dataframe and step value. Indexes the values with numpy.arrange, which takes evenly spaced values in an interval, and then locates those relevant indexes into a new dataframe.\"\"\"\n",
    "    indexes = np.arange(0, len(df), step=step)\n",
    "    systematic_sample = df.iloc[indexes]\n",
    "    return systematic_sample\n",
    "\n",
    "def system_var (main, sample, sample_key, Is_Sqrt = False):\n",
    "    \"\"\"\"Calculates the system variance by manually calculating the information for design variance based on population sizes, given two pandas dataframes of the original information and the sample. Population variance calculated through Pandas var.\"\"\"\n",
    "    sqr = 0.5 if Is_Sqrt else 1\n",
    "    s_var = ((len(main)**2)*(1-len(sample)/len(main))*(1/len(sample))*sample[sample_key].var(ddof=1))**sqr\n",
    "    return s_var\n",
    "\n",
    "### Province 91\n",
    "## Importing Province91 Data\n",
    "province91 = pd.read_csv(\"files/assignment1/province91.txt\", delim_whitespace=True)\n",
    "\n",
    "### Province 17\n",
    "## Importing Province17 Data\n",
    "province17 = pd.read_csv(\"files/assignment1/province17.txt\", delimiter = '\\t', encoding='latin-1')"
   ],
   "metadata": {
    "collapsed": false,
    "ExecuteTime": {
     "end_time": "2024-02-12T13:29:27.667438500Z",
     "start_time": "2024-02-12T13:29:27.588142600Z"
    }
   },
   "id": "8dced14fcdea965a"
  },
  {
   "cell_type": "markdown",
   "source": [
    "## Task 9: Systematic Sampling & UE Totals\n",
    "\n",
    "Systematic sampling resulted in, for me, a higher adjusted total for UE (for Province91, that would be 16464 -> 23580; for Province17, that would be 9625 -> 12175). This places the new population91 total above the actual value, and the population17 total below the actual value. This systematic sampling can also remain different, as the formula I made for the systematic sampling only goes based off the 1st index, and could change depending on what index you start with (i.e. 0-4 vs 1-5 vs 2-6 vs 3-7)."
   ],
   "metadata": {
    "collapsed": false
   },
   "id": "e7a2686c6de8db9d"
  },
  {
   "cell_type": "code",
   "execution_count": 67,
   "id": "initial_id",
   "metadata": {
    "collapsed": true,
    "jupyter": {
     "outputs_hidden": true
    },
    "ExecuteTime": {
     "end_time": "2024-02-12T13:29:27.706079100Z",
     "start_time": "2024-02-12T13:29:27.610337200Z"
    }
   },
   "outputs": [
    {
     "name": "stdout",
     "output_type": "stream",
     "text": [
      "Province 91 Sample\n"
     ]
    },
    {
     "data": {
      "text/plain": "    Stratum  Cluster  Id Municipality  POP91  LAB91  UE91  HOU85  URB85\n0         1        1   1    Jyväskylä  67200  33786  4123  26881      1\n4         1        3   5   Saarijärvi  10774   4930   721   3730      1\n8         2        6   9       Joutsa   4594   2069   194   1823      0\n12        2        8  13      Kinnula   2324    927   129    675      0\n16        2        1  17   Korpilahti   5181   2144   239   1793      0\n20        2        6  21   Leivonmäki   1370    573    61    545      0\n24        2        7  25   Petäjävesi   3800   1737   262   1352      0\n28        2        1  29   Säynätsalo   3628   1615   166   1226      0",
      "text/html": "<div>\n<style scoped>\n    .dataframe tbody tr th:only-of-type {\n        vertical-align: middle;\n    }\n\n    .dataframe tbody tr th {\n        vertical-align: top;\n    }\n\n    .dataframe thead th {\n        text-align: right;\n    }\n</style>\n<table border=\"1\" class=\"dataframe\">\n  <thead>\n    <tr style=\"text-align: right;\">\n      <th></th>\n      <th>Stratum</th>\n      <th>Cluster</th>\n      <th>Id</th>\n      <th>Municipality</th>\n      <th>POP91</th>\n      <th>LAB91</th>\n      <th>UE91</th>\n      <th>HOU85</th>\n      <th>URB85</th>\n    </tr>\n  </thead>\n  <tbody>\n    <tr>\n      <th>0</th>\n      <td>1</td>\n      <td>1</td>\n      <td>1</td>\n      <td>Jyväskylä</td>\n      <td>67200</td>\n      <td>33786</td>\n      <td>4123</td>\n      <td>26881</td>\n      <td>1</td>\n    </tr>\n    <tr>\n      <th>4</th>\n      <td>1</td>\n      <td>3</td>\n      <td>5</td>\n      <td>Saarijärvi</td>\n      <td>10774</td>\n      <td>4930</td>\n      <td>721</td>\n      <td>3730</td>\n      <td>1</td>\n    </tr>\n    <tr>\n      <th>8</th>\n      <td>2</td>\n      <td>6</td>\n      <td>9</td>\n      <td>Joutsa</td>\n      <td>4594</td>\n      <td>2069</td>\n      <td>194</td>\n      <td>1823</td>\n      <td>0</td>\n    </tr>\n    <tr>\n      <th>12</th>\n      <td>2</td>\n      <td>8</td>\n      <td>13</td>\n      <td>Kinnula</td>\n      <td>2324</td>\n      <td>927</td>\n      <td>129</td>\n      <td>675</td>\n      <td>0</td>\n    </tr>\n    <tr>\n      <th>16</th>\n      <td>2</td>\n      <td>1</td>\n      <td>17</td>\n      <td>Korpilahti</td>\n      <td>5181</td>\n      <td>2144</td>\n      <td>239</td>\n      <td>1793</td>\n      <td>0</td>\n    </tr>\n    <tr>\n      <th>20</th>\n      <td>2</td>\n      <td>6</td>\n      <td>21</td>\n      <td>Leivonmäki</td>\n      <td>1370</td>\n      <td>573</td>\n      <td>61</td>\n      <td>545</td>\n      <td>0</td>\n    </tr>\n    <tr>\n      <th>24</th>\n      <td>2</td>\n      <td>7</td>\n      <td>25</td>\n      <td>Petäjävesi</td>\n      <td>3800</td>\n      <td>1737</td>\n      <td>262</td>\n      <td>1352</td>\n      <td>0</td>\n    </tr>\n    <tr>\n      <th>28</th>\n      <td>2</td>\n      <td>1</td>\n      <td>29</td>\n      <td>Säynätsalo</td>\n      <td>3628</td>\n      <td>1615</td>\n      <td>166</td>\n      <td>1226</td>\n      <td>0</td>\n    </tr>\n  </tbody>\n</table>\n</div>"
     },
     "metadata": {},
     "output_type": "display_data"
    },
    {
     "name": "stdout",
     "output_type": "stream",
     "text": [
      "Province 17 Sample\n"
     ]
    },
    {
     "data": {
      "text/plain": "   Municipality  id  POP17  LAB17  UE17  HOU17  URB17_new\n0    Hankasalmi   1   5019   1829   222   2376          0\n3         Jämsä   4  20877   7989  1175  10647          1\n6        Keuruu   7   9919   3517   493   4970          1\n9     Konnevesi  10   2748   1022   134   1339          0\n12       Laukaa  13  18978   8082   827   7819          1\n15      Muurame  16  10097   4749   419   4144          1\n18   Saarijärvi  19   9589   3368   631   4738          1\n21   Viitasaari  22   6411   2259   334   3273          1",
      "text/html": "<div>\n<style scoped>\n    .dataframe tbody tr th:only-of-type {\n        vertical-align: middle;\n    }\n\n    .dataframe tbody tr th {\n        vertical-align: top;\n    }\n\n    .dataframe thead th {\n        text-align: right;\n    }\n</style>\n<table border=\"1\" class=\"dataframe\">\n  <thead>\n    <tr style=\"text-align: right;\">\n      <th></th>\n      <th>Municipality</th>\n      <th>id</th>\n      <th>POP17</th>\n      <th>LAB17</th>\n      <th>UE17</th>\n      <th>HOU17</th>\n      <th>URB17_new</th>\n    </tr>\n  </thead>\n  <tbody>\n    <tr>\n      <th>0</th>\n      <td>Hankasalmi</td>\n      <td>1</td>\n      <td>5019</td>\n      <td>1829</td>\n      <td>222</td>\n      <td>2376</td>\n      <td>0</td>\n    </tr>\n    <tr>\n      <th>3</th>\n      <td>Jämsä</td>\n      <td>4</td>\n      <td>20877</td>\n      <td>7989</td>\n      <td>1175</td>\n      <td>10647</td>\n      <td>1</td>\n    </tr>\n    <tr>\n      <th>6</th>\n      <td>Keuruu</td>\n      <td>7</td>\n      <td>9919</td>\n      <td>3517</td>\n      <td>493</td>\n      <td>4970</td>\n      <td>1</td>\n    </tr>\n    <tr>\n      <th>9</th>\n      <td>Konnevesi</td>\n      <td>10</td>\n      <td>2748</td>\n      <td>1022</td>\n      <td>134</td>\n      <td>1339</td>\n      <td>0</td>\n    </tr>\n    <tr>\n      <th>12</th>\n      <td>Laukaa</td>\n      <td>13</td>\n      <td>18978</td>\n      <td>8082</td>\n      <td>827</td>\n      <td>7819</td>\n      <td>1</td>\n    </tr>\n    <tr>\n      <th>15</th>\n      <td>Muurame</td>\n      <td>16</td>\n      <td>10097</td>\n      <td>4749</td>\n      <td>419</td>\n      <td>4144</td>\n      <td>1</td>\n    </tr>\n    <tr>\n      <th>18</th>\n      <td>Saarijärvi</td>\n      <td>19</td>\n      <td>9589</td>\n      <td>3368</td>\n      <td>631</td>\n      <td>4738</td>\n      <td>1</td>\n    </tr>\n    <tr>\n      <th>21</th>\n      <td>Viitasaari</td>\n      <td>22</td>\n      <td>6411</td>\n      <td>2259</td>\n      <td>334</td>\n      <td>3273</td>\n      <td>1</td>\n    </tr>\n  </tbody>\n</table>\n</div>"
     },
     "metadata": {},
     "output_type": "display_data"
    },
    {
     "data": {
      "text/plain": "   Year  Total Unemployed, Absolute\n0  1991                   23580.000\n1  2017                   12175.625",
      "text/html": "<div>\n<style scoped>\n    .dataframe tbody tr th:only-of-type {\n        vertical-align: middle;\n    }\n\n    .dataframe tbody tr th {\n        vertical-align: top;\n    }\n\n    .dataframe thead th {\n        text-align: right;\n    }\n</style>\n<table border=\"1\" class=\"dataframe\">\n  <thead>\n    <tr style=\"text-align: right;\">\n      <th></th>\n      <th>Year</th>\n      <th>Total Unemployed, Absolute</th>\n    </tr>\n  </thead>\n  <tbody>\n    <tr>\n      <th>0</th>\n      <td>1991</td>\n      <td>23580.000</td>\n    </tr>\n    <tr>\n      <th>1</th>\n      <td>2017</td>\n      <td>12175.625</td>\n    </tr>\n  </tbody>\n</table>\n</div>"
     },
     "metadata": {},
     "output_type": "display_data"
    }
   ],
   "source": [
    "### Province 91\n",
    "## Systematic Sampling\n",
    "province91_sys = systematic_sampling(province91, step=4)\n",
    "print(\"Province 91 Sample\")\n",
    "display(province91_sys)\n",
    "\n",
    "## Calculating UE Total\n",
    "prov91_weight = len(province91)/len(province91_sys)\n",
    "total_ue91 = prov91_weight*province91_sys[\"UE91\"].sum()\n",
    "      \n",
    "### Province 17\n",
    "## Systematic Sampling\n",
    "province17_sys = systematic_sampling(province17, step=3)\n",
    "print(\"Province 17 Sample\")\n",
    "display(province17_sys)\n",
    "\n",
    "## Calculating UE Total\n",
    "prov17_weight = len(province17)/len(province17_sys)\n",
    "total_ue17 = prov17_weight*province17_sys[\"UE17\"].sum()\n",
    "      \n",
    "### Both\n",
    "display(pd.DataFrame({'Year': [\"1991\", \"2017\"],'Total Unemployed, Absolute': [total_ue91, total_ue17]}))"
   ]
  },
  {
   "cell_type": "markdown",
   "source": [
    "## Task 10: Statistical Selection\n",
    "\n",
    "I've realized that my variance calculations may be off - when finding the variance for the SYS sample, I found the variance in the example given for the SRS sample. I'd be interested in knowing why that is the case.\n",
    "\n",
    "However, if the deff value is correct (2.74), it shows that my SRS has significantly lower variance then the SYS variance, and that therefore the implicit stratification does not make the variance estimator more precise."
   ],
   "metadata": {
    "collapsed": false
   },
   "id": "aebccdf5a89845b6"
  },
  {
   "cell_type": "code",
   "execution_count": 68,
   "id": "b1c762e751ca6914",
   "metadata": {
    "collapsed": false,
    "ExecuteTime": {
     "end_time": "2024-02-12T13:29:27.778111Z",
     "start_time": "2024-02-12T13:29:27.667438500Z"
    }
   },
   "outputs": [
    {
     "data": {
      "text/plain": "    Stratum  Cluster  Id Municipality  POP91  LAB91  UE91  HOU85  URB85\n0         1        1   1    Jyväskylä  67200  33786  4123  26881      1\n4         1        3   5   Saarijärvi  10774   4930   721   3730      1\n8         2        6   9       Joutsa   4594   2069   194   1823      0\n12        2        8  13      Kinnula   2324    927   129    675      0\n16        2        1  17   Korpilahti   5181   2144   239   1793      0\n20        2        6  21   Leivonmäki   1370    573    61    545      0\n24        2        7  25   Petäjävesi   3800   1737   262   1352      0\n28        2        1  29   Säynätsalo   3628   1615   166   1226      0",
      "text/html": "<div>\n<style scoped>\n    .dataframe tbody tr th:only-of-type {\n        vertical-align: middle;\n    }\n\n    .dataframe tbody tr th {\n        vertical-align: top;\n    }\n\n    .dataframe thead th {\n        text-align: right;\n    }\n</style>\n<table border=\"1\" class=\"dataframe\">\n  <thead>\n    <tr style=\"text-align: right;\">\n      <th></th>\n      <th>Stratum</th>\n      <th>Cluster</th>\n      <th>Id</th>\n      <th>Municipality</th>\n      <th>POP91</th>\n      <th>LAB91</th>\n      <th>UE91</th>\n      <th>HOU85</th>\n      <th>URB85</th>\n    </tr>\n  </thead>\n  <tbody>\n    <tr>\n      <th>0</th>\n      <td>1</td>\n      <td>1</td>\n      <td>1</td>\n      <td>Jyväskylä</td>\n      <td>67200</td>\n      <td>33786</td>\n      <td>4123</td>\n      <td>26881</td>\n      <td>1</td>\n    </tr>\n    <tr>\n      <th>4</th>\n      <td>1</td>\n      <td>3</td>\n      <td>5</td>\n      <td>Saarijärvi</td>\n      <td>10774</td>\n      <td>4930</td>\n      <td>721</td>\n      <td>3730</td>\n      <td>1</td>\n    </tr>\n    <tr>\n      <th>8</th>\n      <td>2</td>\n      <td>6</td>\n      <td>9</td>\n      <td>Joutsa</td>\n      <td>4594</td>\n      <td>2069</td>\n      <td>194</td>\n      <td>1823</td>\n      <td>0</td>\n    </tr>\n    <tr>\n      <th>12</th>\n      <td>2</td>\n      <td>8</td>\n      <td>13</td>\n      <td>Kinnula</td>\n      <td>2324</td>\n      <td>927</td>\n      <td>129</td>\n      <td>675</td>\n      <td>0</td>\n    </tr>\n    <tr>\n      <th>16</th>\n      <td>2</td>\n      <td>1</td>\n      <td>17</td>\n      <td>Korpilahti</td>\n      <td>5181</td>\n      <td>2144</td>\n      <td>239</td>\n      <td>1793</td>\n      <td>0</td>\n    </tr>\n    <tr>\n      <th>20</th>\n      <td>2</td>\n      <td>6</td>\n      <td>21</td>\n      <td>Leivonmäki</td>\n      <td>1370</td>\n      <td>573</td>\n      <td>61</td>\n      <td>545</td>\n      <td>0</td>\n    </tr>\n    <tr>\n      <th>24</th>\n      <td>2</td>\n      <td>7</td>\n      <td>25</td>\n      <td>Petäjävesi</td>\n      <td>3800</td>\n      <td>1737</td>\n      <td>262</td>\n      <td>1352</td>\n      <td>0</td>\n    </tr>\n    <tr>\n      <th>28</th>\n      <td>2</td>\n      <td>1</td>\n      <td>29</td>\n      <td>Säynätsalo</td>\n      <td>3628</td>\n      <td>1615</td>\n      <td>166</td>\n      <td>1226</td>\n      <td>0</td>\n    </tr>\n  </tbody>\n</table>\n</div>"
     },
     "metadata": {},
     "output_type": "display_data"
    },
    {
     "data": {
      "text/plain": "   Year       SYS Var      SRS Var      Deff\n0  1991  13549.356569  4950.960426  2.736713",
      "text/html": "<div>\n<style scoped>\n    .dataframe tbody tr th:only-of-type {\n        vertical-align: middle;\n    }\n\n    .dataframe tbody tr th {\n        vertical-align: top;\n    }\n\n    .dataframe thead th {\n        text-align: right;\n    }\n</style>\n<table border=\"1\" class=\"dataframe\">\n  <thead>\n    <tr style=\"text-align: right;\">\n      <th></th>\n      <th>Year</th>\n      <th>SYS Var</th>\n      <th>SRS Var</th>\n      <th>Deff</th>\n    </tr>\n  </thead>\n  <tbody>\n    <tr>\n      <th>0</th>\n      <td>1991</td>\n      <td>13549.356569</td>\n      <td>4950.960426</td>\n      <td>2.736713</td>\n    </tr>\n  </tbody>\n</table>\n</div>"
     },
     "metadata": {},
     "output_type": "display_data"
    }
   ],
   "source": [
    "### Province 91\n",
    "## Specific Sample\n",
    "municipalities_to_select = ['Jyväskylä', 'Saarijärvi', 'Joutsa', 'Kinnula', 'Korpilahti', 'Leivonmäki', 'Petäjävesi', 'Säynätsalo']\n",
    "province91_spec = province91[province91['Municipality'].isin(municipalities_to_select)]\n",
    "display(province91_spec)\n",
    "\n",
    "## Calculating the System Variance of UE91 SYS (sqrt)\n",
    "# Done by manually calculating the previous information for design variance, multiplied by the population variance as given by Pandas. ddof=0 makes equation give population variance, but ddof=1 works for the example, so is used. Look more into the reason?\n",
    "s_var91_sys = system_var(province91, province91_spec, \"UE91\", Is_Sqrt = True)\n",
    "\n",
    "## SRS Sample\n",
    "prov91_sample = province91.sample(n=8, replace=False, random_state=123456)\n",
    "s_var91_srs = system_var(province91, prov91_sample, \"UE91\", Is_Sqrt = True)\n",
    "\n",
    "## deff Calculation\n",
    "s91_deff = s_var91_sys/s_var91_srs\n",
    "\n",
    "## Display\n",
    "display(pd.DataFrame({'Year': [\"1991\"],'SYS Var': [s_var91_sys],'SRS Var': [s_var91_srs],'Deff': [s91_deff]}))"
   ]
  }
 ],
 "metadata": {
  "kernelspec": {
   "display_name": "Python 3 (ipykernel)",
   "language": "python",
   "name": "python3"
  },
  "language_info": {
   "codemirror_mode": {
    "name": "ipython",
    "version": 3
   },
   "file_extension": ".py",
   "mimetype": "text/x-python",
   "name": "python",
   "nbconvert_exporter": "python",
   "pygments_lexer": "ipython3",
   "version": "3.12.0"
  }
 },
 "nbformat": 4,
 "nbformat_minor": 5
}
