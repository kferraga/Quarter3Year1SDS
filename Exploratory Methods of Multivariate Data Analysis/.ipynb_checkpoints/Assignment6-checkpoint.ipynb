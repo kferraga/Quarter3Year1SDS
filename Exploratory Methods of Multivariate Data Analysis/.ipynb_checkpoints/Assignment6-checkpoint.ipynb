{
 "cells": [
  {
   "cell_type": "markdown",
   "id": "e00ac580f78ca0e7",
   "metadata": {
    "collapsed": false
   },
   "source": [
    "# Multivariate Data Analysis - Assignment 6\n",
    "#### Name: Kai Ferragallo-Hawkins\n",
    "#### Date: 28.4.2024"
   ]
  },
  {
   "cell_type": "markdown",
   "id": "8c31b60cabcae666",
   "metadata": {
    "collapsed": false
   },
   "source": [
    "# Setup - Packages and Imports"
   ]
  },
  {
   "cell_type": "code",
   "id": "bb441ddc8db0f26d",
   "metadata": {
    "collapsed": false,
    "ExecuteTime": {
     "end_time": "2024-04-28T19:17:42.585332Z",
     "start_time": "2024-04-28T19:17:42.516451Z"
    }
   },
   "source": [
    "# Pandas, package for general data analysis\n",
    "import pandas as pd\n",
    "\n",
    "# Importing Diamonds Data\n",
    "airline = pd.read_csv(\"data/diamonds.csv\")"
   ],
   "outputs": [],
   "execution_count": 1
  }
 ],
 "metadata": {
  "kernelspec": {
   "display_name": "Python 3 (ipykernel)",
   "language": "python",
   "name": "python3"
  },
  "language_info": {
   "codemirror_mode": {
    "name": "ipython",
    "version": 3
   },
   "file_extension": ".py",
   "mimetype": "text/x-python",
   "name": "python",
   "nbconvert_exporter": "python",
   "pygments_lexer": "ipython3",
   "version": "3.12.0"
  }
 },
 "nbformat": 4,
 "nbformat_minor": 5
}
