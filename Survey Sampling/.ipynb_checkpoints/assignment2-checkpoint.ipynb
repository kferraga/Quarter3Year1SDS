{
 "cells": [
  {
   "cell_type": "markdown",
   "id": "d29b3ad00d956750",
   "metadata": {
    "collapsed": false
   },
   "source": [
    "# Week 2: Task 1-4\n",
    "#### Name: Kai Ferragallo-Hawkins\n",
    "#### Date: 23.1.2023"
   ]
  },
  {
   "cell_type": "markdown",
   "id": "3498fdc2bb43550e",
   "metadata": {
    "collapsed": false
   },
   "source": [
    "## #Setup"
   ]
  },
  {
   "cell_type": "code",
   "execution_count": 28,
   "id": "initial_id",
   "metadata": {
    "collapsed": true,
    "jupyter": {
     "outputs_hidden": true
    },
    "ExecuteTime": {
     "end_time": "2024-01-23T14:21:50.356841800Z",
     "start_time": "2024-01-23T14:21:50.129974900Z"
    }
   },
   "outputs": [
    {
     "data": {
      "text/plain": "    Stratum  Cluster  Id  Municipality  POP91  LAB91  UE91  HOU85  URB85\n0         1        1   1     Jyväskylä  67200  33786  4123  26881      1\n1         1        2   2         Jämsä  12907   6016   666   4663      1\n2         1        2   3   Jämsänkoski   8118   3818   528   3019      1\n3         1        2   4        Keuruu  12707   5919   760   4896      1\n4         1        3   5    Saarijärvi  10774   4930   721   3730      1\n5         1        5   6      Suolahti   6159   3022   457   2389      1\n6         1        3   7     Äänekoski  11595   5823   767   4264      1\n7         2        5   8    Hankasalmi   6080   2594   391   2179      0\n8         2        6   9        Joutsa   4594   2069   194   1823      0\n9         2        7  10     Jyväskmlk  29349  13727  1623   9230      0\n10        2        4  11   Kannonkoski   1919    821   153    726      0\n11        2        4  12      Karstula   5594   2521   341   1868      0\n12        2        8  13       Kinnula   2324    927   129    675      0\n13        2        8  14     Kivijärvi   1972    819   128    634      0\n14        2        3  15  Konginkangas   1636    675   142    556      0\n15        2        5  16     Konnevesi   3453   1557   201   1215      0\n16        2        1  17    Korpilahti   5181   2144   239   1793      0\n17        2        2  18     Kuhmoinen   3357   1448   187   1463      0\n18        2        4  19      Kyyjärvi   1977    831    94    672      0\n19        2        5  20        Laukaa  16042   7218   874   4952      0\n20        2        6  21    Leivonmäki   1370    573    61    545      0\n21        2        6  22       Luhanka   1153    522    54    435      0\n22        2        7  23        Multia   2375   1059   119    925      0\n23        2        1  24       Muurame   6830   3024   296   1853      0\n24        2        7  25    Petäjävesi   3800   1737   262   1352      0\n25        2        8  26    Pihtipudas   5654   2543   331   1946      0\n26        2        4  27    Pylkönmäki   1266    545    98    473      0\n27        2        3  28     Sumiainen   1426    617    79    485      0\n28        2        1  29    Säynätsalo   3628   1615   166   1226      0\n29        2        6  30      Toivakka   2499   1084   127    834      0\n30        2        7  31      Uurainen   3004   1330   219    932      0\n31        2        8  32    Viitasaari   8641   4011   568   3119      0",
      "text/html": "<div>\n<style scoped>\n    .dataframe tbody tr th:only-of-type {\n        vertical-align: middle;\n    }\n\n    .dataframe tbody tr th {\n        vertical-align: top;\n    }\n\n    .dataframe thead th {\n        text-align: right;\n    }\n</style>\n<table border=\"1\" class=\"dataframe\">\n  <thead>\n    <tr style=\"text-align: right;\">\n      <th></th>\n      <th>Stratum</th>\n      <th>Cluster</th>\n      <th>Id</th>\n      <th>Municipality</th>\n      <th>POP91</th>\n      <th>LAB91</th>\n      <th>UE91</th>\n      <th>HOU85</th>\n      <th>URB85</th>\n    </tr>\n  </thead>\n  <tbody>\n    <tr>\n      <th>0</th>\n      <td>1</td>\n      <td>1</td>\n      <td>1</td>\n      <td>Jyväskylä</td>\n      <td>67200</td>\n      <td>33786</td>\n      <td>4123</td>\n      <td>26881</td>\n      <td>1</td>\n    </tr>\n    <tr>\n      <th>1</th>\n      <td>1</td>\n      <td>2</td>\n      <td>2</td>\n      <td>Jämsä</td>\n      <td>12907</td>\n      <td>6016</td>\n      <td>666</td>\n      <td>4663</td>\n      <td>1</td>\n    </tr>\n    <tr>\n      <th>2</th>\n      <td>1</td>\n      <td>2</td>\n      <td>3</td>\n      <td>Jämsänkoski</td>\n      <td>8118</td>\n      <td>3818</td>\n      <td>528</td>\n      <td>3019</td>\n      <td>1</td>\n    </tr>\n    <tr>\n      <th>3</th>\n      <td>1</td>\n      <td>2</td>\n      <td>4</td>\n      <td>Keuruu</td>\n      <td>12707</td>\n      <td>5919</td>\n      <td>760</td>\n      <td>4896</td>\n      <td>1</td>\n    </tr>\n    <tr>\n      <th>4</th>\n      <td>1</td>\n      <td>3</td>\n      <td>5</td>\n      <td>Saarijärvi</td>\n      <td>10774</td>\n      <td>4930</td>\n      <td>721</td>\n      <td>3730</td>\n      <td>1</td>\n    </tr>\n    <tr>\n      <th>5</th>\n      <td>1</td>\n      <td>5</td>\n      <td>6</td>\n      <td>Suolahti</td>\n      <td>6159</td>\n      <td>3022</td>\n      <td>457</td>\n      <td>2389</td>\n      <td>1</td>\n    </tr>\n    <tr>\n      <th>6</th>\n      <td>1</td>\n      <td>3</td>\n      <td>7</td>\n      <td>Äänekoski</td>\n      <td>11595</td>\n      <td>5823</td>\n      <td>767</td>\n      <td>4264</td>\n      <td>1</td>\n    </tr>\n    <tr>\n      <th>7</th>\n      <td>2</td>\n      <td>5</td>\n      <td>8</td>\n      <td>Hankasalmi</td>\n      <td>6080</td>\n      <td>2594</td>\n      <td>391</td>\n      <td>2179</td>\n      <td>0</td>\n    </tr>\n    <tr>\n      <th>8</th>\n      <td>2</td>\n      <td>6</td>\n      <td>9</td>\n      <td>Joutsa</td>\n      <td>4594</td>\n      <td>2069</td>\n      <td>194</td>\n      <td>1823</td>\n      <td>0</td>\n    </tr>\n    <tr>\n      <th>9</th>\n      <td>2</td>\n      <td>7</td>\n      <td>10</td>\n      <td>Jyväskmlk</td>\n      <td>29349</td>\n      <td>13727</td>\n      <td>1623</td>\n      <td>9230</td>\n      <td>0</td>\n    </tr>\n    <tr>\n      <th>10</th>\n      <td>2</td>\n      <td>4</td>\n      <td>11</td>\n      <td>Kannonkoski</td>\n      <td>1919</td>\n      <td>821</td>\n      <td>153</td>\n      <td>726</td>\n      <td>0</td>\n    </tr>\n    <tr>\n      <th>11</th>\n      <td>2</td>\n      <td>4</td>\n      <td>12</td>\n      <td>Karstula</td>\n      <td>5594</td>\n      <td>2521</td>\n      <td>341</td>\n      <td>1868</td>\n      <td>0</td>\n    </tr>\n    <tr>\n      <th>12</th>\n      <td>2</td>\n      <td>8</td>\n      <td>13</td>\n      <td>Kinnula</td>\n      <td>2324</td>\n      <td>927</td>\n      <td>129</td>\n      <td>675</td>\n      <td>0</td>\n    </tr>\n    <tr>\n      <th>13</th>\n      <td>2</td>\n      <td>8</td>\n      <td>14</td>\n      <td>Kivijärvi</td>\n      <td>1972</td>\n      <td>819</td>\n      <td>128</td>\n      <td>634</td>\n      <td>0</td>\n    </tr>\n    <tr>\n      <th>14</th>\n      <td>2</td>\n      <td>3</td>\n      <td>15</td>\n      <td>Konginkangas</td>\n      <td>1636</td>\n      <td>675</td>\n      <td>142</td>\n      <td>556</td>\n      <td>0</td>\n    </tr>\n    <tr>\n      <th>15</th>\n      <td>2</td>\n      <td>5</td>\n      <td>16</td>\n      <td>Konnevesi</td>\n      <td>3453</td>\n      <td>1557</td>\n      <td>201</td>\n      <td>1215</td>\n      <td>0</td>\n    </tr>\n    <tr>\n      <th>16</th>\n      <td>2</td>\n      <td>1</td>\n      <td>17</td>\n      <td>Korpilahti</td>\n      <td>5181</td>\n      <td>2144</td>\n      <td>239</td>\n      <td>1793</td>\n      <td>0</td>\n    </tr>\n    <tr>\n      <th>17</th>\n      <td>2</td>\n      <td>2</td>\n      <td>18</td>\n      <td>Kuhmoinen</td>\n      <td>3357</td>\n      <td>1448</td>\n      <td>187</td>\n      <td>1463</td>\n      <td>0</td>\n    </tr>\n    <tr>\n      <th>18</th>\n      <td>2</td>\n      <td>4</td>\n      <td>19</td>\n      <td>Kyyjärvi</td>\n      <td>1977</td>\n      <td>831</td>\n      <td>94</td>\n      <td>672</td>\n      <td>0</td>\n    </tr>\n    <tr>\n      <th>19</th>\n      <td>2</td>\n      <td>5</td>\n      <td>20</td>\n      <td>Laukaa</td>\n      <td>16042</td>\n      <td>7218</td>\n      <td>874</td>\n      <td>4952</td>\n      <td>0</td>\n    </tr>\n    <tr>\n      <th>20</th>\n      <td>2</td>\n      <td>6</td>\n      <td>21</td>\n      <td>Leivonmäki</td>\n      <td>1370</td>\n      <td>573</td>\n      <td>61</td>\n      <td>545</td>\n      <td>0</td>\n    </tr>\n    <tr>\n      <th>21</th>\n      <td>2</td>\n      <td>6</td>\n      <td>22</td>\n      <td>Luhanka</td>\n      <td>1153</td>\n      <td>522</td>\n      <td>54</td>\n      <td>435</td>\n      <td>0</td>\n    </tr>\n    <tr>\n      <th>22</th>\n      <td>2</td>\n      <td>7</td>\n      <td>23</td>\n      <td>Multia</td>\n      <td>2375</td>\n      <td>1059</td>\n      <td>119</td>\n      <td>925</td>\n      <td>0</td>\n    </tr>\n    <tr>\n      <th>23</th>\n      <td>2</td>\n      <td>1</td>\n      <td>24</td>\n      <td>Muurame</td>\n      <td>6830</td>\n      <td>3024</td>\n      <td>296</td>\n      <td>1853</td>\n      <td>0</td>\n    </tr>\n    <tr>\n      <th>24</th>\n      <td>2</td>\n      <td>7</td>\n      <td>25</td>\n      <td>Petäjävesi</td>\n      <td>3800</td>\n      <td>1737</td>\n      <td>262</td>\n      <td>1352</td>\n      <td>0</td>\n    </tr>\n    <tr>\n      <th>25</th>\n      <td>2</td>\n      <td>8</td>\n      <td>26</td>\n      <td>Pihtipudas</td>\n      <td>5654</td>\n      <td>2543</td>\n      <td>331</td>\n      <td>1946</td>\n      <td>0</td>\n    </tr>\n    <tr>\n      <th>26</th>\n      <td>2</td>\n      <td>4</td>\n      <td>27</td>\n      <td>Pylkönmäki</td>\n      <td>1266</td>\n      <td>545</td>\n      <td>98</td>\n      <td>473</td>\n      <td>0</td>\n    </tr>\n    <tr>\n      <th>27</th>\n      <td>2</td>\n      <td>3</td>\n      <td>28</td>\n      <td>Sumiainen</td>\n      <td>1426</td>\n      <td>617</td>\n      <td>79</td>\n      <td>485</td>\n      <td>0</td>\n    </tr>\n    <tr>\n      <th>28</th>\n      <td>2</td>\n      <td>1</td>\n      <td>29</td>\n      <td>Säynätsalo</td>\n      <td>3628</td>\n      <td>1615</td>\n      <td>166</td>\n      <td>1226</td>\n      <td>0</td>\n    </tr>\n    <tr>\n      <th>29</th>\n      <td>2</td>\n      <td>6</td>\n      <td>30</td>\n      <td>Toivakka</td>\n      <td>2499</td>\n      <td>1084</td>\n      <td>127</td>\n      <td>834</td>\n      <td>0</td>\n    </tr>\n    <tr>\n      <th>30</th>\n      <td>2</td>\n      <td>7</td>\n      <td>31</td>\n      <td>Uurainen</td>\n      <td>3004</td>\n      <td>1330</td>\n      <td>219</td>\n      <td>932</td>\n      <td>0</td>\n    </tr>\n    <tr>\n      <th>31</th>\n      <td>2</td>\n      <td>8</td>\n      <td>32</td>\n      <td>Viitasaari</td>\n      <td>8641</td>\n      <td>4011</td>\n      <td>568</td>\n      <td>3119</td>\n      <td>0</td>\n    </tr>\n  </tbody>\n</table>\n</div>"
     },
     "metadata": {},
     "output_type": "display_data"
    },
    {
     "data": {
      "text/plain": "   Municipality  id   POP17  LAB17  UE17  HOU17  URB17_new\n0    Hankasalmi   1    5019   1829   222   2376          0\n1        Joutsa   2    4567   1605   229   2442          1\n2     Jyväskylä   3  140188  61250  8337  71481          1\n3         Jämsä   4   20877   7989  1175  10647          1\n4   Kannonkoski   5    1408    473    68    672          0\n5      Karstula   6    4146   1468   227   1974          1\n6        Keuruu   7    9919   3517   493   4970          1\n7       Kinnula   8    1656    522    97    711          1\n8     Kivijärvi   9    1132    363    42    539          1\n9     Konnevesi  10    2748   1022   134   1339          0\n10    Kuhmoinen  11    2252    734    99   1250          1\n11     Kyyjärvi  12    1352    484    61    622          1\n12       Laukaa  13   18978   8082   827   7819          1\n13      Luhanka  14     734    244    26    372          0\n14       Multia  15    1636    570    59    776          0\n15      Muurame  16   10097   4749   419   4144          1\n16   Petäjävesi  17    3920   1611   175   1766          1\n17   Pihtipudas  18    4127   1548   201   2000          0\n18   Saarijärvi  19    9589   3368   631   4738          1\n19     Toivakka  20    2384    956   106   1070          0\n20     Uurainen  21    3747   1502   174   1440          0\n21   Viitasaari  22    6411   2259   334   3273          1\n22    Äänekoski  23   19144   7239  1128   9352          1",
      "text/html": "<div>\n<style scoped>\n    .dataframe tbody tr th:only-of-type {\n        vertical-align: middle;\n    }\n\n    .dataframe tbody tr th {\n        vertical-align: top;\n    }\n\n    .dataframe thead th {\n        text-align: right;\n    }\n</style>\n<table border=\"1\" class=\"dataframe\">\n  <thead>\n    <tr style=\"text-align: right;\">\n      <th></th>\n      <th>Municipality</th>\n      <th>id</th>\n      <th>POP17</th>\n      <th>LAB17</th>\n      <th>UE17</th>\n      <th>HOU17</th>\n      <th>URB17_new</th>\n    </tr>\n  </thead>\n  <tbody>\n    <tr>\n      <th>0</th>\n      <td>Hankasalmi</td>\n      <td>1</td>\n      <td>5019</td>\n      <td>1829</td>\n      <td>222</td>\n      <td>2376</td>\n      <td>0</td>\n    </tr>\n    <tr>\n      <th>1</th>\n      <td>Joutsa</td>\n      <td>2</td>\n      <td>4567</td>\n      <td>1605</td>\n      <td>229</td>\n      <td>2442</td>\n      <td>1</td>\n    </tr>\n    <tr>\n      <th>2</th>\n      <td>Jyväskylä</td>\n      <td>3</td>\n      <td>140188</td>\n      <td>61250</td>\n      <td>8337</td>\n      <td>71481</td>\n      <td>1</td>\n    </tr>\n    <tr>\n      <th>3</th>\n      <td>Jämsä</td>\n      <td>4</td>\n      <td>20877</td>\n      <td>7989</td>\n      <td>1175</td>\n      <td>10647</td>\n      <td>1</td>\n    </tr>\n    <tr>\n      <th>4</th>\n      <td>Kannonkoski</td>\n      <td>5</td>\n      <td>1408</td>\n      <td>473</td>\n      <td>68</td>\n      <td>672</td>\n      <td>0</td>\n    </tr>\n    <tr>\n      <th>5</th>\n      <td>Karstula</td>\n      <td>6</td>\n      <td>4146</td>\n      <td>1468</td>\n      <td>227</td>\n      <td>1974</td>\n      <td>1</td>\n    </tr>\n    <tr>\n      <th>6</th>\n      <td>Keuruu</td>\n      <td>7</td>\n      <td>9919</td>\n      <td>3517</td>\n      <td>493</td>\n      <td>4970</td>\n      <td>1</td>\n    </tr>\n    <tr>\n      <th>7</th>\n      <td>Kinnula</td>\n      <td>8</td>\n      <td>1656</td>\n      <td>522</td>\n      <td>97</td>\n      <td>711</td>\n      <td>1</td>\n    </tr>\n    <tr>\n      <th>8</th>\n      <td>Kivijärvi</td>\n      <td>9</td>\n      <td>1132</td>\n      <td>363</td>\n      <td>42</td>\n      <td>539</td>\n      <td>1</td>\n    </tr>\n    <tr>\n      <th>9</th>\n      <td>Konnevesi</td>\n      <td>10</td>\n      <td>2748</td>\n      <td>1022</td>\n      <td>134</td>\n      <td>1339</td>\n      <td>0</td>\n    </tr>\n    <tr>\n      <th>10</th>\n      <td>Kuhmoinen</td>\n      <td>11</td>\n      <td>2252</td>\n      <td>734</td>\n      <td>99</td>\n      <td>1250</td>\n      <td>1</td>\n    </tr>\n    <tr>\n      <th>11</th>\n      <td>Kyyjärvi</td>\n      <td>12</td>\n      <td>1352</td>\n      <td>484</td>\n      <td>61</td>\n      <td>622</td>\n      <td>1</td>\n    </tr>\n    <tr>\n      <th>12</th>\n      <td>Laukaa</td>\n      <td>13</td>\n      <td>18978</td>\n      <td>8082</td>\n      <td>827</td>\n      <td>7819</td>\n      <td>1</td>\n    </tr>\n    <tr>\n      <th>13</th>\n      <td>Luhanka</td>\n      <td>14</td>\n      <td>734</td>\n      <td>244</td>\n      <td>26</td>\n      <td>372</td>\n      <td>0</td>\n    </tr>\n    <tr>\n      <th>14</th>\n      <td>Multia</td>\n      <td>15</td>\n      <td>1636</td>\n      <td>570</td>\n      <td>59</td>\n      <td>776</td>\n      <td>0</td>\n    </tr>\n    <tr>\n      <th>15</th>\n      <td>Muurame</td>\n      <td>16</td>\n      <td>10097</td>\n      <td>4749</td>\n      <td>419</td>\n      <td>4144</td>\n      <td>1</td>\n    </tr>\n    <tr>\n      <th>16</th>\n      <td>Petäjävesi</td>\n      <td>17</td>\n      <td>3920</td>\n      <td>1611</td>\n      <td>175</td>\n      <td>1766</td>\n      <td>1</td>\n    </tr>\n    <tr>\n      <th>17</th>\n      <td>Pihtipudas</td>\n      <td>18</td>\n      <td>4127</td>\n      <td>1548</td>\n      <td>201</td>\n      <td>2000</td>\n      <td>0</td>\n    </tr>\n    <tr>\n      <th>18</th>\n      <td>Saarijärvi</td>\n      <td>19</td>\n      <td>9589</td>\n      <td>3368</td>\n      <td>631</td>\n      <td>4738</td>\n      <td>1</td>\n    </tr>\n    <tr>\n      <th>19</th>\n      <td>Toivakka</td>\n      <td>20</td>\n      <td>2384</td>\n      <td>956</td>\n      <td>106</td>\n      <td>1070</td>\n      <td>0</td>\n    </tr>\n    <tr>\n      <th>20</th>\n      <td>Uurainen</td>\n      <td>21</td>\n      <td>3747</td>\n      <td>1502</td>\n      <td>174</td>\n      <td>1440</td>\n      <td>0</td>\n    </tr>\n    <tr>\n      <th>21</th>\n      <td>Viitasaari</td>\n      <td>22</td>\n      <td>6411</td>\n      <td>2259</td>\n      <td>334</td>\n      <td>3273</td>\n      <td>1</td>\n    </tr>\n    <tr>\n      <th>22</th>\n      <td>Äänekoski</td>\n      <td>23</td>\n      <td>19144</td>\n      <td>7239</td>\n      <td>1128</td>\n      <td>9352</td>\n      <td>1</td>\n    </tr>\n  </tbody>\n</table>\n</div>"
     },
     "metadata": {},
     "output_type": "display_data"
    }
   ],
   "source": [
    "from matplotlib import pyplot as plt\n",
    "import pandas as pd\n",
    "import seaborn as sns\n",
    "import SurveySamplingFunctions as ssf\n",
    "\n",
    "### Province 91\n",
    "## Importing Province91 Data\n",
    "province91 = pd.read_csv(\"files/assignment1/province91.txt\", delim_whitespace=True)\n",
    "\n",
    "# Displaying the newly imported table (done later as well)\n",
    "display(province91)\n",
    "\n",
    "### Province 17\n",
    "## Importing Province17 Data\n",
    "province17 = pd.read_csv(\"files/assignment1/province17.txt\", delimiter = '\\t', encoding='latin-1')\n",
    "\n",
    "# Displaying the newly imported table (done later as well)\n",
    "display(province17)"
   ]
  },
  {
   "cell_type": "markdown",
   "source": [
    "## #Task 1: Total of UE91/UE17"
   ],
   "metadata": {
    "collapsed": false
   },
   "id": "aebccdf5a89845b6"
  },
  {
   "cell_type": "code",
   "execution_count": 29,
   "id": "b1c762e751ca6914",
   "metadata": {
    "collapsed": false,
    "ExecuteTime": {
     "end_time": "2024-01-23T14:21:50.389973200Z",
     "start_time": "2024-01-23T14:21:50.189828900Z"
    }
   },
   "outputs": [
    {
     "data": {
      "text/plain": "   Year  Total Unemployed, Absolute\n0  1991                       15098\n1  2017                       15264",
      "text/html": "<div>\n<style scoped>\n    .dataframe tbody tr th:only-of-type {\n        vertical-align: middle;\n    }\n\n    .dataframe tbody tr th {\n        vertical-align: top;\n    }\n\n    .dataframe thead th {\n        text-align: right;\n    }\n</style>\n<table border=\"1\" class=\"dataframe\">\n  <thead>\n    <tr style=\"text-align: right;\">\n      <th></th>\n      <th>Year</th>\n      <th>Total Unemployed, Absolute</th>\n    </tr>\n  </thead>\n  <tbody>\n    <tr>\n      <th>0</th>\n      <td>1991</td>\n      <td>15098</td>\n    </tr>\n    <tr>\n      <th>1</th>\n      <td>2017</td>\n      <td>15264</td>\n    </tr>\n  </tbody>\n</table>\n</div>"
     },
     "metadata": {},
     "output_type": "display_data"
    }
   ],
   "source": [
    "### Province 91\n",
    "## Calculating the Total of UE91\n",
    "total_ue91 = province91['UE91'].sum()\n",
    "\n",
    "### Province 17\n",
    "## Calculating the Total of UE91\n",
    "total_ue17 = province17['UE17'].sum()\n",
    "\n",
    "### Both\n",
    "display(pd.DataFrame({'Year': [\"1991\", \"2017\"],'Total Unemployed, Absolute': [total_ue91, total_ue17]}))"
   ]
  },
  {
   "cell_type": "markdown",
   "source": [
    "## #Task 2: Unemployment Rate"
   ],
   "metadata": {
    "collapsed": false
   },
   "id": "afae2c755ee44663"
  },
  {
   "cell_type": "code",
   "execution_count": 30,
   "outputs": [
    {
     "data": {
      "text/plain": "   Year  Unemployment Rate, %\n0  1991             12.652839\n1  2017             13.462217",
      "text/html": "<div>\n<style scoped>\n    .dataframe tbody tr th:only-of-type {\n        vertical-align: middle;\n    }\n\n    .dataframe tbody tr th {\n        vertical-align: top;\n    }\n\n    .dataframe thead th {\n        text-align: right;\n    }\n</style>\n<table border=\"1\" class=\"dataframe\">\n  <thead>\n    <tr style=\"text-align: right;\">\n      <th></th>\n      <th>Year</th>\n      <th>Unemployment Rate, %</th>\n    </tr>\n  </thead>\n  <tbody>\n    <tr>\n      <th>0</th>\n      <td>1991</td>\n      <td>12.652839</td>\n    </tr>\n    <tr>\n      <th>1</th>\n      <td>2017</td>\n      <td>13.462217</td>\n    </tr>\n  </tbody>\n</table>\n</div>"
     },
     "metadata": {},
     "output_type": "display_data"
    }
   ],
   "source": [
    "### Calculating Unemployment Rate\n",
    "\n",
    "### Province 91\n",
    "## Calculating LAB91 Total\n",
    "total_lab91 = province91['LAB91'].sum()\n",
    "## Calculating Unemployment Rate\n",
    "ur_91 = total_ue91/total_lab91*100\n",
    "\n",
    "### Province 17\n",
    "## Calculating LAB91 Total\n",
    "total_lab17 = province17['LAB17'].sum()\n",
    "## Calculating Unemployment Rate\n",
    "ur_17 = total_ue17/total_lab17*100\n",
    "\n",
    "### Both\n",
    "display(pd.DataFrame({'Year': [\"1991\", \"2017\"],'Unemployment Rate, %': [ur_91, ur_17]}))\n"
   ],
   "metadata": {
    "collapsed": false,
    "ExecuteTime": {
     "end_time": "2024-01-23T14:21:50.389973200Z",
     "start_time": "2024-01-23T14:21:50.207994100Z"
    }
   },
   "id": "c8d71fb43baac903"
  },
  {
   "cell_type": "markdown",
   "source": [
    "## #Task 3: Population Median of UE91/UE17"
   ],
   "metadata": {
    "collapsed": false
   },
   "id": "6500f9124ba1fc8e"
  },
  {
   "cell_type": "code",
   "execution_count": 31,
   "outputs": [
    {
     "data": {
      "text/plain": "   Year  Unemployment Median\n0  1991                229.0\n1  2017                201.0",
      "text/html": "<div>\n<style scoped>\n    .dataframe tbody tr th:only-of-type {\n        vertical-align: middle;\n    }\n\n    .dataframe tbody tr th {\n        vertical-align: top;\n    }\n\n    .dataframe thead th {\n        text-align: right;\n    }\n</style>\n<table border=\"1\" class=\"dataframe\">\n  <thead>\n    <tr style=\"text-align: right;\">\n      <th></th>\n      <th>Year</th>\n      <th>Unemployment Median</th>\n    </tr>\n  </thead>\n  <tbody>\n    <tr>\n      <th>0</th>\n      <td>1991</td>\n      <td>229.0</td>\n    </tr>\n    <tr>\n      <th>1</th>\n      <td>2017</td>\n      <td>201.0</td>\n    </tr>\n  </tbody>\n</table>\n</div>"
     },
     "metadata": {},
     "output_type": "display_data"
    }
   ],
   "source": [
    "### Province 91\n",
    "## Calculating UE91 Median\n",
    "median_ue91 = province91['UE91'].median()\n",
    "\n",
    "### Province 17\n",
    "## Calculating UE17 Median\n",
    "median_ue17 = province17['UE17'].median()\n",
    "\n",
    "### Both\n",
    "display(pd.DataFrame({'Year': [\"1991\", \"2017\"],'Unemployment Median': [median_ue91, median_ue17]}))"
   ],
   "metadata": {
    "collapsed": false,
    "ExecuteTime": {
     "end_time": "2024-01-23T14:21:50.389973200Z",
     "start_time": "2024-01-23T14:21:50.227545200Z"
    }
   },
   "id": "56c029f2d07cc2c0"
  },
  {
   "cell_type": "markdown",
   "source": [
    "## #Task 4: Population Variance & Standard Deviation of UE91/UE17"
   ],
   "metadata": {
    "collapsed": false
   },
   "id": "d18f08423793a273"
  },
  {
   "cell_type": "code",
   "execution_count": 32,
   "outputs": [
    {
     "data": {
      "text/plain": "   Year  Unemployment Var  Unemployment STDEV\n0  1991      5.526479e+05          743.402918\n1  2017      2.907185e+06         1705.046936",
      "text/html": "<div>\n<style scoped>\n    .dataframe tbody tr th:only-of-type {\n        vertical-align: middle;\n    }\n\n    .dataframe tbody tr th {\n        vertical-align: top;\n    }\n\n    .dataframe thead th {\n        text-align: right;\n    }\n</style>\n<table border=\"1\" class=\"dataframe\">\n  <thead>\n    <tr style=\"text-align: right;\">\n      <th></th>\n      <th>Year</th>\n      <th>Unemployment Var</th>\n      <th>Unemployment STDEV</th>\n    </tr>\n  </thead>\n  <tbody>\n    <tr>\n      <th>0</th>\n      <td>1991</td>\n      <td>5.526479e+05</td>\n      <td>743.402918</td>\n    </tr>\n    <tr>\n      <th>1</th>\n      <td>2017</td>\n      <td>2.907185e+06</td>\n      <td>1705.046936</td>\n    </tr>\n  </tbody>\n</table>\n</div>"
     },
     "metadata": {},
     "output_type": "display_data"
    },
    {
     "data": {
      "text/plain": "   Year  Total UE, Absolute    UE Rate  UE Median        UE Var     UE STDEV\n0  1991               15098  12.652839      229.0  5.526479e+05   743.402918\n1  2017               15264  13.462217      201.0  2.907185e+06  1705.046936",
      "text/html": "<div>\n<style scoped>\n    .dataframe tbody tr th:only-of-type {\n        vertical-align: middle;\n    }\n\n    .dataframe tbody tr th {\n        vertical-align: top;\n    }\n\n    .dataframe thead th {\n        text-align: right;\n    }\n</style>\n<table border=\"1\" class=\"dataframe\">\n  <thead>\n    <tr style=\"text-align: right;\">\n      <th></th>\n      <th>Year</th>\n      <th>Total UE, Absolute</th>\n      <th>UE Rate</th>\n      <th>UE Median</th>\n      <th>UE Var</th>\n      <th>UE STDEV</th>\n    </tr>\n  </thead>\n  <tbody>\n    <tr>\n      <th>0</th>\n      <td>1991</td>\n      <td>15098</td>\n      <td>12.652839</td>\n      <td>229.0</td>\n      <td>5.526479e+05</td>\n      <td>743.402918</td>\n    </tr>\n    <tr>\n      <th>1</th>\n      <td>2017</td>\n      <td>15264</td>\n      <td>13.462217</td>\n      <td>201.0</td>\n      <td>2.907185e+06</td>\n      <td>1705.046936</td>\n    </tr>\n  </tbody>\n</table>\n</div>"
     },
     "metadata": {},
     "output_type": "display_data"
    }
   ],
   "source": [
    "### Province 91\n",
    "## Calculating UE91 Variance & Standard Deviation\n",
    "var_ue91 = province91['UE91'].var()\n",
    "stdev_ue91 = province91['UE91'].std()\n",
    "\n",
    "### Province 17\n",
    "## Calculating UE17 Variance & Standard Deviation\n",
    "var_ue17 = province17['UE17'].var()\n",
    "stdev_ue17 = province17['UE17'].std()\n",
    "\n",
    "### Both\n",
    "display(pd.DataFrame({'Year': [\"1991\", \"2017\"],'Unemployment Var': [var_ue91, var_ue17],'Unemployment STDEV': [stdev_ue91, stdev_ue17]}))\n",
    "\n",
    "### Final\n",
    "display(pd.DataFrame({'Year': [\"1991\", \"2017\"],'Total UE, Absolute': [total_ue91, total_ue17],'UE Rate': [ur_91, ur_17],'UE Median': [median_ue91, median_ue17],'UE Var': [var_ue91, var_ue17],'UE STDEV': [stdev_ue91, stdev_ue17]}))"
   ],
   "metadata": {
    "collapsed": false,
    "ExecuteTime": {
     "end_time": "2024-01-23T14:21:50.389973200Z",
     "start_time": "2024-01-23T14:21:50.247758100Z"
    }
   },
   "id": "be811134a54f7e78"
  },
  {
   "cell_type": "markdown",
   "source": [
    "## # Reflection - Comparing Province91 with Province17\n",
    "\n",
    "When looking at the above table that compares all 1991 and 2017 values, we can see that the Unemployment rate did increase, but just barely. It is small enough (0.8% absolute change, or a 6.4% increase in 1991 vs 2017) that there is not much interesting information that it can provide alone. However, the variance/standard deviation - with a change from 743 to 1705, or a 129% increase - shows that the distribution from 1991 to 2017 did change significantly, meaning that on a region by region difference there are much clearer cases of higher and lower unemployment."
   ],
   "metadata": {
    "collapsed": false
   },
   "id": "15c7a50b063f3a83"
  },
  {
   "cell_type": "markdown",
   "source": [],
   "metadata": {
    "collapsed": false
   },
   "id": "402662ae2fb81ca3"
  }
 ],
 "metadata": {
  "kernelspec": {
   "display_name": "Python 3 (ipykernel)",
   "language": "python",
   "name": "python3"
  },
  "language_info": {
   "codemirror_mode": {
    "name": "ipython",
    "version": 3
   },
   "file_extension": ".py",
   "mimetype": "text/x-python",
   "name": "python",
   "nbconvert_exporter": "python",
   "pygments_lexer": "ipython3",
   "version": "3.12.0"
  }
 },
 "nbformat": 4,
 "nbformat_minor": 5
}
