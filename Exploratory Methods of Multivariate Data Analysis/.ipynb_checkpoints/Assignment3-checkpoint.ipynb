{
 "cells": [
  {
   "cell_type": "markdown",
   "id": "e00ac580f78ca0e7",
   "metadata": {
    "collapsed": false
   },
   "source": [
    "# Multivariate Data Analysis - Assignment 2\n",
    "#### Name: Kai Ferragallo-Hawkins\n",
    "#### Date: 22.3.2023"
   ]
  },
  {
   "cell_type": "markdown",
   "id": "2952141c6e2eb398",
   "metadata": {
    "collapsed": false
   },
   "source": [
    "# Exercise 3.1 - EFA for Global Development"
   ]
  },
  {
   "cell_type": "code",
   "execution_count": 2,
   "id": "initial_id",
   "metadata": {
    "collapsed": true,
    "jupyter": {
     "outputs_hidden": true
    },
    "ExecuteTime": {
     "end_time": "2024-04-06T14:00:23.789411800Z",
     "start_time": "2024-04-06T14:00:23.750114700Z"
    }
   },
   "outputs": [
    {
     "data": {
      "text/plain": "         country  electricity_access           gdp  gdp_capita  labor_rate  \\\n0    Afghanistan               90.08  1.883323e+10      536.23       47.28   \n1        Albania               99.94  1.285605e+10     4473.89       57.54   \n2        Algeria               99.49  1.677550e+11     4117.84       41.79   \n3         Angola               43.00  7.095638e+10     2395.27       77.28   \n4      Argentina               99.90  5.801820e+11    13246.88       59.17   \n..           ...                 ...           ...         ...         ...   \n181    Venezuela               99.62  2.708370e+11     8904.71       60.58   \n182      Vietnam               99.61  2.719540e+11     2903.81       76.38   \n183        Yemen               69.37  3.055268e+10     1038.42       37.45   \n184       Zambia               36.75  2.359868e+10     1382.20       58.70   \n185     Zimbabwe               41.39  2.306319e+10     1573.35       65.91   \n\n     labor_force  land_area  life_expectancy  adult_literacy  water_access  \\\n0     9103245.75   652230.0            62.97           59.56         66.61   \n1     1362512.25    27400.0            78.93           98.14         93.92   \n2    11979207.50  2381741.0            75.79           81.41         93.73   \n3    12467594.50  1246700.0            61.39           76.80         55.46   \n4    19579367.75  2736690.0            76.73           99.10         99.01   \n..           ...        ...              ...             ...           ...   \n181  13210887.75   882050.0            72.25           96.87         94.31   \n182  54856780.25   313400.5            73.94           76.80         93.84   \n183   6526029.50   527970.0            65.62           59.56         57.27   \n184   5499897.00   743390.0            61.87           86.75         64.39   \n185   5551153.50   386850.0            60.51           76.80         64.24   \n\n     ...  population_density   population  alcohol_consumption  \\\n0    ...               53.94  35179977.00               0.0087   \n1    ...              104.90   2874159.25               5.0375   \n2    ...               17.10  40736509.00               0.5844   \n3    ...               23.82  29691157.00               7.7588   \n4    ...               16.01  43815411.75               8.5713   \n..   ...                 ...          ...                  ...   \n181  ...               34.48  30415066.50               6.0500   \n182  ...              298.55  93566326.25               8.8537   \n183  ...               56.17  29653862.25               0.0402   \n184  ...               22.92  17037484.50               3.7277   \n185  ...               37.75  14602731.50               3.7479   \n\n     unemployment_rate  social_support  freedom  generosity  \\\n0               10.341           0.522    0.428      -0.014   \n1               14.633           0.650    0.752      -0.033   \n2               10.540           0.785    0.510      -0.182   \n3                9.557           0.755    0.375      -0.170   \n4                8.301           0.904    0.852      -0.187   \n..                 ...             ...      ...         ...   \n181              5.367           0.899    0.554      -0.190   \n182              1.683           0.852    0.902      -0.013   \n183             13.379           0.756    0.573      -0.131   \n184              7.556           0.730    0.796       0.057   \n185              6.035           0.758    0.729      -0.068   \n\n            income_class    cpi      continent  \n0             Low income  14.25           Asia  \n1    Upper middle income  37.25         Europe  \n2    Lower middle income  34.50         Africa  \n3    Lower middle income  17.75         Africa  \n4    Upper middle income  36.75  South America  \n..                   ...    ...            ...  \n181  Lower middle income  17.50  South America  \n182  Lower middle income  33.00           Asia  \n183           Low income  15.50           Asia  \n184  Lower middle income  37.00         Africa  \n185  Lower middle income  21.75         Africa  \n\n[186 rows x 21 columns]",
      "text/html": "<div>\n<style scoped>\n    .dataframe tbody tr th:only-of-type {\n        vertical-align: middle;\n    }\n\n    .dataframe tbody tr th {\n        vertical-align: top;\n    }\n\n    .dataframe thead th {\n        text-align: right;\n    }\n</style>\n<table border=\"1\" class=\"dataframe\">\n  <thead>\n    <tr style=\"text-align: right;\">\n      <th></th>\n      <th>country</th>\n      <th>electricity_access</th>\n      <th>gdp</th>\n      <th>gdp_capita</th>\n      <th>labor_rate</th>\n      <th>labor_force</th>\n      <th>land_area</th>\n      <th>life_expectancy</th>\n      <th>adult_literacy</th>\n      <th>water_access</th>\n      <th>...</th>\n      <th>population_density</th>\n      <th>population</th>\n      <th>alcohol_consumption</th>\n      <th>unemployment_rate</th>\n      <th>social_support</th>\n      <th>freedom</th>\n      <th>generosity</th>\n      <th>income_class</th>\n      <th>cpi</th>\n      <th>continent</th>\n    </tr>\n  </thead>\n  <tbody>\n    <tr>\n      <th>0</th>\n      <td>Afghanistan</td>\n      <td>90.08</td>\n      <td>1.883323e+10</td>\n      <td>536.23</td>\n      <td>47.28</td>\n      <td>9103245.75</td>\n      <td>652230.0</td>\n      <td>62.97</td>\n      <td>59.56</td>\n      <td>66.61</td>\n      <td>...</td>\n      <td>53.94</td>\n      <td>35179977.00</td>\n      <td>0.0087</td>\n      <td>10.341</td>\n      <td>0.522</td>\n      <td>0.428</td>\n      <td>-0.014</td>\n      <td>Low income</td>\n      <td>14.25</td>\n      <td>Asia</td>\n    </tr>\n    <tr>\n      <th>1</th>\n      <td>Albania</td>\n      <td>99.94</td>\n      <td>1.285605e+10</td>\n      <td>4473.89</td>\n      <td>57.54</td>\n      <td>1362512.25</td>\n      <td>27400.0</td>\n      <td>78.93</td>\n      <td>98.14</td>\n      <td>93.92</td>\n      <td>...</td>\n      <td>104.90</td>\n      <td>2874159.25</td>\n      <td>5.0375</td>\n      <td>14.633</td>\n      <td>0.650</td>\n      <td>0.752</td>\n      <td>-0.033</td>\n      <td>Upper middle income</td>\n      <td>37.25</td>\n      <td>Europe</td>\n    </tr>\n    <tr>\n      <th>2</th>\n      <td>Algeria</td>\n      <td>99.49</td>\n      <td>1.677550e+11</td>\n      <td>4117.84</td>\n      <td>41.79</td>\n      <td>11979207.50</td>\n      <td>2381741.0</td>\n      <td>75.79</td>\n      <td>81.41</td>\n      <td>93.73</td>\n      <td>...</td>\n      <td>17.10</td>\n      <td>40736509.00</td>\n      <td>0.5844</td>\n      <td>10.540</td>\n      <td>0.785</td>\n      <td>0.510</td>\n      <td>-0.182</td>\n      <td>Lower middle income</td>\n      <td>34.50</td>\n      <td>Africa</td>\n    </tr>\n    <tr>\n      <th>3</th>\n      <td>Angola</td>\n      <td>43.00</td>\n      <td>7.095638e+10</td>\n      <td>2395.27</td>\n      <td>77.28</td>\n      <td>12467594.50</td>\n      <td>1246700.0</td>\n      <td>61.39</td>\n      <td>76.80</td>\n      <td>55.46</td>\n      <td>...</td>\n      <td>23.82</td>\n      <td>29691157.00</td>\n      <td>7.7588</td>\n      <td>9.557</td>\n      <td>0.755</td>\n      <td>0.375</td>\n      <td>-0.170</td>\n      <td>Lower middle income</td>\n      <td>17.75</td>\n      <td>Africa</td>\n    </tr>\n    <tr>\n      <th>4</th>\n      <td>Argentina</td>\n      <td>99.90</td>\n      <td>5.801820e+11</td>\n      <td>13246.88</td>\n      <td>59.17</td>\n      <td>19579367.75</td>\n      <td>2736690.0</td>\n      <td>76.73</td>\n      <td>99.10</td>\n      <td>99.01</td>\n      <td>...</td>\n      <td>16.01</td>\n      <td>43815411.75</td>\n      <td>8.5713</td>\n      <td>8.301</td>\n      <td>0.904</td>\n      <td>0.852</td>\n      <td>-0.187</td>\n      <td>Upper middle income</td>\n      <td>36.75</td>\n      <td>South America</td>\n    </tr>\n    <tr>\n      <th>...</th>\n      <td>...</td>\n      <td>...</td>\n      <td>...</td>\n      <td>...</td>\n      <td>...</td>\n      <td>...</td>\n      <td>...</td>\n      <td>...</td>\n      <td>...</td>\n      <td>...</td>\n      <td>...</td>\n      <td>...</td>\n      <td>...</td>\n      <td>...</td>\n      <td>...</td>\n      <td>...</td>\n      <td>...</td>\n      <td>...</td>\n      <td>...</td>\n      <td>...</td>\n      <td>...</td>\n    </tr>\n    <tr>\n      <th>181</th>\n      <td>Venezuela</td>\n      <td>99.62</td>\n      <td>2.708370e+11</td>\n      <td>8904.71</td>\n      <td>60.58</td>\n      <td>13210887.75</td>\n      <td>882050.0</td>\n      <td>72.25</td>\n      <td>96.87</td>\n      <td>94.31</td>\n      <td>...</td>\n      <td>34.48</td>\n      <td>30415066.50</td>\n      <td>6.0500</td>\n      <td>5.367</td>\n      <td>0.899</td>\n      <td>0.554</td>\n      <td>-0.190</td>\n      <td>Lower middle income</td>\n      <td>17.50</td>\n      <td>South America</td>\n    </tr>\n    <tr>\n      <th>182</th>\n      <td>Vietnam</td>\n      <td>99.61</td>\n      <td>2.719540e+11</td>\n      <td>2903.81</td>\n      <td>76.38</td>\n      <td>54856780.25</td>\n      <td>313400.5</td>\n      <td>73.94</td>\n      <td>76.80</td>\n      <td>93.84</td>\n      <td>...</td>\n      <td>298.55</td>\n      <td>93566326.25</td>\n      <td>8.8537</td>\n      <td>1.683</td>\n      <td>0.852</td>\n      <td>0.902</td>\n      <td>-0.013</td>\n      <td>Lower middle income</td>\n      <td>33.00</td>\n      <td>Asia</td>\n    </tr>\n    <tr>\n      <th>183</th>\n      <td>Yemen</td>\n      <td>69.37</td>\n      <td>3.055268e+10</td>\n      <td>1038.42</td>\n      <td>37.45</td>\n      <td>6526029.50</td>\n      <td>527970.0</td>\n      <td>65.62</td>\n      <td>59.56</td>\n      <td>57.27</td>\n      <td>...</td>\n      <td>56.17</td>\n      <td>29653862.25</td>\n      <td>0.0402</td>\n      <td>13.379</td>\n      <td>0.756</td>\n      <td>0.573</td>\n      <td>-0.131</td>\n      <td>Low income</td>\n      <td>15.50</td>\n      <td>Asia</td>\n    </tr>\n    <tr>\n      <th>184</th>\n      <td>Zambia</td>\n      <td>36.75</td>\n      <td>2.359868e+10</td>\n      <td>1382.20</td>\n      <td>58.70</td>\n      <td>5499897.00</td>\n      <td>743390.0</td>\n      <td>61.87</td>\n      <td>86.75</td>\n      <td>64.39</td>\n      <td>...</td>\n      <td>22.92</td>\n      <td>17037484.50</td>\n      <td>3.7277</td>\n      <td>7.556</td>\n      <td>0.730</td>\n      <td>0.796</td>\n      <td>0.057</td>\n      <td>Lower middle income</td>\n      <td>37.00</td>\n      <td>Africa</td>\n    </tr>\n    <tr>\n      <th>185</th>\n      <td>Zimbabwe</td>\n      <td>41.39</td>\n      <td>2.306319e+10</td>\n      <td>1573.35</td>\n      <td>65.91</td>\n      <td>5551153.50</td>\n      <td>386850.0</td>\n      <td>60.51</td>\n      <td>76.80</td>\n      <td>64.24</td>\n      <td>...</td>\n      <td>37.75</td>\n      <td>14602731.50</td>\n      <td>3.7479</td>\n      <td>6.035</td>\n      <td>0.758</td>\n      <td>0.729</td>\n      <td>-0.068</td>\n      <td>Lower middle income</td>\n      <td>21.75</td>\n      <td>Africa</td>\n    </tr>\n  </tbody>\n</table>\n<p>186 rows × 21 columns</p>\n</div>"
     },
     "metadata": {},
     "output_type": "display_data"
    }
   ],
   "source": [
    "import pandas as pd\n",
    "import seaborn as sns\n",
    "\n",
    "# Importing Global Development Data\n",
    "global_development = pd.read_csv(\"data/worlddev.csv\")\n",
    "\n",
    "# Displaying the newly imported table\n",
    "display(global_development)"
   ]
  },
  {
   "cell_type": "markdown",
   "id": "3b1f2c9ce8f6b0d7",
   "metadata": {
    "collapsed": false
   },
   "source": [
    "## 2.1, Components & Variance\n"
   ]
  }
 ],
 "metadata": {
  "kernelspec": {
   "display_name": "Python 3 (ipykernel)",
   "language": "python",
   "name": "python3"
  },
  "language_info": {
   "codemirror_mode": {
    "name": "ipython",
    "version": 3
   },
   "file_extension": ".py",
   "mimetype": "text/x-python",
   "name": "python",
   "nbconvert_exporter": "python",
   "pygments_lexer": "ipython3",
   "version": "3.12.0"
  }
 },
 "nbformat": 4,
 "nbformat_minor": 5
}
